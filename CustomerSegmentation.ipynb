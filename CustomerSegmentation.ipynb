{
 "cells": [
  {
   "cell_type": "markdown",
   "metadata": {},
   "source": [
    "# Customer Segmentation"
   ]
  },
  {
   "cell_type": "markdown",
   "metadata": {},
   "source": [
    "### Explore and identify different segments present in the customer transaction data."
   ]
  },
  {
   "cell_type": "markdown",
   "metadata": {},
   "source": [
    "#### Output results: List of segments identified and user ids belonging to that segment"
   ]
  },
  {
   "cell_type": "markdown",
   "metadata": {},
   "source": [
    "Database contains information of purchase transaction of United Kingdom(maybe) based E-commerce company. Do customer segmentation based on their purchase trasactions."
   ]
  },
  {
   "cell_type": "markdown",
   "metadata": {},
   "source": [
    "Total 8 variables as follow:\n",
    "\n",
    "1. user_id \t\t\t\t- Unique identifier of a user.\n",
    "2. trans_id \t\t    - Unique identifier of a transaction. If the same, then all those products are bought together.\n",
    "3. trans_time\t\t    - Time at which the transaction is performed\n",
    "4. item_code\t\t\t- Unique identifier of the product purchased\n",
    "5. description\t\t    - Simple description of the product purchased\n",
    "6. quantity\t            - Quantity of the product purchased in the transaction\n",
    "7. unit_price\t\t\t- Price per each unit of the product\n",
    "8. country\t\t\t    - Country from which the purchase is made."
   ]
  },
  {
   "cell_type": "markdown",
   "metadata": {},
   "source": [
    "# Modules Loading"
   ]
  },
  {
   "cell_type": "code",
   "execution_count": 1,
   "metadata": {},
   "outputs": [],
   "source": [
    "# Import modules\n",
    "import numpy as np\n",
    "import pandas as pd\n",
    "from dateutil import tz\n",
    "import datetime, nltk, warnings\n",
    "from datetime import datetime, timedelta\n",
    "from nltk.corpus import stopwords\n",
    "from sklearn.feature_extraction.text import TfidfVectorizer \n",
    "from sklearn.cluster import KMeans\n",
    "from sklearn.metrics import silhouette_samples, silhouette_score\n",
    "from sklearn.decomposition import PCA\n",
    "from sklearn.preprocessing import StandardScaler\n",
    "import matplotlib.pyplot as plt\n",
    "%matplotlib inline\n",
    "import seaborn as sns\n",
    "\n",
    "\n",
    "# setting seaborn default for plots\n",
    "sns.set() "
   ]
  },
  {
   "cell_type": "markdown",
   "metadata": {},
   "source": [
    "# Data Preparation"
   ]
  },
  {
   "cell_type": "code",
   "execution_count": 2,
   "metadata": {},
   "outputs": [],
   "source": [
    "# Import Dataset\n",
    "df = pd.read_csv('/root/Keyur Khant/Study/Others/Argoid/Assignments/transaction_data.csv')"
   ]
  },
  {
   "cell_type": "code",
   "execution_count": 3,
   "metadata": {},
   "outputs": [
    {
     "name": "stdout",
     "output_type": "stream",
     "text": [
      "Shape of Dataset: (1083818, 8)\n"
     ]
    },
    {
     "data": {
      "text/html": [
       "<div>\n",
       "<style scoped>\n",
       "    .dataframe tbody tr th:only-of-type {\n",
       "        vertical-align: middle;\n",
       "    }\n",
       "\n",
       "    .dataframe tbody tr th {\n",
       "        vertical-align: top;\n",
       "    }\n",
       "\n",
       "    .dataframe thead th {\n",
       "        text-align: right;\n",
       "    }\n",
       "</style>\n",
       "<table border=\"1\" class=\"dataframe\">\n",
       "  <thead>\n",
       "    <tr style=\"text-align: right;\">\n",
       "      <th></th>\n",
       "      <th>UserId</th>\n",
       "      <th>TransactionId</th>\n",
       "      <th>TransactionTime</th>\n",
       "      <th>ItemCode</th>\n",
       "      <th>ItemDescription</th>\n",
       "      <th>NumberOfItemsPurchased</th>\n",
       "      <th>CostPerItem</th>\n",
       "      <th>Country</th>\n",
       "    </tr>\n",
       "  </thead>\n",
       "  <tbody>\n",
       "    <tr>\n",
       "      <td>0</td>\n",
       "      <td>278166</td>\n",
       "      <td>6355745</td>\n",
       "      <td>Sat Feb 02 12:50:00 IST 2019</td>\n",
       "      <td>465549</td>\n",
       "      <td>FAMILY ALBUM WHITE PICTURE FRAME</td>\n",
       "      <td>6</td>\n",
       "      <td>11.73</td>\n",
       "      <td>United Kingdom</td>\n",
       "    </tr>\n",
       "    <tr>\n",
       "      <td>1</td>\n",
       "      <td>337701</td>\n",
       "      <td>6283376</td>\n",
       "      <td>Wed Dec 26 09:06:00 IST 2018</td>\n",
       "      <td>482370</td>\n",
       "      <td>LONDON BUS COFFEE MUG</td>\n",
       "      <td>3</td>\n",
       "      <td>3.52</td>\n",
       "      <td>United Kingdom</td>\n",
       "    </tr>\n",
       "    <tr>\n",
       "      <td>2</td>\n",
       "      <td>267099</td>\n",
       "      <td>6385599</td>\n",
       "      <td>Fri Feb 15 09:45:00 IST 2019</td>\n",
       "      <td>490728</td>\n",
       "      <td>SET 12 COLOUR PENCILS DOLLY GIRL</td>\n",
       "      <td>72</td>\n",
       "      <td>0.90</td>\n",
       "      <td>France</td>\n",
       "    </tr>\n",
       "    <tr>\n",
       "      <td>3</td>\n",
       "      <td>380478</td>\n",
       "      <td>6044973</td>\n",
       "      <td>Fri Jun 22 07:14:00 IST 2018</td>\n",
       "      <td>459186</td>\n",
       "      <td>UNION JACK FLAG LUGGAGE TAG</td>\n",
       "      <td>3</td>\n",
       "      <td>1.73</td>\n",
       "      <td>United Kingdom</td>\n",
       "    </tr>\n",
       "    <tr>\n",
       "      <td>4</td>\n",
       "      <td>-1</td>\n",
       "      <td>6143225</td>\n",
       "      <td>Mon Sep 10 11:58:00 IST 2018</td>\n",
       "      <td>1733592</td>\n",
       "      <td>WASHROOM METAL SIGN</td>\n",
       "      <td>3</td>\n",
       "      <td>3.40</td>\n",
       "      <td>United Kingdom</td>\n",
       "    </tr>\n",
       "  </tbody>\n",
       "</table>\n",
       "</div>"
      ],
      "text/plain": [
       "   UserId  TransactionId               TransactionTime  ItemCode  \\\n",
       "0  278166        6355745  Sat Feb 02 12:50:00 IST 2019    465549   \n",
       "1  337701        6283376  Wed Dec 26 09:06:00 IST 2018    482370   \n",
       "2  267099        6385599  Fri Feb 15 09:45:00 IST 2019    490728   \n",
       "3  380478        6044973  Fri Jun 22 07:14:00 IST 2018    459186   \n",
       "4      -1        6143225  Mon Sep 10 11:58:00 IST 2018   1733592   \n",
       "\n",
       "                     ItemDescription  NumberOfItemsPurchased  CostPerItem  \\\n",
       "0   FAMILY ALBUM WHITE PICTURE FRAME                       6        11.73   \n",
       "1              LONDON BUS COFFEE MUG                       3         3.52   \n",
       "2  SET 12 COLOUR PENCILS DOLLY GIRL                       72         0.90   \n",
       "3        UNION JACK FLAG LUGGAGE TAG                       3         1.73   \n",
       "4                WASHROOM METAL SIGN                       3         3.40   \n",
       "\n",
       "          Country  \n",
       "0  United Kingdom  \n",
       "1  United Kingdom  \n",
       "2          France  \n",
       "3  United Kingdom  \n",
       "4  United Kingdom  "
      ]
     },
     "execution_count": 3,
     "metadata": {},
     "output_type": "execute_result"
    }
   ],
   "source": [
    "# Shape and top 5 row of dataframe\n",
    "print(\"Shape of Dataset:\", df.shape)\n",
    "df.head()"
   ]
  },
  {
   "cell_type": "code",
   "execution_count": 4,
   "metadata": {},
   "outputs": [],
   "source": [
    "# Change the column names\n",
    "df.rename(index=str, columns={'UserId': 'user_id',\n",
    "                              'TransactionId' : 'trans_id',\n",
    "                              'TransactionTime' : 'trans_time',\n",
    "                              'ItemCode' : 'item_code',\n",
    "                              'ItemDescription' : 'description',\n",
    "                              'NumberOfItemsPurchased' : 'quantity',\n",
    "                              'CostPerItem' : 'unit_price',\n",
    "                              'Country' : 'country'}, inplace=True)"
   ]
  },
  {
   "cell_type": "code",
   "execution_count": 5,
   "metadata": {},
   "outputs": [
    {
     "data": {
      "text/html": [
       "<div>\n",
       "<style scoped>\n",
       "    .dataframe tbody tr th:only-of-type {\n",
       "        vertical-align: middle;\n",
       "    }\n",
       "\n",
       "    .dataframe tbody tr th {\n",
       "        vertical-align: top;\n",
       "    }\n",
       "\n",
       "    .dataframe thead th {\n",
       "        text-align: right;\n",
       "    }\n",
       "</style>\n",
       "<table border=\"1\" class=\"dataframe\">\n",
       "  <thead>\n",
       "    <tr style=\"text-align: right;\">\n",
       "      <th></th>\n",
       "      <th>user_id</th>\n",
       "      <th>trans_id</th>\n",
       "      <th>trans_time</th>\n",
       "      <th>item_code</th>\n",
       "      <th>description</th>\n",
       "      <th>quantity</th>\n",
       "      <th>unit_price</th>\n",
       "      <th>country</th>\n",
       "    </tr>\n",
       "  </thead>\n",
       "  <tbody>\n",
       "    <tr>\n",
       "      <td>0</td>\n",
       "      <td>278166</td>\n",
       "      <td>6355745</td>\n",
       "      <td>Sat Feb 02 12:50:00 IST 2019</td>\n",
       "      <td>465549</td>\n",
       "      <td>FAMILY ALBUM WHITE PICTURE FRAME</td>\n",
       "      <td>6</td>\n",
       "      <td>11.73</td>\n",
       "      <td>United Kingdom</td>\n",
       "    </tr>\n",
       "    <tr>\n",
       "      <td>1</td>\n",
       "      <td>337701</td>\n",
       "      <td>6283376</td>\n",
       "      <td>Wed Dec 26 09:06:00 IST 2018</td>\n",
       "      <td>482370</td>\n",
       "      <td>LONDON BUS COFFEE MUG</td>\n",
       "      <td>3</td>\n",
       "      <td>3.52</td>\n",
       "      <td>United Kingdom</td>\n",
       "    </tr>\n",
       "    <tr>\n",
       "      <td>2</td>\n",
       "      <td>267099</td>\n",
       "      <td>6385599</td>\n",
       "      <td>Fri Feb 15 09:45:00 IST 2019</td>\n",
       "      <td>490728</td>\n",
       "      <td>SET 12 COLOUR PENCILS DOLLY GIRL</td>\n",
       "      <td>72</td>\n",
       "      <td>0.90</td>\n",
       "      <td>France</td>\n",
       "    </tr>\n",
       "    <tr>\n",
       "      <td>3</td>\n",
       "      <td>380478</td>\n",
       "      <td>6044973</td>\n",
       "      <td>Fri Jun 22 07:14:00 IST 2018</td>\n",
       "      <td>459186</td>\n",
       "      <td>UNION JACK FLAG LUGGAGE TAG</td>\n",
       "      <td>3</td>\n",
       "      <td>1.73</td>\n",
       "      <td>United Kingdom</td>\n",
       "    </tr>\n",
       "    <tr>\n",
       "      <td>4</td>\n",
       "      <td>-1</td>\n",
       "      <td>6143225</td>\n",
       "      <td>Mon Sep 10 11:58:00 IST 2018</td>\n",
       "      <td>1733592</td>\n",
       "      <td>WASHROOM METAL SIGN</td>\n",
       "      <td>3</td>\n",
       "      <td>3.40</td>\n",
       "      <td>United Kingdom</td>\n",
       "    </tr>\n",
       "  </tbody>\n",
       "</table>\n",
       "</div>"
      ],
      "text/plain": [
       "   user_id  trans_id                    trans_time  item_code  \\\n",
       "0   278166   6355745  Sat Feb 02 12:50:00 IST 2019     465549   \n",
       "1   337701   6283376  Wed Dec 26 09:06:00 IST 2018     482370   \n",
       "2   267099   6385599  Fri Feb 15 09:45:00 IST 2019     490728   \n",
       "3   380478   6044973  Fri Jun 22 07:14:00 IST 2018     459186   \n",
       "4       -1   6143225  Mon Sep 10 11:58:00 IST 2018    1733592   \n",
       "\n",
       "                         description  quantity  unit_price         country  \n",
       "0   FAMILY ALBUM WHITE PICTURE FRAME         6       11.73  United Kingdom  \n",
       "1              LONDON BUS COFFEE MUG         3        3.52  United Kingdom  \n",
       "2  SET 12 COLOUR PENCILS DOLLY GIRL         72        0.90          France  \n",
       "3        UNION JACK FLAG LUGGAGE TAG         3        1.73  United Kingdom  \n",
       "4                WASHROOM METAL SIGN         3        3.40  United Kingdom  "
      ]
     },
     "execution_count": 5,
     "metadata": {},
     "output_type": "execute_result"
    }
   ],
   "source": [
    "df.head()"
   ]
  },
  {
   "cell_type": "markdown",
   "metadata": {},
   "source": [
    "# Data Cleaning"
   ]
  },
  {
   "cell_type": "code",
   "execution_count": 6,
   "metadata": {},
   "outputs": [
    {
     "name": "stdout",
     "output_type": "stream",
     "text": [
      "<class 'pandas.core.frame.DataFrame'>\n",
      "Index: 1083818 entries, 0 to 1083817\n",
      "Data columns (total 8 columns):\n",
      "user_id        1083818 non-null int64\n",
      "trans_id       1083818 non-null int64\n",
      "trans_time     1083818 non-null object\n",
      "item_code      1083818 non-null int64\n",
      "description    1080910 non-null object\n",
      "quantity       1083818 non-null int64\n",
      "unit_price     1083818 non-null float64\n",
      "country        1083818 non-null object\n",
      "dtypes: float64(1), int64(4), object(3)\n",
      "memory usage: 74.4+ MB\n"
     ]
    }
   ],
   "source": [
    "# Information about data columns\n",
    "df.info()"
   ]
  },
  {
   "cell_type": "markdown",
   "metadata": {},
   "source": [
    "### Check Missing Values"
   ]
  },
  {
   "cell_type": "markdown",
   "metadata": {},
   "source": [
    "There are missing values in user_id with -1 value. So replace it to NULL"
   ]
  },
  {
   "cell_type": "code",
   "execution_count": 7,
   "metadata": {},
   "outputs": [],
   "source": [
    "# Replace -1 to NULL in user_id\n",
    "df['user_id'] = df['user_id'].replace(to_replace = -1, value = np.nan) "
   ]
  },
  {
   "cell_type": "code",
   "execution_count": 8,
   "metadata": {},
   "outputs": [
    {
     "name": "stdout",
     "output_type": "stream",
     "text": [
      "Dataframe Dimensions:  (1083818, 8)\n"
     ]
    },
    {
     "data": {
      "text/html": [
       "<div>\n",
       "<style scoped>\n",
       "    .dataframe tbody tr th:only-of-type {\n",
       "        vertical-align: middle;\n",
       "    }\n",
       "\n",
       "    .dataframe tbody tr th {\n",
       "        vertical-align: top;\n",
       "    }\n",
       "\n",
       "    .dataframe thead th {\n",
       "        text-align: right;\n",
       "    }\n",
       "</style>\n",
       "<table border=\"1\" class=\"dataframe\">\n",
       "  <thead>\n",
       "    <tr style=\"text-align: right;\">\n",
       "      <th></th>\n",
       "      <th>user_id</th>\n",
       "      <th>trans_id</th>\n",
       "      <th>trans_time</th>\n",
       "      <th>item_code</th>\n",
       "      <th>description</th>\n",
       "      <th>quantity</th>\n",
       "      <th>unit_price</th>\n",
       "      <th>country</th>\n",
       "    </tr>\n",
       "  </thead>\n",
       "  <tbody>\n",
       "    <tr>\n",
       "      <td>Column Type</td>\n",
       "      <td>float64</td>\n",
       "      <td>int64</td>\n",
       "      <td>object</td>\n",
       "      <td>int64</td>\n",
       "      <td>object</td>\n",
       "      <td>int64</td>\n",
       "      <td>float64</td>\n",
       "      <td>object</td>\n",
       "    </tr>\n",
       "    <tr>\n",
       "      <td>Null Values</td>\n",
       "      <td>270160</td>\n",
       "      <td>0</td>\n",
       "      <td>0</td>\n",
       "      <td>0</td>\n",
       "      <td>2908</td>\n",
       "      <td>0</td>\n",
       "      <td>0</td>\n",
       "      <td>0</td>\n",
       "    </tr>\n",
       "    <tr>\n",
       "      <td>Null Values in %</td>\n",
       "      <td>24.9267</td>\n",
       "      <td>0</td>\n",
       "      <td>0</td>\n",
       "      <td>0</td>\n",
       "      <td>0.268311</td>\n",
       "      <td>0</td>\n",
       "      <td>0</td>\n",
       "      <td>0</td>\n",
       "    </tr>\n",
       "  </tbody>\n",
       "</table>\n",
       "</div>"
      ],
      "text/plain": [
       "                  user_id trans_id trans_time item_code description quantity  \\\n",
       "Column Type       float64    int64     object     int64      object    int64   \n",
       "Null Values        270160        0          0         0        2908        0   \n",
       "Null Values in %  24.9267        0          0         0    0.268311        0   \n",
       "\n",
       "                 unit_price country  \n",
       "Column Type         float64  object  \n",
       "Null Values               0       0  \n",
       "Null Values in %          0       0  "
      ]
     },
     "execution_count": 8,
     "metadata": {},
     "output_type": "execute_result"
    }
   ],
   "source": [
    "# Show all null value count with percentage and column type\n",
    "tab = pd.DataFrame(df.dtypes).T.rename(index={0:'Column Type'})\n",
    "tab = tab.append(pd.DataFrame(df.isnull().sum()).T.rename(index={0:'Null Values'}))\n",
    "tab = tab.append(pd.DataFrame(df.isnull().sum()/df.shape[0]*100).T.rename(index={0:'Null Values in %'}))\n",
    "\n",
    "print(\"Dataframe Dimensions: \", df.shape)\n",
    "tab"
   ]
  },
  {
   "cell_type": "markdown",
   "metadata": {},
   "source": [
    "Looking at NULL values we can note that 24.93% (~25%) of the entries are not belonging to any user. These entries are useless. So, we can simply remove it."
   ]
  },
  {
   "cell_type": "code",
   "execution_count": 9,
   "metadata": {},
   "outputs": [
    {
     "name": "stdout",
     "output_type": "stream",
     "text": [
      "Dataframe Dimensions:  (813658, 8)\n"
     ]
    },
    {
     "data": {
      "text/html": [
       "<div>\n",
       "<style scoped>\n",
       "    .dataframe tbody tr th:only-of-type {\n",
       "        vertical-align: middle;\n",
       "    }\n",
       "\n",
       "    .dataframe tbody tr th {\n",
       "        vertical-align: top;\n",
       "    }\n",
       "\n",
       "    .dataframe thead th {\n",
       "        text-align: right;\n",
       "    }\n",
       "</style>\n",
       "<table border=\"1\" class=\"dataframe\">\n",
       "  <thead>\n",
       "    <tr style=\"text-align: right;\">\n",
       "      <th></th>\n",
       "      <th>user_id</th>\n",
       "      <th>trans_id</th>\n",
       "      <th>trans_time</th>\n",
       "      <th>item_code</th>\n",
       "      <th>description</th>\n",
       "      <th>quantity</th>\n",
       "      <th>unit_price</th>\n",
       "      <th>country</th>\n",
       "    </tr>\n",
       "  </thead>\n",
       "  <tbody>\n",
       "    <tr>\n",
       "      <td>Column Type</td>\n",
       "      <td>float64</td>\n",
       "      <td>int64</td>\n",
       "      <td>object</td>\n",
       "      <td>int64</td>\n",
       "      <td>object</td>\n",
       "      <td>int64</td>\n",
       "      <td>float64</td>\n",
       "      <td>object</td>\n",
       "    </tr>\n",
       "    <tr>\n",
       "      <td>Null Values</td>\n",
       "      <td>0</td>\n",
       "      <td>0</td>\n",
       "      <td>0</td>\n",
       "      <td>0</td>\n",
       "      <td>0</td>\n",
       "      <td>0</td>\n",
       "      <td>0</td>\n",
       "      <td>0</td>\n",
       "    </tr>\n",
       "    <tr>\n",
       "      <td>Null Values in %</td>\n",
       "      <td>0</td>\n",
       "      <td>0</td>\n",
       "      <td>0</td>\n",
       "      <td>0</td>\n",
       "      <td>0</td>\n",
       "      <td>0</td>\n",
       "      <td>0</td>\n",
       "      <td>0</td>\n",
       "    </tr>\n",
       "  </tbody>\n",
       "</table>\n",
       "</div>"
      ],
      "text/plain": [
       "                  user_id trans_id trans_time item_code description quantity  \\\n",
       "Column Type       float64    int64     object     int64      object    int64   \n",
       "Null Values             0        0          0         0           0        0   \n",
       "Null Values in %        0        0          0         0           0        0   \n",
       "\n",
       "                 unit_price country  \n",
       "Column Type         float64  object  \n",
       "Null Values               0       0  \n",
       "Null Values in %          0       0  "
      ]
     },
     "execution_count": 9,
     "metadata": {},
     "output_type": "execute_result"
    }
   ],
   "source": [
    "# Remove NULL values\n",
    "df.dropna(axis = 0, subset = ['user_id'], inplace = True)\n",
    "\n",
    "# Again check is any NULL value remain\n",
    "tab = pd.DataFrame(df.dtypes).T.rename(index={0:'Column Type'})\n",
    "tab = tab.append(pd.DataFrame(df.isnull().sum()).T.rename(index={0:'Null Values'}))\n",
    "tab = tab.append(pd.DataFrame(df.isnull().sum()/df.shape[0]*100).T.rename(index={0:'Null Values in %'}))\n",
    "\n",
    "print('Dataframe Dimensions: ', df.shape)\n",
    "tab"
   ]
  },
  {
   "cell_type": "markdown",
   "metadata": {},
   "source": [
    "### Check Duplicate Entries"
   ]
  },
  {
   "cell_type": "code",
   "execution_count": 10,
   "metadata": {},
   "outputs": [
    {
     "name": "stdout",
     "output_type": "stream",
     "text": [
      "Total Duplicate Entries:  412089\n",
      "Percentage of Duplication:  50.65 %\n"
     ]
    }
   ],
   "source": [
    "# Is any entries are duplicate or not?\n",
    "print('Total Duplicate Entries: ' , df.duplicated().sum())\n",
    "print('Percentage of Duplication: ' , (df.duplicated().sum() / len(df) * 100).round(2) , '%')"
   ]
  },
  {
   "cell_type": "markdown",
   "metadata": {},
   "source": [
    "Above result shows that more than 50% of the data are duplicated. So take first and remove all its duplicates."
   ]
  },
  {
   "cell_type": "code",
   "execution_count": 11,
   "metadata": {},
   "outputs": [],
   "source": [
    "# Remove duplicate data\n",
    "df.drop_duplicates(inplace = True)"
   ]
  },
  {
   "cell_type": "code",
   "execution_count": 12,
   "metadata": {},
   "outputs": [
    {
     "name": "stdout",
     "output_type": "stream",
     "text": [
      "Dataframe Dimensions:  (401569, 8)\n"
     ]
    },
    {
     "data": {
      "text/html": [
       "<div>\n",
       "<style scoped>\n",
       "    .dataframe tbody tr th:only-of-type {\n",
       "        vertical-align: middle;\n",
       "    }\n",
       "\n",
       "    .dataframe tbody tr th {\n",
       "        vertical-align: top;\n",
       "    }\n",
       "\n",
       "    .dataframe thead th {\n",
       "        text-align: right;\n",
       "    }\n",
       "</style>\n",
       "<table border=\"1\" class=\"dataframe\">\n",
       "  <thead>\n",
       "    <tr style=\"text-align: right;\">\n",
       "      <th></th>\n",
       "      <th>user_id</th>\n",
       "      <th>trans_id</th>\n",
       "      <th>trans_time</th>\n",
       "      <th>item_code</th>\n",
       "      <th>description</th>\n",
       "      <th>quantity</th>\n",
       "      <th>unit_price</th>\n",
       "      <th>country</th>\n",
       "    </tr>\n",
       "  </thead>\n",
       "  <tbody>\n",
       "    <tr>\n",
       "      <td>0</td>\n",
       "      <td>278166.0</td>\n",
       "      <td>6355745</td>\n",
       "      <td>Sat Feb 02 12:50:00 IST 2019</td>\n",
       "      <td>465549</td>\n",
       "      <td>FAMILY ALBUM WHITE PICTURE FRAME</td>\n",
       "      <td>6</td>\n",
       "      <td>11.73</td>\n",
       "      <td>United Kingdom</td>\n",
       "    </tr>\n",
       "    <tr>\n",
       "      <td>1</td>\n",
       "      <td>337701.0</td>\n",
       "      <td>6283376</td>\n",
       "      <td>Wed Dec 26 09:06:00 IST 2018</td>\n",
       "      <td>482370</td>\n",
       "      <td>LONDON BUS COFFEE MUG</td>\n",
       "      <td>3</td>\n",
       "      <td>3.52</td>\n",
       "      <td>United Kingdom</td>\n",
       "    </tr>\n",
       "    <tr>\n",
       "      <td>2</td>\n",
       "      <td>267099.0</td>\n",
       "      <td>6385599</td>\n",
       "      <td>Fri Feb 15 09:45:00 IST 2019</td>\n",
       "      <td>490728</td>\n",
       "      <td>SET 12 COLOUR PENCILS DOLLY GIRL</td>\n",
       "      <td>72</td>\n",
       "      <td>0.90</td>\n",
       "      <td>France</td>\n",
       "    </tr>\n",
       "    <tr>\n",
       "      <td>3</td>\n",
       "      <td>380478.0</td>\n",
       "      <td>6044973</td>\n",
       "      <td>Fri Jun 22 07:14:00 IST 2018</td>\n",
       "      <td>459186</td>\n",
       "      <td>UNION JACK FLAG LUGGAGE TAG</td>\n",
       "      <td>3</td>\n",
       "      <td>1.73</td>\n",
       "      <td>United Kingdom</td>\n",
       "    </tr>\n",
       "    <tr>\n",
       "      <td>5</td>\n",
       "      <td>285957.0</td>\n",
       "      <td>6307136</td>\n",
       "      <td>Fri Jan 11 09:50:00 IST 2019</td>\n",
       "      <td>1787247</td>\n",
       "      <td>CUT GLASS T-LIGHT HOLDER OCTAGON</td>\n",
       "      <td>12</td>\n",
       "      <td>3.52</td>\n",
       "      <td>United Kingdom</td>\n",
       "    </tr>\n",
       "  </tbody>\n",
       "</table>\n",
       "</div>"
      ],
      "text/plain": [
       "    user_id  trans_id                    trans_time  item_code  \\\n",
       "0  278166.0   6355745  Sat Feb 02 12:50:00 IST 2019     465549   \n",
       "1  337701.0   6283376  Wed Dec 26 09:06:00 IST 2018     482370   \n",
       "2  267099.0   6385599  Fri Feb 15 09:45:00 IST 2019     490728   \n",
       "3  380478.0   6044973  Fri Jun 22 07:14:00 IST 2018     459186   \n",
       "5  285957.0   6307136  Fri Jan 11 09:50:00 IST 2019    1787247   \n",
       "\n",
       "                         description  quantity  unit_price         country  \n",
       "0   FAMILY ALBUM WHITE PICTURE FRAME         6       11.73  United Kingdom  \n",
       "1              LONDON BUS COFFEE MUG         3        3.52  United Kingdom  \n",
       "2  SET 12 COLOUR PENCILS DOLLY GIRL         72        0.90          France  \n",
       "3        UNION JACK FLAG LUGGAGE TAG         3        1.73  United Kingdom  \n",
       "5   CUT GLASS T-LIGHT HOLDER OCTAGON        12        3.52  United Kingdom  "
      ]
     },
     "execution_count": 12,
     "metadata": {},
     "output_type": "execute_result"
    }
   ],
   "source": [
    "print('Dataframe Dimensions: ', df.shape)\n",
    "df.head()"
   ]
  },
  {
   "cell_type": "markdown",
   "metadata": {},
   "source": [
    "### Convert time(object) to datetime"
   ]
  },
  {
   "cell_type": "code",
   "execution_count": 13,
   "metadata": {},
   "outputs": [],
   "source": [
    "# Covert Object type of trans_time into datetime format\n",
    "df['trans_time'] = pd.to_datetime(df['trans_time'])"
   ]
  },
  {
   "cell_type": "code",
   "execution_count": 14,
   "metadata": {},
   "outputs": [
    {
     "data": {
      "text/html": [
       "<div>\n",
       "<style scoped>\n",
       "    .dataframe tbody tr th:only-of-type {\n",
       "        vertical-align: middle;\n",
       "    }\n",
       "\n",
       "    .dataframe tbody tr th {\n",
       "        vertical-align: top;\n",
       "    }\n",
       "\n",
       "    .dataframe thead th {\n",
       "        text-align: right;\n",
       "    }\n",
       "</style>\n",
       "<table border=\"1\" class=\"dataframe\">\n",
       "  <thead>\n",
       "    <tr style=\"text-align: right;\">\n",
       "      <th></th>\n",
       "      <th>user_id</th>\n",
       "      <th>trans_id</th>\n",
       "      <th>trans_time</th>\n",
       "      <th>item_code</th>\n",
       "      <th>description</th>\n",
       "      <th>quantity</th>\n",
       "      <th>unit_price</th>\n",
       "      <th>country</th>\n",
       "    </tr>\n",
       "  </thead>\n",
       "  <tbody>\n",
       "    <tr>\n",
       "      <td>0</td>\n",
       "      <td>278166.0</td>\n",
       "      <td>6355745</td>\n",
       "      <td>2019-02-02 12:50:00+05:30</td>\n",
       "      <td>465549</td>\n",
       "      <td>FAMILY ALBUM WHITE PICTURE FRAME</td>\n",
       "      <td>6</td>\n",
       "      <td>11.73</td>\n",
       "      <td>United Kingdom</td>\n",
       "    </tr>\n",
       "    <tr>\n",
       "      <td>1</td>\n",
       "      <td>337701.0</td>\n",
       "      <td>6283376</td>\n",
       "      <td>2018-12-26 09:06:00+05:30</td>\n",
       "      <td>482370</td>\n",
       "      <td>LONDON BUS COFFEE MUG</td>\n",
       "      <td>3</td>\n",
       "      <td>3.52</td>\n",
       "      <td>United Kingdom</td>\n",
       "    </tr>\n",
       "    <tr>\n",
       "      <td>2</td>\n",
       "      <td>267099.0</td>\n",
       "      <td>6385599</td>\n",
       "      <td>2019-02-15 09:45:00+05:30</td>\n",
       "      <td>490728</td>\n",
       "      <td>SET 12 COLOUR PENCILS DOLLY GIRL</td>\n",
       "      <td>72</td>\n",
       "      <td>0.90</td>\n",
       "      <td>France</td>\n",
       "    </tr>\n",
       "    <tr>\n",
       "      <td>3</td>\n",
       "      <td>380478.0</td>\n",
       "      <td>6044973</td>\n",
       "      <td>2018-06-22 07:14:00+05:30</td>\n",
       "      <td>459186</td>\n",
       "      <td>UNION JACK FLAG LUGGAGE TAG</td>\n",
       "      <td>3</td>\n",
       "      <td>1.73</td>\n",
       "      <td>United Kingdom</td>\n",
       "    </tr>\n",
       "    <tr>\n",
       "      <td>5</td>\n",
       "      <td>285957.0</td>\n",
       "      <td>6307136</td>\n",
       "      <td>2019-01-11 09:50:00+05:30</td>\n",
       "      <td>1787247</td>\n",
       "      <td>CUT GLASS T-LIGHT HOLDER OCTAGON</td>\n",
       "      <td>12</td>\n",
       "      <td>3.52</td>\n",
       "      <td>United Kingdom</td>\n",
       "    </tr>\n",
       "  </tbody>\n",
       "</table>\n",
       "</div>"
      ],
      "text/plain": [
       "    user_id  trans_id                trans_time  item_code  \\\n",
       "0  278166.0   6355745 2019-02-02 12:50:00+05:30     465549   \n",
       "1  337701.0   6283376 2018-12-26 09:06:00+05:30     482370   \n",
       "2  267099.0   6385599 2019-02-15 09:45:00+05:30     490728   \n",
       "3  380478.0   6044973 2018-06-22 07:14:00+05:30     459186   \n",
       "5  285957.0   6307136 2019-01-11 09:50:00+05:30    1787247   \n",
       "\n",
       "                         description  quantity  unit_price         country  \n",
       "0   FAMILY ALBUM WHITE PICTURE FRAME         6       11.73  United Kingdom  \n",
       "1              LONDON BUS COFFEE MUG         3        3.52  United Kingdom  \n",
       "2  SET 12 COLOUR PENCILS DOLLY GIRL         72        0.90          France  \n",
       "3        UNION JACK FLAG LUGGAGE TAG         3        1.73  United Kingdom  \n",
       "5   CUT GLASS T-LIGHT HOLDER OCTAGON        12        3.52  United Kingdom  "
      ]
     },
     "execution_count": 14,
     "metadata": {},
     "output_type": "execute_result"
    }
   ],
   "source": [
    "# Here you can see that date in UTC format.\n",
    "df.head()"
   ]
  },
  {
   "cell_type": "code",
   "execution_count": 15,
   "metadata": {},
   "outputs": [],
   "source": [
    "#Convert to IST by adding 5:30\n",
    "df['trans_time'] = df['trans_time'] + timedelta(hours = 5, minutes = 30)"
   ]
  },
  {
   "cell_type": "code",
   "execution_count": 16,
   "metadata": {},
   "outputs": [
    {
     "name": "stdout",
     "output_type": "stream",
     "text": [
      "Min Date: 2018-02-12 09:56:00+05:30 \t Max Date: 2028-02-18 18:49:00+05:30\n"
     ]
    }
   ],
   "source": [
    "# Check the date variations in the DataFrame\n",
    "print(\"Min Date: {} \\t Max Date: {}\".format(df['trans_time'].min(), df['trans_time'].max()))"
   ]
  },
  {
   "cell_type": "markdown",
   "metadata": {},
   "source": [
    "Here some date has year 2028. It may be error in entry instred of 2018."
   ]
  },
  {
   "cell_type": "code",
   "execution_count": 17,
   "metadata": {},
   "outputs": [
    {
     "name": "stdout",
     "output_type": "stream",
     "text": [
      "Number of Entry with wrong year(2028) : 1117\n"
     ]
    },
    {
     "data": {
      "text/html": [
       "<div>\n",
       "<style scoped>\n",
       "    .dataframe tbody tr th:only-of-type {\n",
       "        vertical-align: middle;\n",
       "    }\n",
       "\n",
       "    .dataframe tbody tr th {\n",
       "        vertical-align: top;\n",
       "    }\n",
       "\n",
       "    .dataframe thead th {\n",
       "        text-align: right;\n",
       "    }\n",
       "</style>\n",
       "<table border=\"1\" class=\"dataframe\">\n",
       "  <thead>\n",
       "    <tr style=\"text-align: right;\">\n",
       "      <th></th>\n",
       "      <th>user_id</th>\n",
       "      <th>trans_id</th>\n",
       "      <th>trans_time</th>\n",
       "      <th>item_code</th>\n",
       "      <th>description</th>\n",
       "      <th>quantity</th>\n",
       "      <th>unit_price</th>\n",
       "      <th>country</th>\n",
       "    </tr>\n",
       "  </thead>\n",
       "  <tbody>\n",
       "    <tr>\n",
       "      <td>241</td>\n",
       "      <td>366870.0</td>\n",
       "      <td>5912049</td>\n",
       "      <td>2028-02-18 11:27:00+05:30</td>\n",
       "      <td>473613</td>\n",
       "      <td>PLASTERS IN TIN SKULLS</td>\n",
       "      <td>36</td>\n",
       "      <td>2.28</td>\n",
       "      <td>United Kingdom</td>\n",
       "    </tr>\n",
       "    <tr>\n",
       "      <td>602</td>\n",
       "      <td>369411.0</td>\n",
       "      <td>5914106</td>\n",
       "      <td>2028-02-18 17:09:00+05:30</td>\n",
       "      <td>481278</td>\n",
       "      <td>HERB MARKER PARSLEY</td>\n",
       "      <td>3</td>\n",
       "      <td>0.90</td>\n",
       "      <td>United Kingdom</td>\n",
       "    </tr>\n",
       "    <tr>\n",
       "      <td>1070</td>\n",
       "      <td>259287.0</td>\n",
       "      <td>5913886</td>\n",
       "      <td>2028-02-18 16:27:00+05:30</td>\n",
       "      <td>477246</td>\n",
       "      <td>ALARM CLOCK BAKELIKE GREEN</td>\n",
       "      <td>12</td>\n",
       "      <td>5.18</td>\n",
       "      <td>Iceland</td>\n",
       "    </tr>\n",
       "    <tr>\n",
       "      <td>1610</td>\n",
       "      <td>267708.0</td>\n",
       "      <td>5913864</td>\n",
       "      <td>2028-02-18 16:11:00+05:30</td>\n",
       "      <td>458346</td>\n",
       "      <td>EIGHT PIECE DINOSAUR SET</td>\n",
       "      <td>9</td>\n",
       "      <td>1.73</td>\n",
       "      <td>United Kingdom</td>\n",
       "    </tr>\n",
       "    <tr>\n",
       "      <td>1792</td>\n",
       "      <td>315504.0</td>\n",
       "      <td>5913688</td>\n",
       "      <td>2028-02-18 14:50:00+05:30</td>\n",
       "      <td>453432</td>\n",
       "      <td>RETROSPOT CIGAR BOX MATCHES</td>\n",
       "      <td>12</td>\n",
       "      <td>1.73</td>\n",
       "      <td>United Kingdom</td>\n",
       "    </tr>\n",
       "  </tbody>\n",
       "</table>\n",
       "</div>"
      ],
      "text/plain": [
       "       user_id  trans_id                trans_time  item_code  \\\n",
       "241   366870.0   5912049 2028-02-18 11:27:00+05:30     473613   \n",
       "602   369411.0   5914106 2028-02-18 17:09:00+05:30     481278   \n",
       "1070  259287.0   5913886 2028-02-18 16:27:00+05:30     477246   \n",
       "1610  267708.0   5913864 2028-02-18 16:11:00+05:30     458346   \n",
       "1792  315504.0   5913688 2028-02-18 14:50:00+05:30     453432   \n",
       "\n",
       "                       description  quantity  unit_price         country  \n",
       "241         PLASTERS IN TIN SKULLS        36        2.28  United Kingdom  \n",
       "602            HERB MARKER PARSLEY         3        0.90  United Kingdom  \n",
       "1070    ALARM CLOCK BAKELIKE GREEN        12        5.18         Iceland  \n",
       "1610      EIGHT PIECE DINOSAUR SET         9        1.73  United Kingdom  \n",
       "1792  RETROSPOT CIGAR BOX MATCHES         12        1.73  United Kingdom  "
      ]
     },
     "execution_count": 17,
     "metadata": {},
     "output_type": "execute_result"
    }
   ],
   "source": [
    "# Check how many entry has year 2028.\n",
    "temp = df[df['trans_time'].dt.year == 2028]\n",
    "print(\"Number of Entry with wrong year(2028) :\" , len(temp))\n",
    "temp.head()"
   ]
  },
  {
   "cell_type": "code",
   "execution_count": 18,
   "metadata": {},
   "outputs": [
    {
     "name": "stdout",
     "output_type": "stream",
     "text": [
      "Number of Entries with date 18-02-2018 is: 0\n"
     ]
    }
   ],
   "source": [
    "# Check same month and date for year 2018.\n",
    "temp2 = df[(df['trans_time'].dt.year == 2018) & (df['trans_time'].dt.month == 2) & (df['trans_time'].dt.day == 18)]\n",
    "print(\"Number of Entries with date 18-02-2018 is:\" , len(temp2))"
   ]
  },
  {
   "cell_type": "markdown",
   "metadata": {},
   "source": [
    "Here you notice that only 18/02/2018 has no transaction and all the entries with year 2028 has date 18/02. So, it is confirmed that there is year 2018 in place of 2028 and all other will remain same."
   ]
  },
  {
   "cell_type": "code",
   "execution_count": 19,
   "metadata": {},
   "outputs": [
    {
     "name": "stderr",
     "output_type": "stream",
     "text": [
      "/root/anaconda3/lib/python3.7/site-packages/pandas/core/arrays/datetimes.py:837: PerformanceWarning: Non-vectorized DateOffset being applied to Series or DatetimeIndex\n",
      "  PerformanceWarning,\n"
     ]
    }
   ],
   "source": [
    "# Replace 2028 to 2018\n",
    "df['trans_time'] = df['trans_time'].mask(df['trans_time'].dt.year == 2028,df['trans_time'] + pd.offsets.DateOffset(year=2018))"
   ]
  },
  {
   "cell_type": "code",
   "execution_count": 20,
   "metadata": {},
   "outputs": [
    {
     "data": {
      "text/html": [
       "<div>\n",
       "<style scoped>\n",
       "    .dataframe tbody tr th:only-of-type {\n",
       "        vertical-align: middle;\n",
       "    }\n",
       "\n",
       "    .dataframe tbody tr th {\n",
       "        vertical-align: top;\n",
       "    }\n",
       "\n",
       "    .dataframe thead th {\n",
       "        text-align: right;\n",
       "    }\n",
       "</style>\n",
       "<table border=\"1\" class=\"dataframe\">\n",
       "  <thead>\n",
       "    <tr style=\"text-align: right;\">\n",
       "      <th></th>\n",
       "      <th>user_id</th>\n",
       "      <th>trans_id</th>\n",
       "      <th>trans_time</th>\n",
       "      <th>item_code</th>\n",
       "      <th>description</th>\n",
       "      <th>quantity</th>\n",
       "      <th>unit_price</th>\n",
       "      <th>country</th>\n",
       "    </tr>\n",
       "  </thead>\n",
       "  <tbody>\n",
       "    <tr>\n",
       "      <td>0</td>\n",
       "      <td>278166.0</td>\n",
       "      <td>6355745</td>\n",
       "      <td>2019-02-02 18:20:00+05:30</td>\n",
       "      <td>465549</td>\n",
       "      <td>FAMILY ALBUM WHITE PICTURE FRAME</td>\n",
       "      <td>6</td>\n",
       "      <td>11.73</td>\n",
       "      <td>United Kingdom</td>\n",
       "    </tr>\n",
       "    <tr>\n",
       "      <td>1</td>\n",
       "      <td>337701.0</td>\n",
       "      <td>6283376</td>\n",
       "      <td>2018-12-26 14:36:00+05:30</td>\n",
       "      <td>482370</td>\n",
       "      <td>LONDON BUS COFFEE MUG</td>\n",
       "      <td>3</td>\n",
       "      <td>3.52</td>\n",
       "      <td>United Kingdom</td>\n",
       "    </tr>\n",
       "    <tr>\n",
       "      <td>2</td>\n",
       "      <td>267099.0</td>\n",
       "      <td>6385599</td>\n",
       "      <td>2019-02-15 15:15:00+05:30</td>\n",
       "      <td>490728</td>\n",
       "      <td>SET 12 COLOUR PENCILS DOLLY GIRL</td>\n",
       "      <td>72</td>\n",
       "      <td>0.90</td>\n",
       "      <td>France</td>\n",
       "    </tr>\n",
       "    <tr>\n",
       "      <td>3</td>\n",
       "      <td>380478.0</td>\n",
       "      <td>6044973</td>\n",
       "      <td>2018-06-22 12:44:00+05:30</td>\n",
       "      <td>459186</td>\n",
       "      <td>UNION JACK FLAG LUGGAGE TAG</td>\n",
       "      <td>3</td>\n",
       "      <td>1.73</td>\n",
       "      <td>United Kingdom</td>\n",
       "    </tr>\n",
       "    <tr>\n",
       "      <td>5</td>\n",
       "      <td>285957.0</td>\n",
       "      <td>6307136</td>\n",
       "      <td>2019-01-11 15:20:00+05:30</td>\n",
       "      <td>1787247</td>\n",
       "      <td>CUT GLASS T-LIGHT HOLDER OCTAGON</td>\n",
       "      <td>12</td>\n",
       "      <td>3.52</td>\n",
       "      <td>United Kingdom</td>\n",
       "    </tr>\n",
       "  </tbody>\n",
       "</table>\n",
       "</div>"
      ],
      "text/plain": [
       "    user_id  trans_id                trans_time  item_code  \\\n",
       "0  278166.0   6355745 2019-02-02 18:20:00+05:30     465549   \n",
       "1  337701.0   6283376 2018-12-26 14:36:00+05:30     482370   \n",
       "2  267099.0   6385599 2019-02-15 15:15:00+05:30     490728   \n",
       "3  380478.0   6044973 2018-06-22 12:44:00+05:30     459186   \n",
       "5  285957.0   6307136 2019-01-11 15:20:00+05:30    1787247   \n",
       "\n",
       "                         description  quantity  unit_price         country  \n",
       "0   FAMILY ALBUM WHITE PICTURE FRAME         6       11.73  United Kingdom  \n",
       "1              LONDON BUS COFFEE MUG         3        3.52  United Kingdom  \n",
       "2  SET 12 COLOUR PENCILS DOLLY GIRL         72        0.90          France  \n",
       "3        UNION JACK FLAG LUGGAGE TAG         3        1.73  United Kingdom  \n",
       "5   CUT GLASS T-LIGHT HOLDER OCTAGON        12        3.52  United Kingdom  "
      ]
     },
     "execution_count": 20,
     "metadata": {},
     "output_type": "execute_result"
    }
   ],
   "source": [
    "df.head()"
   ]
  },
  {
   "cell_type": "code",
   "execution_count": 21,
   "metadata": {},
   "outputs": [
    {
     "name": "stdout",
     "output_type": "stream",
     "text": [
      "Final Interval of Dates.........\n",
      "Min Date: 2018-02-12 09:56:00+05:30 \t Max Date: 2019-02-20 14:20:00+05:30\n"
     ]
    }
   ],
   "source": [
    "# Check the date variations in the DataFrame\n",
    "print(\"Final Interval of Dates.........\")\n",
    "print(\"Min Date: {} \\t Max Date: {}\".format(df['trans_time'].min(), df['trans_time'].max()))"
   ]
  },
  {
   "cell_type": "markdown",
   "metadata": {},
   "source": [
    "# Variables Exploring & Cleaning"
   ]
  },
  {
   "cell_type": "markdown",
   "metadata": {},
   "source": [
    "### Changes in item_code column "
   ]
  },
  {
   "cell_type": "code",
   "execution_count": 22,
   "metadata": {},
   "outputs": [
    {
     "name": "stdout",
     "output_type": "stream",
     "text": [
      "Number of Rows with -1 in item_code:  1781\n"
     ]
    },
    {
     "data": {
      "text/html": [
       "<div>\n",
       "<style scoped>\n",
       "    .dataframe tbody tr th:only-of-type {\n",
       "        vertical-align: middle;\n",
       "    }\n",
       "\n",
       "    .dataframe tbody tr th {\n",
       "        vertical-align: top;\n",
       "    }\n",
       "\n",
       "    .dataframe thead th {\n",
       "        text-align: right;\n",
       "    }\n",
       "</style>\n",
       "<table border=\"1\" class=\"dataframe\">\n",
       "  <thead>\n",
       "    <tr style=\"text-align: right;\">\n",
       "      <th></th>\n",
       "      <th>user_id</th>\n",
       "      <th>trans_id</th>\n",
       "      <th>trans_time</th>\n",
       "      <th>item_code</th>\n",
       "      <th>description</th>\n",
       "      <th>quantity</th>\n",
       "      <th>unit_price</th>\n",
       "      <th>country</th>\n",
       "    </tr>\n",
       "  </thead>\n",
       "  <tbody>\n",
       "    <tr>\n",
       "      <td>154</td>\n",
       "      <td>266301.0</td>\n",
       "      <td>5970085</td>\n",
       "      <td>2018-04-14 17:06:00+05:30</td>\n",
       "      <td>-1</td>\n",
       "      <td>POSTAGE</td>\n",
       "      <td>9</td>\n",
       "      <td>24.84</td>\n",
       "      <td>France</td>\n",
       "    </tr>\n",
       "    <tr>\n",
       "      <td>251</td>\n",
       "      <td>266028.0</td>\n",
       "      <td>5969843</td>\n",
       "      <td>2018-04-14 14:57:00+05:30</td>\n",
       "      <td>-1</td>\n",
       "      <td>POSTAGE</td>\n",
       "      <td>21</td>\n",
       "      <td>24.84</td>\n",
       "      <td>Germany</td>\n",
       "    </tr>\n",
       "    <tr>\n",
       "      <td>993</td>\n",
       "      <td>287574.0</td>\n",
       "      <td>6190756</td>\n",
       "      <td>2018-10-21 15:57:00+05:30</td>\n",
       "      <td>-1</td>\n",
       "      <td>Discount</td>\n",
       "      <td>-3</td>\n",
       "      <td>88.32</td>\n",
       "      <td>United Kingdom</td>\n",
       "    </tr>\n",
       "    <tr>\n",
       "      <td>1261</td>\n",
       "      <td>264243.0</td>\n",
       "      <td>6153851</td>\n",
       "      <td>2018-09-19 13:52:00+05:30</td>\n",
       "      <td>-1</td>\n",
       "      <td>POSTAGE</td>\n",
       "      <td>6</td>\n",
       "      <td>24.84</td>\n",
       "      <td>France</td>\n",
       "    </tr>\n",
       "    <tr>\n",
       "      <td>1773</td>\n",
       "      <td>268632.0</td>\n",
       "      <td>6026867</td>\n",
       "      <td>2018-06-09 13:06:00+05:30</td>\n",
       "      <td>-1</td>\n",
       "      <td>POSTAGE</td>\n",
       "      <td>6</td>\n",
       "      <td>38.64</td>\n",
       "      <td>Portugal</td>\n",
       "    </tr>\n",
       "  </tbody>\n",
       "</table>\n",
       "</div>"
      ],
      "text/plain": [
       "       user_id  trans_id                trans_time  item_code description  \\\n",
       "154   266301.0   5970085 2018-04-14 17:06:00+05:30         -1     POSTAGE   \n",
       "251   266028.0   5969843 2018-04-14 14:57:00+05:30         -1     POSTAGE   \n",
       "993   287574.0   6190756 2018-10-21 15:57:00+05:30         -1    Discount   \n",
       "1261  264243.0   6153851 2018-09-19 13:52:00+05:30         -1     POSTAGE   \n",
       "1773  268632.0   6026867 2018-06-09 13:06:00+05:30         -1     POSTAGE   \n",
       "\n",
       "      quantity  unit_price         country  \n",
       "154          9       24.84          France  \n",
       "251         21       24.84         Germany  \n",
       "993         -3       88.32  United Kingdom  \n",
       "1261         6       24.84          France  \n",
       "1773         6       38.64        Portugal  "
      ]
     },
     "execution_count": 22,
     "metadata": {},
     "output_type": "execute_result"
    }
   ],
   "source": [
    "print(\"Number of Rows with -1 in item_code: \" , len(df[df[\"item_code\"] == -1]))\n",
    "df[df['item_code'] == -1].head()"
   ]
  },
  {
   "cell_type": "code",
   "execution_count": 23,
   "metadata": {},
   "outputs": [
    {
     "data": {
      "text/plain": [
       "array(['POSTAGE', 'Discount', 'Manual', 'Bank Charges', 'CRUK Commission',\n",
       "       'DOTCOM POSTAGE', 'PADS TO MATCH ALL CUSHIONS'], dtype=object)"
      ]
     },
     "execution_count": 23,
     "metadata": {},
     "output_type": "execute_result"
    }
   ],
   "source": [
    "# These are unique value of description according to item_code\n",
    "df[df['item_code'] == -1]['description'].unique()"
   ]
  },
  {
   "cell_type": "markdown",
   "metadata": {},
   "source": [
    "Here Item_code is -1 but if we notice description has different charges, not items. So replace item_code which unique value for now."
   ]
  },
  {
   "cell_type": "code",
   "execution_count": 24,
   "metadata": {},
   "outputs": [],
   "source": [
    "df.loc[df['description'] == 'POSTAGE' , 'item_code'] = 'POST' # For POSTAGE\n",
    "df.loc[df['description'] == 'Discount', 'item_code'] = 'D' # For Discount\n",
    "df.loc[df['description'] == 'Manual', 'item_code'] = \"M\" # For Manual\n",
    "df.loc[df['description'] == 'Bank Charges', 'item_code'] = 'BANK CHARGES' # For BANK CHARGES\n",
    "df.loc[df['description'] == 'CRUK Commission', 'item_code'] = \"C2\" # For CRUK Commission\n",
    "df.loc[df['description'] == 'DOTCOM POSTAGE', 'item_code'] = 'DOT' # For DOTCOM POSTAGE\n",
    "df.loc[df['description'] == 'PADS TO MATCH ALL CUSHIONS', 'item_code'] = \"PADS\" # For PADS TO MATCH ALL CUSHIONS"
   ]
  },
  {
   "cell_type": "code",
   "execution_count": 25,
   "metadata": {},
   "outputs": [
    {
     "name": "stdout",
     "output_type": "stream",
     "text": [
      "Remaining item_code with -1 value:  0\n"
     ]
    }
   ],
   "source": [
    "print(\"Remaining item_code with -1 value: \" , len(df[df['item_code'] == '-1']))"
   ]
  },
  {
   "cell_type": "markdown",
   "metadata": {},
   "source": [
    "### Remove Quantity with Negetive values "
   ]
  },
  {
   "cell_type": "code",
   "execution_count": 26,
   "metadata": {},
   "outputs": [
    {
     "name": "stdout",
     "output_type": "stream",
     "text": [
      "Number of Rows with -ve Quantity:  8871\n"
     ]
    },
    {
     "data": {
      "text/html": [
       "<div>\n",
       "<style scoped>\n",
       "    .dataframe tbody tr th:only-of-type {\n",
       "        vertical-align: middle;\n",
       "    }\n",
       "\n",
       "    .dataframe tbody tr th {\n",
       "        vertical-align: top;\n",
       "    }\n",
       "\n",
       "    .dataframe thead th {\n",
       "        text-align: right;\n",
       "    }\n",
       "</style>\n",
       "<table border=\"1\" class=\"dataframe\">\n",
       "  <thead>\n",
       "    <tr style=\"text-align: right;\">\n",
       "      <th></th>\n",
       "      <th>user_id</th>\n",
       "      <th>trans_id</th>\n",
       "      <th>trans_time</th>\n",
       "      <th>item_code</th>\n",
       "      <th>description</th>\n",
       "      <th>quantity</th>\n",
       "      <th>unit_price</th>\n",
       "      <th>country</th>\n",
       "    </tr>\n",
       "  </thead>\n",
       "  <tbody>\n",
       "    <tr>\n",
       "      <td>69</td>\n",
       "      <td>300909.0</td>\n",
       "      <td>6015757</td>\n",
       "      <td>2018-05-29 19:44:00+05:30</td>\n",
       "      <td>466452</td>\n",
       "      <td>FOUR HOOK  WHITE LOVEBIRDS</td>\n",
       "      <td>-3</td>\n",
       "      <td>2.90</td>\n",
       "      <td>United Kingdom</td>\n",
       "    </tr>\n",
       "    <tr>\n",
       "      <td>135</td>\n",
       "      <td>319683.0</td>\n",
       "      <td>6036228</td>\n",
       "      <td>2018-06-16 13:58:00+05:30</td>\n",
       "      <td>470883</td>\n",
       "      <td>REGENCY CAKESTAND 3 TIER</td>\n",
       "      <td>-24</td>\n",
       "      <td>17.60</td>\n",
       "      <td>United Kingdom</td>\n",
       "    </tr>\n",
       "    <tr>\n",
       "      <td>329</td>\n",
       "      <td>321531.0</td>\n",
       "      <td>5925150</td>\n",
       "      <td>2018-02-24 16:35:00+05:30</td>\n",
       "      <td>446418</td>\n",
       "      <td>VICTORIAN SEWING BOX LARGE</td>\n",
       "      <td>-3</td>\n",
       "      <td>15.12</td>\n",
       "      <td>United Kingdom</td>\n",
       "    </tr>\n",
       "    <tr>\n",
       "      <td>330</td>\n",
       "      <td>260715.0</td>\n",
       "      <td>6165940</td>\n",
       "      <td>2018-09-30 13:56:00+05:30</td>\n",
       "      <td>488061</td>\n",
       "      <td>TREASURE TIN GYMKHANA DESIGN</td>\n",
       "      <td>-3</td>\n",
       "      <td>2.88</td>\n",
       "      <td>Australia</td>\n",
       "    </tr>\n",
       "    <tr>\n",
       "      <td>353</td>\n",
       "      <td>274869.0</td>\n",
       "      <td>6004240</td>\n",
       "      <td>2018-05-19 15:05:00+05:30</td>\n",
       "      <td>470883</td>\n",
       "      <td>REGENCY CAKESTAND 3 TIER</td>\n",
       "      <td>-15</td>\n",
       "      <td>15.12</td>\n",
       "      <td>United Kingdom</td>\n",
       "    </tr>\n",
       "  </tbody>\n",
       "</table>\n",
       "</div>"
      ],
      "text/plain": [
       "      user_id  trans_id                trans_time item_code  \\\n",
       "69   300909.0   6015757 2018-05-29 19:44:00+05:30    466452   \n",
       "135  319683.0   6036228 2018-06-16 13:58:00+05:30    470883   \n",
       "329  321531.0   5925150 2018-02-24 16:35:00+05:30    446418   \n",
       "330  260715.0   6165940 2018-09-30 13:56:00+05:30    488061   \n",
       "353  274869.0   6004240 2018-05-19 15:05:00+05:30    470883   \n",
       "\n",
       "                      description  quantity  unit_price         country  \n",
       "69     FOUR HOOK  WHITE LOVEBIRDS        -3        2.90  United Kingdom  \n",
       "135      REGENCY CAKESTAND 3 TIER       -24       17.60  United Kingdom  \n",
       "329    VICTORIAN SEWING BOX LARGE        -3       15.12  United Kingdom  \n",
       "330  TREASURE TIN GYMKHANA DESIGN        -3        2.88       Australia  \n",
       "353      REGENCY CAKESTAND 3 TIER       -15       15.12  United Kingdom  "
      ]
     },
     "execution_count": 26,
     "metadata": {},
     "output_type": "execute_result"
    }
   ],
   "source": [
    "print(\"Number of Rows with -ve Quantity: \" , len(df[df[\"quantity\"] <= 0]))\n",
    "df[df[\"quantity\"] <= 0].head()"
   ]
  },
  {
   "cell_type": "markdown",
   "metadata": {},
   "source": [
    "You can notice that in above dataframe all entries(total 8871) with negetive value of quantity. This can't be possible.\n",
    "\n",
    "It may be cancellation of order. So, I cross check if order indicating same quantity with positive value with same discription."
   ]
  },
  {
   "cell_type": "code",
   "execution_count": 27,
   "metadata": {},
   "outputs": [
    {
     "name": "stdout",
     "output_type": "stream",
     "text": [
      "user_id                            300909\n",
      "quantity                               -3\n",
      "item_code                          466452\n",
      "description    FOUR HOOK  WHITE LOVEBIRDS\n",
      "unit_price                            2.9\n",
      "Name: 69, dtype: object\n",
      "---------------> HYPOTHESIS NOT FULFILLED\n"
     ]
    }
   ],
   "source": [
    "df_check = df[df['quantity'] <= 0][['user_id','quantity','item_code','description','unit_price']]\n",
    "for index, col in  df_check.iterrows():\n",
    "    if df[(df['user_id'] == col[0]) & (df['quantity'] == -col[1]) & (df['description'] == col[3])].shape[0] == 0: \n",
    "        print(df_check.loc[index])\n",
    "        print(15*'-'+'>'+' HYPOTHESIS NOT FULFILLED')\n",
    "        break"
   ]
  },
  {
   "cell_type": "markdown",
   "metadata": {},
   "source": [
    "I find that the hypothesis is not verified. Hence, cancellations do not necessarily correspond to orders that would have been made before."
   ]
  },
  {
   "cell_type": "markdown",
   "metadata": {},
   "source": [
    "So, make new column named Quantity Canceled. \n",
    "\n",
    "For the cancellations without counterparts, a few of them are probably due to the fact that the buy orders were performed before February 2018. Below, I make a census of the cancel orders and check for the existence of counterparts"
   ]
  },
  {
   "cell_type": "code",
   "execution_count": 28,
   "metadata": {},
   "outputs": [],
   "source": [
    "df_cleaned = df.copy(deep = True)\n",
    "df_cleaned['quantity_canceled'] = 0\n",
    "\n",
    "entry_to_remove = []\n",
    "doubtfull_entry = []\n",
    "\n",
    "for index, col in  df.iterrows():\n",
    "    if (col['quantity'] > 0) or col['description'] == 'Discount': continue        \n",
    "    df_test = df[(df['user_id'] == col['user_id']) &\n",
    "                 (df['item_code']  == col['item_code']) & \n",
    "                 (df['trans_time'] < col['trans_time']) & \n",
    "                 (df['quantity'] > 0)].copy()\n",
    "    \n",
    "    # Cancelation WITHOUT counterpart\n",
    "    if (df_test.shape[0] == 0): \n",
    "        doubtfull_entry.append(index)\n",
    "    \n",
    "    # Cancelation WITH a counterpart\n",
    "    elif (df_test.shape[0] == 1): \n",
    "        index_order = df_test.index[0]\n",
    "        df_cleaned.loc[index_order, 'quantity_canceled'] = -col['quantity']\n",
    "        entry_to_remove.append(index)        \n",
    "    \n",
    "    # Various counterparts exist in orders: we delete the last one\n",
    "    elif (df_test.shape[0] > 1): \n",
    "        df_test.sort_index(axis=0 ,ascending=False, inplace = True)        \n",
    "        for ind, val in df_test.iterrows():\n",
    "            if val['quantity'] < -col['quantity']: continue\n",
    "            df_cleaned.loc[ind, 'quantity_canceled'] = -col['quantity']\n",
    "            entry_to_remove.append(index) \n",
    "            break "
   ]
  },
  {
   "cell_type": "code",
   "execution_count": 29,
   "metadata": {},
   "outputs": [
    {
     "name": "stdout",
     "output_type": "stream",
     "text": [
      "entry_to_remove:  7537\n",
      "doubtfull_entry:  1208\n"
     ]
    }
   ],
   "source": [
    "print(\"entry_to_remove: \" , len(entry_to_remove))\n",
    "print(\"doubtfull_entry: \" , len(doubtfull_entry))"
   ]
  },
  {
   "cell_type": "markdown",
   "metadata": {},
   "source": [
    "In the above function, I checked the two cases:\n",
    "\n",
    "1. a cancel order exists which are doubtful enries\n",
    "2. there's at least one counterpart with the exact same quantity which we have confirmed to remove"
   ]
  },
  {
   "cell_type": "code",
   "execution_count": 30,
   "metadata": {},
   "outputs": [],
   "source": [
    "df_cleaned.drop(entry_to_remove, axis = 0, inplace = True)\n",
    "df_cleaned.drop(doubtfull_entry, axis = 0, inplace = True)"
   ]
  },
  {
   "cell_type": "markdown",
   "metadata": {},
   "source": [
    "There are also some entries which has negetive quality value and still remain which correspond to cancellation."
   ]
  },
  {
   "cell_type": "code",
   "execution_count": 31,
   "metadata": {},
   "outputs": [
    {
     "name": "stdout",
     "output_type": "stream",
     "text": [
      "Number of entries with cancellation:  49\n"
     ]
    },
    {
     "data": {
      "text/html": [
       "<div>\n",
       "<style scoped>\n",
       "    .dataframe tbody tr th:only-of-type {\n",
       "        vertical-align: middle;\n",
       "    }\n",
       "\n",
       "    .dataframe tbody tr th {\n",
       "        vertical-align: top;\n",
       "    }\n",
       "\n",
       "    .dataframe thead th {\n",
       "        text-align: right;\n",
       "    }\n",
       "</style>\n",
       "<table border=\"1\" class=\"dataframe\">\n",
       "  <thead>\n",
       "    <tr style=\"text-align: right;\">\n",
       "      <th></th>\n",
       "      <th>user_id</th>\n",
       "      <th>trans_id</th>\n",
       "      <th>trans_time</th>\n",
       "      <th>item_code</th>\n",
       "      <th>description</th>\n",
       "      <th>quantity</th>\n",
       "      <th>unit_price</th>\n",
       "      <th>country</th>\n",
       "      <th>quantity_canceled</th>\n",
       "    </tr>\n",
       "  </thead>\n",
       "  <tbody>\n",
       "    <tr>\n",
       "      <td>4799</td>\n",
       "      <td>275373.0</td>\n",
       "      <td>6272431</td>\n",
       "      <td>2018-12-21 14:26:00+05:30</td>\n",
       "      <td>469476</td>\n",
       "      <td>CHARLOTTE BAG PINK POLKADOT</td>\n",
       "      <td>-39</td>\n",
       "      <td>1.18</td>\n",
       "      <td>United Kingdom</td>\n",
       "      <td>0</td>\n",
       "    </tr>\n",
       "    <tr>\n",
       "      <td>18567</td>\n",
       "      <td>310968.0</td>\n",
       "      <td>6250552</td>\n",
       "      <td>2018-12-08 12:57:00+05:30</td>\n",
       "      <td>483147</td>\n",
       "      <td>SPACEBOY BABY GIFT SET</td>\n",
       "      <td>-9</td>\n",
       "      <td>23.40</td>\n",
       "      <td>United Kingdom</td>\n",
       "      <td>0</td>\n",
       "    </tr>\n",
       "    <tr>\n",
       "      <td>38795</td>\n",
       "      <td>305403.0</td>\n",
       "      <td>6244876</td>\n",
       "      <td>2018-12-04 11:46:00+05:30</td>\n",
       "      <td>458703</td>\n",
       "      <td>RED RETROSPOT CAKE STAND</td>\n",
       "      <td>-24</td>\n",
       "      <td>13.74</td>\n",
       "      <td>United Kingdom</td>\n",
       "      <td>0</td>\n",
       "    </tr>\n",
       "    <tr>\n",
       "      <td>41730</td>\n",
       "      <td>275373.0</td>\n",
       "      <td>6272431</td>\n",
       "      <td>2018-12-21 14:26:00+05:30</td>\n",
       "      <td>435183</td>\n",
       "      <td>STRAWBERRY CHARLOTTE BAG</td>\n",
       "      <td>-54</td>\n",
       "      <td>1.18</td>\n",
       "      <td>United Kingdom</td>\n",
       "      <td>0</td>\n",
       "    </tr>\n",
       "    <tr>\n",
       "      <td>44362</td>\n",
       "      <td>308448.0</td>\n",
       "      <td>6231137</td>\n",
       "      <td>2018-11-24 19:34:00+05:30</td>\n",
       "      <td>487179</td>\n",
       "      <td>JUMBO BAG APPLES</td>\n",
       "      <td>-42</td>\n",
       "      <td>2.88</td>\n",
       "      <td>United Kingdom</td>\n",
       "      <td>0</td>\n",
       "    </tr>\n",
       "  </tbody>\n",
       "</table>\n",
       "</div>"
      ],
      "text/plain": [
       "        user_id  trans_id                trans_time item_code  \\\n",
       "4799   275373.0   6272431 2018-12-21 14:26:00+05:30    469476   \n",
       "18567  310968.0   6250552 2018-12-08 12:57:00+05:30    483147   \n",
       "38795  305403.0   6244876 2018-12-04 11:46:00+05:30    458703   \n",
       "41730  275373.0   6272431 2018-12-21 14:26:00+05:30    435183   \n",
       "44362  308448.0   6231137 2018-11-24 19:34:00+05:30    487179   \n",
       "\n",
       "                       description  quantity  unit_price         country  \\\n",
       "4799   CHARLOTTE BAG PINK POLKADOT       -39        1.18  United Kingdom   \n",
       "18567       SPACEBOY BABY GIFT SET        -9       23.40  United Kingdom   \n",
       "38795     RED RETROSPOT CAKE STAND       -24       13.74  United Kingdom   \n",
       "41730     STRAWBERRY CHARLOTTE BAG       -54        1.18  United Kingdom   \n",
       "44362             JUMBO BAG APPLES       -42        2.88  United Kingdom   \n",
       "\n",
       "       quantity_canceled  \n",
       "4799                   0  \n",
       "18567                  0  \n",
       "38795                  0  \n",
       "41730                  0  \n",
       "44362                  0  "
      ]
     },
     "execution_count": 31,
     "metadata": {},
     "output_type": "execute_result"
    }
   ],
   "source": [
    "remaining_entries = df_cleaned[(df_cleaned['quantity'] < 0) & (df_cleaned['item_code'] != 'D')]\n",
    "print(\"Number of entries with cancellation: \" , remaining_entries.shape[0])\n",
    "remaining_entries.head()"
   ]
  },
  {
   "cell_type": "markdown",
   "metadata": {},
   "source": [
    "Note: I take this cancellation because for further analysis.\n",
    "\n",
    "It will not usefull for clustering."
   ]
  },
  {
   "cell_type": "markdown",
   "metadata": {},
   "source": [
    "### Check of Unit_Price"
   ]
  },
  {
   "cell_type": "code",
   "execution_count": 32,
   "metadata": {
    "scrolled": true
   },
   "outputs": [
    {
     "data": {
      "text/plain": [
       "count     392824.00\n",
       "mean           8.66\n",
       "std         2706.62\n",
       "min            0.00\n",
       "25%            1.73\n",
       "50%            2.70\n",
       "75%            5.18\n",
       "max      1696285.44\n",
       "Name: unit_price, dtype: float64"
      ]
     },
     "execution_count": 32,
     "metadata": {},
     "output_type": "execute_result"
    }
   ],
   "source": [
    "# Describe unit_price\n",
    "df_cleaned['unit_price'].describe().round(2)"
   ]
  },
  {
   "cell_type": "markdown",
   "metadata": {},
   "source": [
    "This discription shows that minimum value of unit_price is 0. (is that possible?)\n",
    "\n",
    "But some times E-Commmerce company gives items for free with other items or in the sales. So, we can't confirm about this entries."
   ]
  },
  {
   "cell_type": "markdown",
   "metadata": {},
   "source": [
    "### Customer and Product relations"
   ]
  },
  {
   "cell_type": "code",
   "execution_count": 33,
   "metadata": {},
   "outputs": [
    {
     "data": {
      "text/html": [
       "<div>\n",
       "<style scoped>\n",
       "    .dataframe tbody tr th:only-of-type {\n",
       "        vertical-align: middle;\n",
       "    }\n",
       "\n",
       "    .dataframe tbody tr th {\n",
       "        vertical-align: top;\n",
       "    }\n",
       "\n",
       "    .dataframe thead th {\n",
       "        text-align: right;\n",
       "    }\n",
       "</style>\n",
       "<table border=\"1\" class=\"dataframe\">\n",
       "  <thead>\n",
       "    <tr style=\"text-align: right;\">\n",
       "      <th></th>\n",
       "      <th>Products</th>\n",
       "      <th>Transactions</th>\n",
       "      <th>Customers</th>\n",
       "    </tr>\n",
       "  </thead>\n",
       "  <tbody>\n",
       "    <tr>\n",
       "      <td>Quantity</td>\n",
       "      <td>3200</td>\n",
       "      <td>18632</td>\n",
       "      <td>4339</td>\n",
       "    </tr>\n",
       "  </tbody>\n",
       "</table>\n",
       "</div>"
      ],
      "text/plain": [
       "          Products  Transactions  Customers\n",
       "Quantity      3200         18632       4339"
      ]
     },
     "execution_count": 33,
     "metadata": {},
     "output_type": "execute_result"
    }
   ],
   "source": [
    "# What are the number of users and products in these entries ?\n",
    "pd.DataFrame([{'Products': len(df_cleaned['item_code'].value_counts()),    \n",
    "               'Transactions': len(df_cleaned['trans_id'].value_counts()),\n",
    "               'Customers': len(df_cleaned['user_id'].value_counts()),  \n",
    "              }], columns = ['Products', 'Transactions', 'Customers'], index = ['Quantity'])"
   ]
  },
  {
   "cell_type": "markdown",
   "metadata": {},
   "source": [
    "It can be seen that the data concern 4339 users and that they bought 3200 different products. The total number of transactions carried out is 18632."
   ]
  },
  {
   "cell_type": "code",
   "execution_count": 34,
   "metadata": {},
   "outputs": [
    {
     "data": {
      "text/html": [
       "<div>\n",
       "<style scoped>\n",
       "    .dataframe tbody tr th:only-of-type {\n",
       "        vertical-align: middle;\n",
       "    }\n",
       "\n",
       "    .dataframe tbody tr th {\n",
       "        vertical-align: top;\n",
       "    }\n",
       "\n",
       "    .dataframe thead th {\n",
       "        text-align: right;\n",
       "    }\n",
       "</style>\n",
       "<table border=\"1\" class=\"dataframe\">\n",
       "  <thead>\n",
       "    <tr style=\"text-align: right;\">\n",
       "      <th></th>\n",
       "      <th>user_id</th>\n",
       "      <th>trans_id</th>\n",
       "      <th>Number of Products</th>\n",
       "    </tr>\n",
       "  </thead>\n",
       "  <tbody>\n",
       "    <tr>\n",
       "      <td>0</td>\n",
       "      <td>259266.0</td>\n",
       "      <td>5955741</td>\n",
       "      <td>1</td>\n",
       "    </tr>\n",
       "    <tr>\n",
       "      <td>1</td>\n",
       "      <td>259287.0</td>\n",
       "      <td>5913886</td>\n",
       "      <td>31</td>\n",
       "    </tr>\n",
       "    <tr>\n",
       "      <td>2</td>\n",
       "      <td>259287.0</td>\n",
       "      <td>5964607</td>\n",
       "      <td>29</td>\n",
       "    </tr>\n",
       "    <tr>\n",
       "      <td>3</td>\n",
       "      <td>259287.0</td>\n",
       "      <td>6041442</td>\n",
       "      <td>24</td>\n",
       "    </tr>\n",
       "    <tr>\n",
       "      <td>4</td>\n",
       "      <td>259287.0</td>\n",
       "      <td>6118211</td>\n",
       "      <td>18</td>\n",
       "    </tr>\n",
       "    <tr>\n",
       "      <td>5</td>\n",
       "      <td>259287.0</td>\n",
       "      <td>6182352</td>\n",
       "      <td>22</td>\n",
       "    </tr>\n",
       "    <tr>\n",
       "      <td>6</td>\n",
       "      <td>259287.0</td>\n",
       "      <td>6308621</td>\n",
       "      <td>47</td>\n",
       "    </tr>\n",
       "    <tr>\n",
       "      <td>7</td>\n",
       "      <td>259287.0</td>\n",
       "      <td>6392980</td>\n",
       "      <td>11</td>\n",
       "    </tr>\n",
       "    <tr>\n",
       "      <td>8</td>\n",
       "      <td>259308.0</td>\n",
       "      <td>5932498</td>\n",
       "      <td>17</td>\n",
       "    </tr>\n",
       "    <tr>\n",
       "      <td>9</td>\n",
       "      <td>259308.0</td>\n",
       "      <td>5961978</td>\n",
       "      <td>6</td>\n",
       "    </tr>\n",
       "  </tbody>\n",
       "</table>\n",
       "</div>"
      ],
      "text/plain": [
       "    user_id  trans_id  Number of Products\n",
       "0  259266.0   5955741                   1\n",
       "1  259287.0   5913886                  31\n",
       "2  259287.0   5964607                  29\n",
       "3  259287.0   6041442                  24\n",
       "4  259287.0   6118211                  18\n",
       "5  259287.0   6182352                  22\n",
       "6  259287.0   6308621                  47\n",
       "7  259287.0   6392980                  11\n",
       "8  259308.0   5932498                  17\n",
       "9  259308.0   5961978                   6"
      ]
     },
     "execution_count": 34,
     "metadata": {},
     "output_type": "execute_result"
    }
   ],
   "source": [
    "# The number of products purchased in every transaction\n",
    "temp = df_cleaned.groupby(by=['user_id', 'trans_id'], as_index=False)['trans_time'].count()\n",
    "products_per_basket = temp.rename(columns = {'trans_time':'Number of Products'})\n",
    "products_per_basket[:10].sort_values('user_id')"
   ]
  },
  {
   "cell_type": "code",
   "execution_count": 36,
   "metadata": {},
   "outputs": [
    {
     "data": {
      "text/plain": [
       "18632"
      ]
     },
     "execution_count": 36,
     "metadata": {},
     "output_type": "execute_result"
    }
   ],
   "source": [
    "len(products_per_basket)"
   ]
  },
  {
   "cell_type": "markdown",
   "metadata": {},
   "source": [
    "Two things we can derive from above:\n",
    "\n",
    "1. Users who only came once and only purchased one product (e.g. 259266)\n",
    "2. Frequent users that buy a large number of items at each order (e.g. 259287)"
   ]
  },
  {
   "cell_type": "markdown",
   "metadata": {},
   "source": [
    "### Unit Price and Add Total Price Column"
   ]
  },
  {
   "cell_type": "markdown",
   "metadata": {},
   "source": [
    "I create a new variable that indicates the total price of every purchase:"
   ]
  },
  {
   "cell_type": "code",
   "execution_count": 35,
   "metadata": {},
   "outputs": [
    {
     "data": {
      "text/html": [
       "<div>\n",
       "<style scoped>\n",
       "    .dataframe tbody tr th:only-of-type {\n",
       "        vertical-align: middle;\n",
       "    }\n",
       "\n",
       "    .dataframe tbody tr th {\n",
       "        vertical-align: top;\n",
       "    }\n",
       "\n",
       "    .dataframe thead th {\n",
       "        text-align: right;\n",
       "    }\n",
       "</style>\n",
       "<table border=\"1\" class=\"dataframe\">\n",
       "  <thead>\n",
       "    <tr style=\"text-align: right;\">\n",
       "      <th></th>\n",
       "      <th>user_id</th>\n",
       "      <th>trans_id</th>\n",
       "      <th>trans_time</th>\n",
       "      <th>item_code</th>\n",
       "      <th>description</th>\n",
       "      <th>quantity</th>\n",
       "      <th>unit_price</th>\n",
       "      <th>country</th>\n",
       "      <th>quantity_canceled</th>\n",
       "      <th>total_price</th>\n",
       "    </tr>\n",
       "  </thead>\n",
       "  <tbody>\n",
       "    <tr>\n",
       "      <td>528376</td>\n",
       "      <td>259266.0</td>\n",
       "      <td>5955741</td>\n",
       "      <td>2018-04-01 11:31:00+05:30</td>\n",
       "      <td>486486</td>\n",
       "      <td>MEDIUM CERAMIC TOP STORAGE JAR</td>\n",
       "      <td>222645</td>\n",
       "      <td>1.44</td>\n",
       "      <td>United Kingdom</td>\n",
       "      <td>222645</td>\n",
       "      <td>0.00</td>\n",
       "    </tr>\n",
       "    <tr>\n",
       "      <td>595676</td>\n",
       "      <td>259287.0</td>\n",
       "      <td>6308621</td>\n",
       "      <td>2019-01-12 13:55:00+05:30</td>\n",
       "      <td>435099</td>\n",
       "      <td>WOODLAND CHARLOTTE BAG</td>\n",
       "      <td>30</td>\n",
       "      <td>1.18</td>\n",
       "      <td>Iceland</td>\n",
       "      <td>0</td>\n",
       "      <td>35.40</td>\n",
       "    </tr>\n",
       "    <tr>\n",
       "      <td>1070</td>\n",
       "      <td>259287.0</td>\n",
       "      <td>5913886</td>\n",
       "      <td>2018-02-18 16:27:00+05:30</td>\n",
       "      <td>477246</td>\n",
       "      <td>ALARM CLOCK BAKELIKE GREEN</td>\n",
       "      <td>12</td>\n",
       "      <td>5.18</td>\n",
       "      <td>Iceland</td>\n",
       "      <td>0</td>\n",
       "      <td>62.16</td>\n",
       "    </tr>\n",
       "    <tr>\n",
       "      <td>423220</td>\n",
       "      <td>259287.0</td>\n",
       "      <td>6041442</td>\n",
       "      <td>2018-06-19 12:13:00+05:30</td>\n",
       "      <td>433965</td>\n",
       "      <td>RED RETROSPOT PURSE</td>\n",
       "      <td>18</td>\n",
       "      <td>4.08</td>\n",
       "      <td>Iceland</td>\n",
       "      <td>0</td>\n",
       "      <td>73.44</td>\n",
       "    </tr>\n",
       "    <tr>\n",
       "      <td>512603</td>\n",
       "      <td>259287.0</td>\n",
       "      <td>6308621</td>\n",
       "      <td>2019-01-12 13:55:00+05:30</td>\n",
       "      <td>469875</td>\n",
       "      <td>AIRLINE BAG VINTAGE JET SET BROWN</td>\n",
       "      <td>24</td>\n",
       "      <td>5.87</td>\n",
       "      <td>Iceland</td>\n",
       "      <td>0</td>\n",
       "      <td>140.88</td>\n",
       "    </tr>\n",
       "  </tbody>\n",
       "</table>\n",
       "</div>"
      ],
      "text/plain": [
       "         user_id  trans_id                trans_time item_code  \\\n",
       "528376  259266.0   5955741 2018-04-01 11:31:00+05:30    486486   \n",
       "595676  259287.0   6308621 2019-01-12 13:55:00+05:30    435099   \n",
       "1070    259287.0   5913886 2018-02-18 16:27:00+05:30    477246   \n",
       "423220  259287.0   6041442 2018-06-19 12:13:00+05:30    433965   \n",
       "512603  259287.0   6308621 2019-01-12 13:55:00+05:30    469875   \n",
       "\n",
       "                              description  quantity  unit_price  \\\n",
       "528376     MEDIUM CERAMIC TOP STORAGE JAR    222645        1.44   \n",
       "595676             WOODLAND CHARLOTTE BAG        30        1.18   \n",
       "1070           ALARM CLOCK BAKELIKE GREEN        12        5.18   \n",
       "423220               RED RETROSPOT PURSE         18        4.08   \n",
       "512603  AIRLINE BAG VINTAGE JET SET BROWN        24        5.87   \n",
       "\n",
       "               country  quantity_canceled  total_price  \n",
       "528376  United Kingdom             222645         0.00  \n",
       "595676         Iceland                  0        35.40  \n",
       "1070           Iceland                  0        62.16  \n",
       "423220         Iceland                  0        73.44  \n",
       "512603         Iceland                  0       140.88  "
      ]
     },
     "execution_count": 35,
     "metadata": {},
     "output_type": "execute_result"
    }
   ],
   "source": [
    "# Add new Column for total price\n",
    "df_cleaned['total_price'] = df_cleaned['unit_price'] * (df_cleaned['quantity'] - df_cleaned['quantity_canceled'])\n",
    "df_cleaned.sort_values('user_id')[:5]"
   ]
  },
  {
   "cell_type": "markdown",
   "metadata": {},
   "source": [
    "Here, we know that each rows/entry in dataframe shows price and other characteristics for single kind of product. So, orders are split into different rows.(Same Trasaction ID).\n",
    "\n",
    "So, collect all purchases made during one transaction and get total order price."
   ]
  },
  {
   "cell_type": "code",
   "execution_count": 37,
   "metadata": {},
   "outputs": [],
   "source": [
    "# Generalize total Cart price on same Transaction\n",
    "temp = df_cleaned.groupby(by=['user_id', 'trans_id'], as_index=False)['total_price'].sum()\n",
    "cart_price = temp.rename(columns = {'total_price':'cart_price'})"
   ]
  },
  {
   "cell_type": "code",
   "execution_count": 38,
   "metadata": {},
   "outputs": [],
   "source": [
    "# Now join Transaction Date with this new cart_price\n",
    "df_cleaned['trans_time'] = df_cleaned['trans_time'].astype('int64')\n",
    "\n",
    "# If all orders are in same time period, then take mean of it.\n",
    "temp = df_cleaned.groupby(by=['user_id', 'trans_id'], as_index=False)['trans_time'].mean()\n",
    "\n",
    "cart_price.loc[:, 'trans_time'] = pd.to_datetime(temp['trans_time'])"
   ]
  },
  {
   "cell_type": "code",
   "execution_count": 39,
   "metadata": {},
   "outputs": [],
   "source": [
    "df_cleaned['trans_time'] = pd.to_datetime(df_cleaned['trans_time'])"
   ]
  },
  {
   "cell_type": "code",
   "execution_count": 42,
   "metadata": {
    "scrolled": true
   },
   "outputs": [
    {
     "data": {
      "text/html": [
       "<div>\n",
       "<style scoped>\n",
       "    .dataframe tbody tr th:only-of-type {\n",
       "        vertical-align: middle;\n",
       "    }\n",
       "\n",
       "    .dataframe tbody tr th {\n",
       "        vertical-align: top;\n",
       "    }\n",
       "\n",
       "    .dataframe thead th {\n",
       "        text-align: right;\n",
       "    }\n",
       "</style>\n",
       "<table border=\"1\" class=\"dataframe\">\n",
       "  <thead>\n",
       "    <tr style=\"text-align: right;\">\n",
       "      <th></th>\n",
       "      <th>user_id</th>\n",
       "      <th>trans_id</th>\n",
       "      <th>trans_time</th>\n",
       "      <th>item_code</th>\n",
       "      <th>description</th>\n",
       "      <th>quantity</th>\n",
       "      <th>unit_price</th>\n",
       "      <th>country</th>\n",
       "      <th>quantity_canceled</th>\n",
       "      <th>total_price</th>\n",
       "    </tr>\n",
       "  </thead>\n",
       "  <tbody>\n",
       "    <tr>\n",
       "      <td>0</td>\n",
       "      <td>278166.0</td>\n",
       "      <td>6355745</td>\n",
       "      <td>2019-02-02 12:50:00</td>\n",
       "      <td>465549</td>\n",
       "      <td>FAMILY ALBUM WHITE PICTURE FRAME</td>\n",
       "      <td>6</td>\n",
       "      <td>11.73</td>\n",
       "      <td>United Kingdom</td>\n",
       "      <td>0</td>\n",
       "      <td>70.38</td>\n",
       "    </tr>\n",
       "    <tr>\n",
       "      <td>1</td>\n",
       "      <td>337701.0</td>\n",
       "      <td>6283376</td>\n",
       "      <td>2018-12-26 09:06:00</td>\n",
       "      <td>482370</td>\n",
       "      <td>LONDON BUS COFFEE MUG</td>\n",
       "      <td>3</td>\n",
       "      <td>3.52</td>\n",
       "      <td>United Kingdom</td>\n",
       "      <td>0</td>\n",
       "      <td>10.56</td>\n",
       "    </tr>\n",
       "    <tr>\n",
       "      <td>2</td>\n",
       "      <td>267099.0</td>\n",
       "      <td>6385599</td>\n",
       "      <td>2019-02-15 09:45:00</td>\n",
       "      <td>490728</td>\n",
       "      <td>SET 12 COLOUR PENCILS DOLLY GIRL</td>\n",
       "      <td>72</td>\n",
       "      <td>0.90</td>\n",
       "      <td>France</td>\n",
       "      <td>0</td>\n",
       "      <td>64.80</td>\n",
       "    </tr>\n",
       "    <tr>\n",
       "      <td>3</td>\n",
       "      <td>380478.0</td>\n",
       "      <td>6044973</td>\n",
       "      <td>2018-06-22 07:14:00</td>\n",
       "      <td>459186</td>\n",
       "      <td>UNION JACK FLAG LUGGAGE TAG</td>\n",
       "      <td>3</td>\n",
       "      <td>1.73</td>\n",
       "      <td>United Kingdom</td>\n",
       "      <td>0</td>\n",
       "      <td>5.19</td>\n",
       "    </tr>\n",
       "    <tr>\n",
       "      <td>5</td>\n",
       "      <td>285957.0</td>\n",
       "      <td>6307136</td>\n",
       "      <td>2019-01-11 09:50:00</td>\n",
       "      <td>1787247</td>\n",
       "      <td>CUT GLASS T-LIGHT HOLDER OCTAGON</td>\n",
       "      <td>12</td>\n",
       "      <td>3.52</td>\n",
       "      <td>United Kingdom</td>\n",
       "      <td>0</td>\n",
       "      <td>42.24</td>\n",
       "    </tr>\n",
       "  </tbody>\n",
       "</table>\n",
       "</div>"
      ],
      "text/plain": [
       "    user_id  trans_id          trans_time item_code  \\\n",
       "0  278166.0   6355745 2019-02-02 12:50:00    465549   \n",
       "1  337701.0   6283376 2018-12-26 09:06:00    482370   \n",
       "2  267099.0   6385599 2019-02-15 09:45:00    490728   \n",
       "3  380478.0   6044973 2018-06-22 07:14:00    459186   \n",
       "5  285957.0   6307136 2019-01-11 09:50:00   1787247   \n",
       "\n",
       "                         description  quantity  unit_price         country  \\\n",
       "0   FAMILY ALBUM WHITE PICTURE FRAME         6       11.73  United Kingdom   \n",
       "1              LONDON BUS COFFEE MUG         3        3.52  United Kingdom   \n",
       "2  SET 12 COLOUR PENCILS DOLLY GIRL         72        0.90          France   \n",
       "3        UNION JACK FLAG LUGGAGE TAG         3        1.73  United Kingdom   \n",
       "5   CUT GLASS T-LIGHT HOLDER OCTAGON        12        3.52  United Kingdom   \n",
       "\n",
       "   quantity_canceled  total_price  \n",
       "0                  0        70.38  \n",
       "1                  0        10.56  \n",
       "2                  0        64.80  \n",
       "3                  0         5.19  \n",
       "5                  0        42.24  "
      ]
     },
     "execution_count": 42,
     "metadata": {},
     "output_type": "execute_result"
    }
   ],
   "source": [
    "df_cleaned.head()"
   ]
  },
  {
   "cell_type": "code",
   "execution_count": 43,
   "metadata": {},
   "outputs": [],
   "source": [
    "#Convert to IST by adding 5:30\n",
    "from datetime import datetime, timedelta\n",
    "df_cleaned['trans_time'] = df_cleaned['trans_time'] + timedelta(hours = 5, minutes = 30)\n",
    "cart_price['trans_time'] = cart_price['trans_time'] + timedelta(hours = 5, minutes = 30)"
   ]
  },
  {
   "cell_type": "code",
   "execution_count": 46,
   "metadata": {},
   "outputs": [],
   "source": [
    "# Append Number of prodcuts in each trasactions to cart price dataframe\n",
    "cart_price = pd.merge(cart_price, products_per_basket, how='left')"
   ]
  },
  {
   "cell_type": "code",
   "execution_count": 202,
   "metadata": {},
   "outputs": [
    {
     "name": "stdout",
     "output_type": "stream",
     "text": [
      "This is total cart value and transaction time for each 18632 Transactions\n"
     ]
    },
    {
     "data": {
      "text/html": [
       "<div>\n",
       "<style scoped>\n",
       "    .dataframe tbody tr th:only-of-type {\n",
       "        vertical-align: middle;\n",
       "    }\n",
       "\n",
       "    .dataframe tbody tr th {\n",
       "        vertical-align: top;\n",
       "    }\n",
       "\n",
       "    .dataframe thead th {\n",
       "        text-align: right;\n",
       "    }\n",
       "</style>\n",
       "<table border=\"1\" class=\"dataframe\">\n",
       "  <thead>\n",
       "    <tr style=\"text-align: right;\">\n",
       "      <th></th>\n",
       "      <th>user_id</th>\n",
       "      <th>trans_id</th>\n",
       "      <th>cart_price</th>\n",
       "      <th>trans_time</th>\n",
       "      <th>Number of Products</th>\n",
       "    </tr>\n",
       "  </thead>\n",
       "  <tbody>\n",
       "    <tr>\n",
       "      <td>0</td>\n",
       "      <td>259266.0</td>\n",
       "      <td>5955741</td>\n",
       "      <td>0.00</td>\n",
       "      <td>2018-04-01 11:31:00.000000000</td>\n",
       "      <td>1</td>\n",
       "    </tr>\n",
       "    <tr>\n",
       "      <td>1</td>\n",
       "      <td>259287.0</td>\n",
       "      <td>5913886</td>\n",
       "      <td>2951.52</td>\n",
       "      <td>2018-02-18 16:27:00.000001280</td>\n",
       "      <td>31</td>\n",
       "    </tr>\n",
       "    <tr>\n",
       "      <td>2</td>\n",
       "      <td>259287.0</td>\n",
       "      <td>5964607</td>\n",
       "      <td>1971.96</td>\n",
       "      <td>2018-04-09 15:59:59.999999232</td>\n",
       "      <td>29</td>\n",
       "    </tr>\n",
       "    <tr>\n",
       "      <td>3</td>\n",
       "      <td>259287.0</td>\n",
       "      <td>6041442</td>\n",
       "      <td>2640.96</td>\n",
       "      <td>2018-06-19 12:12:59.999998976</td>\n",
       "      <td>24</td>\n",
       "    </tr>\n",
       "    <tr>\n",
       "      <td>4</td>\n",
       "      <td>259287.0</td>\n",
       "      <td>6118211</td>\n",
       "      <td>1587.12</td>\n",
       "      <td>2018-08-21 14:31:00.000000768</td>\n",
       "      <td>18</td>\n",
       "    </tr>\n",
       "  </tbody>\n",
       "</table>\n",
       "</div>"
      ],
      "text/plain": [
       "    user_id  trans_id  cart_price                    trans_time  \\\n",
       "0  259266.0   5955741        0.00 2018-04-01 11:31:00.000000000   \n",
       "1  259287.0   5913886     2951.52 2018-02-18 16:27:00.000001280   \n",
       "2  259287.0   5964607     1971.96 2018-04-09 15:59:59.999999232   \n",
       "3  259287.0   6041442     2640.96 2018-06-19 12:12:59.999998976   \n",
       "4  259287.0   6118211     1587.12 2018-08-21 14:31:00.000000768   \n",
       "\n",
       "   Number of Products  \n",
       "0                   1  \n",
       "1                  31  \n",
       "2                  29  \n",
       "3                  24  \n",
       "4                  18  "
      ]
     },
     "execution_count": 202,
     "metadata": {},
     "output_type": "execute_result"
    }
   ],
   "source": [
    "print(\"This is total cart value and transaction time for each \" + str(len(cart_price)) + \" Transactions\")\n",
    "cart_price.head()"
   ]
  },
  {
   "cell_type": "markdown",
   "metadata": {},
   "source": [
    "### Country"
   ]
  },
  {
   "cell_type": "code",
   "execution_count": 48,
   "metadata": {},
   "outputs": [
    {
     "name": "stdout",
     "output_type": "stream",
     "text": [
      "Number of Country after cleaning data: 37\n"
     ]
    }
   ],
   "source": [
    "temp = df_cleaned[['user_id', 'trans_id', 'country']].groupby(['user_id', 'trans_id', 'country']).count()\n",
    "temp = temp.reset_index(drop = False)\n",
    "countries = temp['country'].value_counts()\n",
    "print('Number of Country after cleaning data:' , len(countries))"
   ]
  },
  {
   "cell_type": "markdown",
   "metadata": {},
   "source": [
    "# Insight of some variables (EDA)"
   ]
  },
  {
   "cell_type": "markdown",
   "metadata": {},
   "source": [
    "### Top 5 Customers with most number of orders"
   ]
  },
  {
   "cell_type": "code",
   "execution_count": 49,
   "metadata": {},
   "outputs": [],
   "source": [
    "orders = df_cleaned.groupby(by=['user_id','country'], as_index=False)['trans_id'].count()"
   ]
  },
  {
   "cell_type": "code",
   "execution_count": 50,
   "metadata": {},
   "outputs": [
    {
     "name": "stdout",
     "output_type": "stream",
     "text": [
      "The TOP 5 customers\n"
     ]
    },
    {
     "data": {
      "text/html": [
       "<div>\n",
       "<style scoped>\n",
       "    .dataframe tbody tr th:only-of-type {\n",
       "        vertical-align: middle;\n",
       "    }\n",
       "\n",
       "    .dataframe tbody tr th {\n",
       "        vertical-align: top;\n",
       "    }\n",
       "\n",
       "    .dataframe thead th {\n",
       "        text-align: right;\n",
       "    }\n",
       "</style>\n",
       "<table border=\"1\" class=\"dataframe\">\n",
       "  <thead>\n",
       "    <tr style=\"text-align: right;\">\n",
       "      <th></th>\n",
       "      <th>user_id</th>\n",
       "      <th>country</th>\n",
       "      <th>trans_id</th>\n",
       "    </tr>\n",
       "  </thead>\n",
       "  <tbody>\n",
       "    <tr>\n",
       "      <td>4019</td>\n",
       "      <td>374661.0</td>\n",
       "      <td>United Kingdom</td>\n",
       "      <td>7674</td>\n",
       "    </tr>\n",
       "    <tr>\n",
       "      <td>1888</td>\n",
       "      <td>313131.0</td>\n",
       "      <td>EIRE</td>\n",
       "      <td>5673</td>\n",
       "    </tr>\n",
       "    <tr>\n",
       "      <td>1298</td>\n",
       "      <td>296016.0</td>\n",
       "      <td>United Kingdom</td>\n",
       "      <td>5111</td>\n",
       "    </tr>\n",
       "    <tr>\n",
       "      <td>334</td>\n",
       "      <td>267708.0</td>\n",
       "      <td>United Kingdom</td>\n",
       "      <td>4414</td>\n",
       "    </tr>\n",
       "    <tr>\n",
       "      <td>1670</td>\n",
       "      <td>306726.0</td>\n",
       "      <td>United Kingdom</td>\n",
       "      <td>2678</td>\n",
       "    </tr>\n",
       "  </tbody>\n",
       "</table>\n",
       "</div>"
      ],
      "text/plain": [
       "       user_id         country  trans_id\n",
       "4019  374661.0  United Kingdom      7674\n",
       "1888  313131.0            EIRE      5673\n",
       "1298  296016.0  United Kingdom      5111\n",
       "334   267708.0  United Kingdom      4414\n",
       "1670  306726.0  United Kingdom      2678"
      ]
     },
     "execution_count": 50,
     "metadata": {},
     "output_type": "execute_result"
    }
   ],
   "source": [
    "print('The TOP 5 customers')\n",
    "orders.sort_values(by='trans_id', ascending=False).head()"
   ]
  },
  {
   "cell_type": "markdown",
   "metadata": {},
   "source": [
    "### Money Spent by the customers "
   ]
  },
  {
   "cell_type": "code",
   "execution_count": 52,
   "metadata": {},
   "outputs": [
    {
     "data": {
      "image/png": "[encoded data removed]",
      "text/plain": [
       "<Figure size 1080x432 with 1 Axes>"
      ]
     },
     "metadata": {
      "needs_background": "light"
     },
     "output_type": "display_data"
    }
   ],
   "source": [
    "money_spent = df_cleaned.groupby(by=['user_id','country'], as_index=False)['total_price'].sum()\n",
    "\n",
    "plt.subplots(figsize=(15,6))\n",
    "plt.plot(money_spent.user_id, money_spent.total_price)\n",
    "plt.xlabel('Customers ID')\n",
    "plt.ylabel('Money spent (Euro)')\n",
    "plt.title('Money Spent for different Customers')\n",
    "plt.show()"
   ]
  },
  {
   "cell_type": "markdown",
   "metadata": {},
   "source": [
    "### TOP 5 highest money spent"
   ]
  },
  {
   "cell_type": "code",
   "execution_count": 54,
   "metadata": {},
   "outputs": [
    {
     "name": "stdout",
     "output_type": "stream",
     "text": [
      "The TOP 5 customers with highest money spent...\n"
     ]
    },
    {
     "data": {
      "text/html": [
       "<div>\n",
       "<style scoped>\n",
       "    .dataframe tbody tr th:only-of-type {\n",
       "        vertical-align: middle;\n",
       "    }\n",
       "\n",
       "    .dataframe tbody tr th {\n",
       "        vertical-align: top;\n",
       "    }\n",
       "\n",
       "    .dataframe thead th {\n",
       "        text-align: right;\n",
       "    }\n",
       "</style>\n",
       "<table border=\"1\" class=\"dataframe\">\n",
       "  <thead>\n",
       "    <tr style=\"text-align: right;\">\n",
       "      <th></th>\n",
       "      <th>user_id</th>\n",
       "      <th>country</th>\n",
       "      <th>total_price</th>\n",
       "    </tr>\n",
       "  </thead>\n",
       "  <tbody>\n",
       "    <tr>\n",
       "      <td>1046</td>\n",
       "      <td>288687.0</td>\n",
       "      <td>United Kingdom</td>\n",
       "      <td>40710850.56</td>\n",
       "    </tr>\n",
       "    <tr>\n",
       "      <td>1698</td>\n",
       "      <td>307566.0</td>\n",
       "      <td>Netherlands</td>\n",
       "      <td>1160679.93</td>\n",
       "    </tr>\n",
       "    <tr>\n",
       "      <td>4210</td>\n",
       "      <td>380142.0</td>\n",
       "      <td>United Kingdom</td>\n",
       "      <td>1076194.08</td>\n",
       "    </tr>\n",
       "    <tr>\n",
       "      <td>3737</td>\n",
       "      <td>366450.0</td>\n",
       "      <td>United Kingdom</td>\n",
       "      <td>785605.83</td>\n",
       "    </tr>\n",
       "    <tr>\n",
       "      <td>1888</td>\n",
       "      <td>313131.0</td>\n",
       "      <td>EIRE</td>\n",
       "      <td>566959.95</td>\n",
       "    </tr>\n",
       "  </tbody>\n",
       "</table>\n",
       "</div>"
      ],
      "text/plain": [
       "       user_id         country  total_price\n",
       "1046  288687.0  United Kingdom  40710850.56\n",
       "1698  307566.0     Netherlands   1160679.93\n",
       "4210  380142.0  United Kingdom   1076194.08\n",
       "3737  366450.0  United Kingdom    785605.83\n",
       "1888  313131.0            EIRE    566959.95"
      ]
     },
     "execution_count": 54,
     "metadata": {},
     "output_type": "execute_result"
    }
   ],
   "source": [
    "print('The TOP 5 customers with highest money spent...')\n",
    "money_spent.sort_values(by='total_price', ascending=False).head()"
   ]
  },
  {
   "cell_type": "code",
   "execution_count": 55,
   "metadata": {},
   "outputs": [],
   "source": [
    "# Add Month, Day and Hour column for some analysis\n",
    "df_cleaned.insert(loc=2, column='year_month', value=df_cleaned['trans_time'].map(lambda x: 100*x.year + x.month))\n",
    "df_cleaned.insert(loc=3, column='year', value=df_cleaned.trans_time.dt.year)\n",
    "df_cleaned.insert(loc=4, column='month', value=df_cleaned.trans_time.dt.month)\n",
    "# +1 to make Monday=1.....til Sunday=7\n",
    "df_cleaned.insert(loc=5, column='day', value=(df_cleaned.trans_time.dt.dayofweek)+1)\n",
    "df_cleaned.insert(loc=6, column='hour', value=df_cleaned.trans_time.dt.hour)"
   ]
  },
  {
   "cell_type": "code",
   "execution_count": 56,
   "metadata": {},
   "outputs": [
    {
     "data": {
      "text/html": [
       "<div>\n",
       "<style scoped>\n",
       "    .dataframe tbody tr th:only-of-type {\n",
       "        vertical-align: middle;\n",
       "    }\n",
       "\n",
       "    .dataframe tbody tr th {\n",
       "        vertical-align: top;\n",
       "    }\n",
       "\n",
       "    .dataframe thead th {\n",
       "        text-align: right;\n",
       "    }\n",
       "</style>\n",
       "<table border=\"1\" class=\"dataframe\">\n",
       "  <thead>\n",
       "    <tr style=\"text-align: right;\">\n",
       "      <th></th>\n",
       "      <th>user_id</th>\n",
       "      <th>trans_id</th>\n",
       "      <th>year_month</th>\n",
       "      <th>year</th>\n",
       "      <th>month</th>\n",
       "      <th>day</th>\n",
       "      <th>hour</th>\n",
       "      <th>trans_time</th>\n",
       "      <th>item_code</th>\n",
       "      <th>description</th>\n",
       "      <th>quantity</th>\n",
       "      <th>unit_price</th>\n",
       "      <th>country</th>\n",
       "      <th>quantity_canceled</th>\n",
       "      <th>total_price</th>\n",
       "    </tr>\n",
       "  </thead>\n",
       "  <tbody>\n",
       "    <tr>\n",
       "      <td>0</td>\n",
       "      <td>278166.0</td>\n",
       "      <td>6355745</td>\n",
       "      <td>201902</td>\n",
       "      <td>2019</td>\n",
       "      <td>2</td>\n",
       "      <td>6</td>\n",
       "      <td>18</td>\n",
       "      <td>2019-02-02 18:20:00</td>\n",
       "      <td>465549</td>\n",
       "      <td>FAMILY ALBUM WHITE PICTURE FRAME</td>\n",
       "      <td>6</td>\n",
       "      <td>11.73</td>\n",
       "      <td>United Kingdom</td>\n",
       "      <td>0</td>\n",
       "      <td>70.38</td>\n",
       "    </tr>\n",
       "    <tr>\n",
       "      <td>1</td>\n",
       "      <td>337701.0</td>\n",
       "      <td>6283376</td>\n",
       "      <td>201812</td>\n",
       "      <td>2018</td>\n",
       "      <td>12</td>\n",
       "      <td>3</td>\n",
       "      <td>14</td>\n",
       "      <td>2018-12-26 14:36:00</td>\n",
       "      <td>482370</td>\n",
       "      <td>LONDON BUS COFFEE MUG</td>\n",
       "      <td>3</td>\n",
       "      <td>3.52</td>\n",
       "      <td>United Kingdom</td>\n",
       "      <td>0</td>\n",
       "      <td>10.56</td>\n",
       "    </tr>\n",
       "    <tr>\n",
       "      <td>2</td>\n",
       "      <td>267099.0</td>\n",
       "      <td>6385599</td>\n",
       "      <td>201902</td>\n",
       "      <td>2019</td>\n",
       "      <td>2</td>\n",
       "      <td>5</td>\n",
       "      <td>15</td>\n",
       "      <td>2019-02-15 15:15:00</td>\n",
       "      <td>490728</td>\n",
       "      <td>SET 12 COLOUR PENCILS DOLLY GIRL</td>\n",
       "      <td>72</td>\n",
       "      <td>0.90</td>\n",
       "      <td>France</td>\n",
       "      <td>0</td>\n",
       "      <td>64.80</td>\n",
       "    </tr>\n",
       "    <tr>\n",
       "      <td>3</td>\n",
       "      <td>380478.0</td>\n",
       "      <td>6044973</td>\n",
       "      <td>201806</td>\n",
       "      <td>2018</td>\n",
       "      <td>6</td>\n",
       "      <td>5</td>\n",
       "      <td>12</td>\n",
       "      <td>2018-06-22 12:44:00</td>\n",
       "      <td>459186</td>\n",
       "      <td>UNION JACK FLAG LUGGAGE TAG</td>\n",
       "      <td>3</td>\n",
       "      <td>1.73</td>\n",
       "      <td>United Kingdom</td>\n",
       "      <td>0</td>\n",
       "      <td>5.19</td>\n",
       "    </tr>\n",
       "    <tr>\n",
       "      <td>5</td>\n",
       "      <td>285957.0</td>\n",
       "      <td>6307136</td>\n",
       "      <td>201901</td>\n",
       "      <td>2019</td>\n",
       "      <td>1</td>\n",
       "      <td>5</td>\n",
       "      <td>15</td>\n",
       "      <td>2019-01-11 15:20:00</td>\n",
       "      <td>1787247</td>\n",
       "      <td>CUT GLASS T-LIGHT HOLDER OCTAGON</td>\n",
       "      <td>12</td>\n",
       "      <td>3.52</td>\n",
       "      <td>United Kingdom</td>\n",
       "      <td>0</td>\n",
       "      <td>42.24</td>\n",
       "    </tr>\n",
       "  </tbody>\n",
       "</table>\n",
       "</div>"
      ],
      "text/plain": [
       "    user_id  trans_id  year_month  year  month  day  hour          trans_time  \\\n",
       "0  278166.0   6355745      201902  2019      2    6    18 2019-02-02 18:20:00   \n",
       "1  337701.0   6283376      201812  2018     12    3    14 2018-12-26 14:36:00   \n",
       "2  267099.0   6385599      201902  2019      2    5    15 2019-02-15 15:15:00   \n",
       "3  380478.0   6044973      201806  2018      6    5    12 2018-06-22 12:44:00   \n",
       "5  285957.0   6307136      201901  2019      1    5    15 2019-01-11 15:20:00   \n",
       "\n",
       "  item_code                        description  quantity  unit_price  \\\n",
       "0    465549   FAMILY ALBUM WHITE PICTURE FRAME         6       11.73   \n",
       "1    482370              LONDON BUS COFFEE MUG         3        3.52   \n",
       "2    490728  SET 12 COLOUR PENCILS DOLLY GIRL         72        0.90   \n",
       "3    459186        UNION JACK FLAG LUGGAGE TAG         3        1.73   \n",
       "5   1787247   CUT GLASS T-LIGHT HOLDER OCTAGON        12        3.52   \n",
       "\n",
       "          country  quantity_canceled  total_price  \n",
       "0  United Kingdom                  0        70.38  \n",
       "1  United Kingdom                  0        10.56  \n",
       "2          France                  0        64.80  \n",
       "3  United Kingdom                  0         5.19  \n",
       "5  United Kingdom                  0        42.24  "
      ]
     },
     "execution_count": 56,
     "metadata": {},
     "output_type": "execute_result"
    }
   ],
   "source": [
    "df_cleaned.head()"
   ]
  },
  {
   "cell_type": "markdown",
   "metadata": {},
   "source": [
    "### How many orders (per month)?"
   ]
  },
  {
   "cell_type": "code",
   "execution_count": 57,
   "metadata": {},
   "outputs": [
    {
     "name": "stdout",
     "output_type": "stream",
     "text": [
      "Start Date:  2018-02-12 09:56:00\n",
      "End Date:  2019-02-20 14:20:00\n"
     ]
    }
   ],
   "source": [
    "print(\"Start Date: \" , min(df_cleaned['trans_time']))\n",
    "print(\"End Date: \" , max(df_cleaned['trans_time']))"
   ]
  },
  {
   "cell_type": "code",
   "execution_count": 58,
   "metadata": {},
   "outputs": [
    {
     "name": "stderr",
     "output_type": "stream",
     "text": [
      "/root/anaconda3/lib/python3.7/site-packages/ipykernel_launcher.py:2: FutureWarning: `Series.plot()` should not be called with positional arguments, only keyword arguments. The order of positional arguments will change in the future. Use `Series.plot(kind='bar')` instead of `Series.plot('bar',)`.\n",
      "  \n"
     ]
    },
    {
     "data": {
      "image/png": "[encoded data removed]",
      "text/plain": [
       "<Figure size 1080x432 with 1 Axes>"
      ]
     },
     "metadata": {
      "needs_background": "light"
     },
     "output_type": "display_data"
    }
   ],
   "source": [
    "# Plot month wise orders...\n",
    "ax = df_cleaned.groupby('trans_id')['year_month'].unique().value_counts().sort_index().plot('bar',color = \"blue\",figsize=(15,6))\n",
    "ax.set_xlabel('Month',fontsize=15)\n",
    "ax.set_ylabel('Number of Orders',fontsize=15)\n",
    "ax.set_title('Number of orders for different Months (11th Feb 2018 - 20th Feb 2019)',fontsize=15)\n",
    "ax.set_xticklabels(('Feb_18','Mar_18','Apr_18','May_18','Jun_18','July_18','Aug_18','Sep_18','Oct_18','Nov_18','Dec_18','Jan_19','Feb_19'), rotation='horizontal', fontsize=13)\n",
    "plt.show()"
   ]
  },
  {
   "cell_type": "markdown",
   "metadata": {},
   "source": [
    "### How many orders (per day)? "
   ]
  },
  {
   "cell_type": "code",
   "execution_count": 59,
   "metadata": {},
   "outputs": [
    {
     "data": {
      "text/plain": [
       "[1]    3480\n",
       "[2]    4060\n",
       "[3]    2843\n",
       "[5]    2174\n",
       "[6]    2877\n",
       "[7]    3198\n",
       "Name: day, dtype: int64"
      ]
     },
     "execution_count": 59,
     "metadata": {},
     "output_type": "execute_result"
    }
   ],
   "source": [
    "# We make group of transcation for each days...\n",
    "df_cleaned.groupby('trans_id')['day'].unique().value_counts().sort_index()"
   ]
  },
  {
   "cell_type": "code",
   "execution_count": 60,
   "metadata": {},
   "outputs": [
    {
     "name": "stderr",
     "output_type": "stream",
     "text": [
      "/root/anaconda3/lib/python3.7/site-packages/ipykernel_launcher.py:1: FutureWarning: `Series.plot()` should not be called with positional arguments, only keyword arguments. The order of positional arguments will change in the future. Use `Series.plot(kind='bar')` instead of `Series.plot('bar',)`.\n",
      "  \"\"\"Entry point for launching an IPython kernel.\n"
     ]
    },
    {
     "data": {
      "image/png": "[encoded data removed]",
      "text/plain": [
       "<Figure size 1080x432 with 1 Axes>"
      ]
     },
     "metadata": {
      "needs_background": "light"
     },
     "output_type": "display_data"
    }
   ],
   "source": [
    "ax = df_cleaned.groupby('trans_id')['day'].unique().value_counts().sort_index().plot('bar',color = \"blue\",figsize=(15,6))\n",
    "ax.set_xlabel('Day',fontsize=15)\n",
    "ax.set_ylabel('Number of Orders',fontsize=15)\n",
    "ax.set_title('Number of orders for different Days',fontsize=15)\n",
    "ax.set_xticklabels(('Mon','Tue','Wed','Fri','Sat','Sun'), rotation='horizontal', fontsize=15)\n",
    "plt.show()"
   ]
  },
  {
   "cell_type": "markdown",
   "metadata": {},
   "source": [
    "### How many orders (per hour)?"
   ]
  },
  {
   "cell_type": "code",
   "execution_count": 61,
   "metadata": {},
   "outputs": [
    {
     "data": {
      "text/plain": [
       "[7]        3\n",
       "[9]      223\n",
       "[10]     947\n",
       "[11]    1868\n",
       "[12]    2018\n",
       "[13]    3066\n",
       "[14]    2826\n",
       "[15]    2421\n",
       "[16]    2270\n",
       "[17]    1573\n",
       "[18]     912\n",
       "[19]     274\n",
       "[20]     136\n",
       "[21]      94\n",
       "Name: hour, dtype: int64"
      ]
     },
     "execution_count": 61,
     "metadata": {},
     "output_type": "execute_result"
    }
   ],
   "source": [
    "df_cleaned.groupby('trans_id')['hour'].unique().value_counts().iloc[:-1].sort_index()"
   ]
  },
  {
   "cell_type": "code",
   "execution_count": 62,
   "metadata": {},
   "outputs": [
    {
     "name": "stderr",
     "output_type": "stream",
     "text": [
      "/root/anaconda3/lib/python3.7/site-packages/ipykernel_launcher.py:1: FutureWarning: `Series.plot()` should not be called with positional arguments, only keyword arguments. The order of positional arguments will change in the future. Use `Series.plot(kind='bar')` instead of `Series.plot('bar',)`.\n",
      "  \"\"\"Entry point for launching an IPython kernel.\n"
     ]
    },
    {
     "data": {
      "image/png": "[encoded data removed]",
      "text/plain": [
       "<Figure size 1080x432 with 1 Axes>"
      ]
     },
     "metadata": {
      "needs_background": "light"
     },
     "output_type": "display_data"
    }
   ],
   "source": [
    "ax = df_cleaned.groupby('trans_id')['hour'].unique().value_counts().iloc[:-1].sort_index().plot('bar',color = \"blue\",figsize=(15,6))\n",
    "ax.set_xlabel('Hour',fontsize=15)\n",
    "ax.set_ylabel('Number of Orders',fontsize=15)\n",
    "ax.set_title('Number of orders for different Hours',fontsize=15)\n",
    "ax.set_xticklabels((7,9,10,11,12,13,14,15,16,17,18,19,20,21), rotation='horizontal', fontsize=15)\n",
    "plt.show()"
   ]
  },
  {
   "cell_type": "markdown",
   "metadata": {},
   "source": [
    "### How many orders for each country?"
   ]
  },
  {
   "cell_type": "code",
   "execution_count": 63,
   "metadata": {},
   "outputs": [
    {
     "name": "stderr",
     "output_type": "stream",
     "text": [
      "/root/anaconda3/lib/python3.7/site-packages/ipykernel_launcher.py:6: FutureWarning: `Series.plot()` should not be called with positional arguments, only keyword arguments. The order of positional arguments will change in the future. Use `Series.plot(kind='barh')` instead of `Series.plot('barh',)`.\n",
      "  \n"
     ]
    },
    {
     "name": "stdout",
     "output_type": "stream",
     "text": [
      "With United Kingdom\n"
     ]
    },
    {
     "data": {
      "image/png": "[encoded data removed]",
      "text/plain": [
       "<Figure size 1080x576 with 1 Axes>"
      ]
     },
     "metadata": {
      "needs_background": "light"
     },
     "output_type": "display_data"
    }
   ],
   "source": [
    "group_country_orders = df_cleaned.groupby('country')['trans_id'].count().sort_values()\n",
    "# del group_country_orders['United Kingdom']\n",
    "\n",
    "# plot number of unique customers in each country (with UK)\n",
    "plt.subplots(figsize=(15,8))\n",
    "group_country_orders.plot('barh', fontsize=12, color = \"blue\")\n",
    "plt.xlabel('Number of Orders', fontsize=12)\n",
    "plt.ylabel('Country', fontsize=12)\n",
    "plt.title('Number of Orders for different Countries', fontsize=12)\n",
    "print(\"With United Kingdom\")\n",
    "plt.show()"
   ]
  },
  {
   "cell_type": "code",
   "execution_count": 64,
   "metadata": {},
   "outputs": [
    {
     "name": "stderr",
     "output_type": "stream",
     "text": [
      "/root/anaconda3/lib/python3.7/site-packages/ipykernel_launcher.py:6: FutureWarning: `Series.plot()` should not be called with positional arguments, only keyword arguments. The order of positional arguments will change in the future. Use `Series.plot(kind='barh')` instead of `Series.plot('barh',)`.\n",
      "  \n"
     ]
    },
    {
     "name": "stdout",
     "output_type": "stream",
     "text": [
      "Without United Kingdom\n"
     ]
    },
    {
     "data": {
      "image/png": "[encoded data removed]",
      "text/plain": [
       "<Figure size 1080x576 with 1 Axes>"
      ]
     },
     "metadata": {
      "needs_background": "light"
     },
     "output_type": "display_data"
    }
   ],
   "source": [
    "group_country_orders = df_cleaned.groupby('country')['trans_id'].count().sort_values()\n",
    "del group_country_orders['United Kingdom']\n",
    "\n",
    "# plot number of unique customers in each country (without UK)\n",
    "plt.subplots(figsize=(15,8))\n",
    "group_country_orders.plot('barh', fontsize=12, color = \"blue\")\n",
    "plt.xlabel('Number of Orders', fontsize=12)\n",
    "plt.ylabel('Country', fontsize=12)\n",
    "plt.title('Number of Orders for different Countries', fontsize=12)\n",
    "print(\"Without United Kingdom\")\n",
    "plt.show()"
   ]
  },
  {
   "cell_type": "markdown",
   "metadata": {},
   "source": [
    "### How much money spent by each country?"
   ]
  },
  {
   "cell_type": "code",
   "execution_count": 65,
   "metadata": {},
   "outputs": [
    {
     "name": "stderr",
     "output_type": "stream",
     "text": [
      "/root/anaconda3/lib/python3.7/site-packages/ipykernel_launcher.py:5: FutureWarning: `Series.plot()` should not be called with positional arguments, only keyword arguments. The order of positional arguments will change in the future. Use `Series.plot(kind='barh')` instead of `Series.plot('barh',)`.\n",
      "  \"\"\"\n"
     ]
    },
    {
     "data": {
      "image/png": "[encoded data removed]",
      "text/plain": [
       "<Figure size 1080x576 with 1 Axes>"
      ]
     },
     "metadata": {
      "needs_background": "light"
     },
     "output_type": "display_data"
    }
   ],
   "source": [
    "group_country_amount_spent = df_cleaned.groupby('country')['total_price'].sum().sort_values()\n",
    "\n",
    "# plot total money spent by each country (with UK)\n",
    "plt.subplots(figsize=(15,8))\n",
    "group_country_amount_spent.plot('barh', fontsize=12, color = \"blue\")\n",
    "plt.xlabel('Money Spent (Euro)', fontsize=12)\n",
    "plt.ylabel('Country', fontsize=12)\n",
    "plt.title('Money Spent by different Countries', fontsize=12)\n",
    "plt.show()"
   ]
  },
  {
   "cell_type": "code",
   "execution_count": 66,
   "metadata": {},
   "outputs": [
    {
     "name": "stderr",
     "output_type": "stream",
     "text": [
      "/root/anaconda3/lib/python3.7/site-packages/ipykernel_launcher.py:6: FutureWarning: `Series.plot()` should not be called with positional arguments, only keyword arguments. The order of positional arguments will change in the future. Use `Series.plot(kind='barh')` instead of `Series.plot('barh',)`.\n",
      "  \n"
     ]
    },
    {
     "data": {
      "image/png": "[encoded data removed]",
      "text/plain": [
       "<Figure size 1080x576 with 1 Axes>"
      ]
     },
     "metadata": {
      "needs_background": "light"
     },
     "output_type": "display_data"
    }
   ],
   "source": [
    "group_country_amount_spent = df_cleaned.groupby('country')['total_price'].sum().sort_values()\n",
    "del group_country_amount_spent['United Kingdom']\n",
    "\n",
    "# plot total money spent by each country (with UK)\n",
    "plt.subplots(figsize=(15,8))\n",
    "group_country_amount_spent.plot('barh', fontsize=12, color = \"blue\")\n",
    "plt.xlabel('Money Spent (Euro)', fontsize=12)\n",
    "plt.ylabel('Country', fontsize=12)\n",
    "plt.title('Money Spent by different Countries', fontsize=12)\n",
    "plt.show()"
   ]
  },
  {
   "cell_type": "markdown",
   "metadata": {},
   "source": [
    "# Description variable Clustering"
   ]
  },
  {
   "cell_type": "markdown",
   "metadata": {},
   "source": [
    "Description of each product(3200) is uniques and we can obtain much information about product from it. Item Code respect to that description is unique too. But we can't get information from it. So, I ignore it.\n",
    "\n",
    "Initially I will remove some stop words, do tokenization and stamming on given description, clean text and take only meaningful word of description only.\n",
    "\n",
    "Then I will do clustering on that part to segment items using its description only."
   ]
  },
  {
   "cell_type": "code",
   "execution_count": 69,
   "metadata": {},
   "outputs": [],
   "source": [
    "# Take only description and ignore itemcode\n",
    "df_product = pd.DataFrame(df_cleaned['description'].unique()).rename(columns = {0:'description'})"
   ]
  },
  {
   "cell_type": "code",
   "execution_count": 71,
   "metadata": {},
   "outputs": [],
   "source": [
    "# Include new variable total words\n",
    "df_product['total_words'] = df_product['description'].str.split().str.len()"
   ]
  },
  {
   "cell_type": "code",
   "execution_count": 72,
   "metadata": {},
   "outputs": [],
   "source": [
    "# Include new variable description length\n",
    "df_product['desc_len'] = df_product['description'].str.len()"
   ]
  },
  {
   "cell_type": "code",
   "execution_count": 74,
   "metadata": {},
   "outputs": [
    {
     "name": "stdout",
     "output_type": "stream",
     "text": [
      "No. of Unique descriptions:  3878\n"
     ]
    },
    {
     "data": {
      "text/html": [
       "<div>\n",
       "<style scoped>\n",
       "    .dataframe tbody tr th:only-of-type {\n",
       "        vertical-align: middle;\n",
       "    }\n",
       "\n",
       "    .dataframe tbody tr th {\n",
       "        vertical-align: top;\n",
       "    }\n",
       "\n",
       "    .dataframe thead th {\n",
       "        text-align: right;\n",
       "    }\n",
       "</style>\n",
       "<table border=\"1\" class=\"dataframe\">\n",
       "  <thead>\n",
       "    <tr style=\"text-align: right;\">\n",
       "      <th></th>\n",
       "      <th>description</th>\n",
       "      <th>total_words</th>\n",
       "      <th>desc_len</th>\n",
       "    </tr>\n",
       "  </thead>\n",
       "  <tbody>\n",
       "    <tr>\n",
       "      <td>0</td>\n",
       "      <td>FAMILY ALBUM WHITE PICTURE FRAME</td>\n",
       "      <td>5</td>\n",
       "      <td>32</td>\n",
       "    </tr>\n",
       "    <tr>\n",
       "      <td>1</td>\n",
       "      <td>LONDON BUS COFFEE MUG</td>\n",
       "      <td>4</td>\n",
       "      <td>21</td>\n",
       "    </tr>\n",
       "    <tr>\n",
       "      <td>2</td>\n",
       "      <td>SET 12 COLOUR PENCILS DOLLY GIRL</td>\n",
       "      <td>6</td>\n",
       "      <td>33</td>\n",
       "    </tr>\n",
       "    <tr>\n",
       "      <td>3</td>\n",
       "      <td>UNION JACK FLAG LUGGAGE TAG</td>\n",
       "      <td>5</td>\n",
       "      <td>27</td>\n",
       "    </tr>\n",
       "    <tr>\n",
       "      <td>4</td>\n",
       "      <td>CUT GLASS T-LIGHT HOLDER OCTAGON</td>\n",
       "      <td>5</td>\n",
       "      <td>32</td>\n",
       "    </tr>\n",
       "  </tbody>\n",
       "</table>\n",
       "</div>"
      ],
      "text/plain": [
       "                         description  total_words  desc_len\n",
       "0   FAMILY ALBUM WHITE PICTURE FRAME            5        32\n",
       "1              LONDON BUS COFFEE MUG            4        21\n",
       "2  SET 12 COLOUR PENCILS DOLLY GIRL             6        33\n",
       "3        UNION JACK FLAG LUGGAGE TAG            5        27\n",
       "4   CUT GLASS T-LIGHT HOLDER OCTAGON            5        32"
      ]
     },
     "execution_count": 74,
     "metadata": {},
     "output_type": "execute_result"
    }
   ],
   "source": [
    "print(\"No. of Unique descriptions: \" , len(df_product))\n",
    "df_product.head()"
   ]
  },
  {
   "cell_type": "markdown",
   "metadata": {},
   "source": [
    "Below function do following operations:\n",
    "\n",
    "1. Extract the names(proper) appearing in description\n",
    "2. For each name, extract the root of the word and aggregate the set of names associated with this particular root\n",
    "3. Count the number of times each root appears in the dataframe\n",
    "4. When several words are listed for the same root, I consider that the keyword associated with this root is the shortest name"
   ]
  },
  {
   "cell_type": "code",
   "execution_count": 80,
   "metadata": {},
   "outputs": [],
   "source": [
    "is_noun = lambda pos: pos[:2] == 'NN'\n",
    "\n",
    "def keywords_inventory(dataframe, column = 'description'):\n",
    "    stemmer = nltk.stem.SnowballStemmer(\"english\")\n",
    "    keywords_roots  = dict()  # collect the words / root\n",
    "    keywords_select = dict()  # association: root <-> keyword\n",
    "    category_keys   = []\n",
    "    count_keywords  = dict()\n",
    "    icount = 0\n",
    "    for s in dataframe[column]:\n",
    "        if pd.isnull(s): continue\n",
    "        lines = s.lower()\n",
    "        tokenized = nltk.word_tokenize(lines)\n",
    "        nouns = [word for (word, pos) in nltk.pos_tag(tokenized) if is_noun(pos)] \n",
    "        \n",
    "        for t in nouns:\n",
    "            t = t.lower() ; racine = stemmer.stem(t)\n",
    "            if racine in keywords_roots:                \n",
    "                keywords_roots[racine].add(t)\n",
    "                count_keywords[racine] += 1                \n",
    "            else:\n",
    "                keywords_roots[racine] = {t}\n",
    "                count_keywords[racine] = 1\n",
    "    \n",
    "    for s in keywords_roots.keys():\n",
    "        if len(keywords_roots[s]) > 1:  \n",
    "            min_length = 1000\n",
    "            for k in keywords_roots[s]:\n",
    "                if len(k) < min_length:\n",
    "                    clef = k ; min_length = len(k)            \n",
    "            category_keys.append(clef)\n",
    "            keywords_select[s] = clef\n",
    "        else:\n",
    "            category_keys.append(list(keywords_roots[s])[0])\n",
    "            keywords_select[s] = list(keywords_roots[s])[0]\n",
    "                \n",
    "    return category_keys, keywords_roots, keywords_select, count_keywords"
   ]
  },
  {
   "cell_type": "code",
   "execution_count": 81,
   "metadata": {},
   "outputs": [],
   "source": [
    "keywords, keywords_roots, keywords_select, count_keywords = keywords_inventory(df_product)"
   ]
  },
  {
   "cell_type": "code",
   "execution_count": 85,
   "metadata": {},
   "outputs": [
    {
     "name": "stdout",
     "output_type": "stream",
     "text": [
      "No. of Keywords in Description variable:  1479\n"
     ]
    }
   ],
   "source": [
    "print(\"No. of Keywords in Description variable: \" , len(keywords))"
   ]
  },
  {
   "cell_type": "markdown",
   "metadata": {},
   "source": [
    "count_keywords variable shows how many time each keywords occur."
   ]
  },
  {
   "cell_type": "code",
   "execution_count": 89,
   "metadata": {},
   "outputs": [],
   "source": [
    "# Here I make list of keywords and its value\n",
    "list_products = []\n",
    "for k,v in count_keywords.items():\n",
    "    list_products.append([keywords_select[k],v])\n",
    "list_products.sort(key = lambda x:x[1], reverse = True)"
   ]
  },
  {
   "cell_type": "code",
   "execution_count": 100,
   "metadata": {},
   "outputs": [
    {
     "data": {
      "image/png": "[encoded data removed]",
      "text/plain": [
       "<Figure size 504x1440 with 1 Axes>"
      ]
     },
     "metadata": {
      "needs_background": "light"
     },
     "output_type": "display_data"
    }
   ],
   "source": [
    "# Number of occurence for top 20 words\n",
    "plt.rc('font', weight='normal')\n",
    "fig, ax = plt.subplots(figsize=(7, 20))\n",
    "y_axis = [i[1] for i in list_products[:20]]\n",
    "x_axis = [k for k,i in enumerate(list_products[:20])]\n",
    "x_label = [i[0] for i in list_products[:20]]\n",
    "plt.xticks(fontsize = 10)\n",
    "plt.yticks(fontsize = 10)\n",
    "plt.yticks(x_axis, x_label)\n",
    "plt.xlabel(\"No. of occurences\", fontsize = 15, labelpad = 5)\n",
    "ax.barh(x_axis, y_axis, align = 'center')\n",
    "ax = plt.gca()\n",
    "ax.invert_yaxis()\n",
    "\n",
    "\n",
    "plt.title(\"Top 20 Words occurence\",bbox={'facecolor':'k', 'pad':5}, color='w',fontsize = 15)\n",
    "plt.show()"
   ]
  },
  {
   "cell_type": "code",
   "execution_count": 188,
   "metadata": {},
   "outputs": [],
   "source": [
    "lp = df_product['description'].unique()\n",
    "X = pd.DataFrame()\n",
    "for key, occurence in list_products:\n",
    "    X.loc[:, key] = list(map(lambda x:int(key.upper() in x), lp))"
   ]
  },
  {
   "cell_type": "code",
   "execution_count": 189,
   "metadata": {},
   "outputs": [],
   "source": [
    "X['total_words'] = df_product['total_words']\n",
    "X['desc_len'] = df_product['desc_len']"
   ]
  },
  {
   "cell_type": "code",
   "execution_count": 190,
   "metadata": {},
   "outputs": [
    {
     "data": {
      "text/html": [
       "<div>\n",
       "<style scoped>\n",
       "    .dataframe tbody tr th:only-of-type {\n",
       "        vertical-align: middle;\n",
       "    }\n",
       "\n",
       "    .dataframe tbody tr th {\n",
       "        vertical-align: top;\n",
       "    }\n",
       "\n",
       "    .dataframe thead th {\n",
       "        text-align: right;\n",
       "    }\n",
       "</style>\n",
       "<table border=\"1\" class=\"dataframe\">\n",
       "  <thead>\n",
       "    <tr style=\"text-align: right;\">\n",
       "      <th></th>\n",
       "      <th>heart</th>\n",
       "      <th>vintage</th>\n",
       "      <th>set</th>\n",
       "      <th>pink</th>\n",
       "      <th>bag</th>\n",
       "      <th>box</th>\n",
       "      <th>glass</th>\n",
       "      <th>christmas</th>\n",
       "      <th>design</th>\n",
       "      <th>candle</th>\n",
       "      <th>...</th>\n",
       "      <th>blue/green</th>\n",
       "      <th>scallop</th>\n",
       "      <th>mummy</th>\n",
       "      <th>blue/nat</th>\n",
       "      <th>z</th>\n",
       "      <th>draw</th>\n",
       "      <th>mark</th>\n",
       "      <th>peridot</th>\n",
       "      <th>total_words</th>\n",
       "      <th>desc_len</th>\n",
       "    </tr>\n",
       "  </thead>\n",
       "  <tbody>\n",
       "    <tr>\n",
       "      <td>0</td>\n",
       "      <td>0</td>\n",
       "      <td>0</td>\n",
       "      <td>0</td>\n",
       "      <td>0</td>\n",
       "      <td>0</td>\n",
       "      <td>0</td>\n",
       "      <td>0</td>\n",
       "      <td>0</td>\n",
       "      <td>0</td>\n",
       "      <td>0</td>\n",
       "      <td>...</td>\n",
       "      <td>0</td>\n",
       "      <td>0</td>\n",
       "      <td>0</td>\n",
       "      <td>0</td>\n",
       "      <td>0</td>\n",
       "      <td>0</td>\n",
       "      <td>0</td>\n",
       "      <td>0</td>\n",
       "      <td>5</td>\n",
       "      <td>32</td>\n",
       "    </tr>\n",
       "    <tr>\n",
       "      <td>1</td>\n",
       "      <td>0</td>\n",
       "      <td>0</td>\n",
       "      <td>0</td>\n",
       "      <td>0</td>\n",
       "      <td>0</td>\n",
       "      <td>0</td>\n",
       "      <td>0</td>\n",
       "      <td>0</td>\n",
       "      <td>0</td>\n",
       "      <td>0</td>\n",
       "      <td>...</td>\n",
       "      <td>0</td>\n",
       "      <td>0</td>\n",
       "      <td>0</td>\n",
       "      <td>0</td>\n",
       "      <td>0</td>\n",
       "      <td>0</td>\n",
       "      <td>0</td>\n",
       "      <td>0</td>\n",
       "      <td>4</td>\n",
       "      <td>21</td>\n",
       "    </tr>\n",
       "    <tr>\n",
       "      <td>2</td>\n",
       "      <td>0</td>\n",
       "      <td>0</td>\n",
       "      <td>1</td>\n",
       "      <td>0</td>\n",
       "      <td>0</td>\n",
       "      <td>0</td>\n",
       "      <td>0</td>\n",
       "      <td>0</td>\n",
       "      <td>0</td>\n",
       "      <td>0</td>\n",
       "      <td>...</td>\n",
       "      <td>0</td>\n",
       "      <td>0</td>\n",
       "      <td>0</td>\n",
       "      <td>0</td>\n",
       "      <td>0</td>\n",
       "      <td>0</td>\n",
       "      <td>0</td>\n",
       "      <td>0</td>\n",
       "      <td>6</td>\n",
       "      <td>33</td>\n",
       "    </tr>\n",
       "    <tr>\n",
       "      <td>3</td>\n",
       "      <td>0</td>\n",
       "      <td>0</td>\n",
       "      <td>0</td>\n",
       "      <td>0</td>\n",
       "      <td>0</td>\n",
       "      <td>0</td>\n",
       "      <td>0</td>\n",
       "      <td>0</td>\n",
       "      <td>0</td>\n",
       "      <td>0</td>\n",
       "      <td>...</td>\n",
       "      <td>0</td>\n",
       "      <td>0</td>\n",
       "      <td>0</td>\n",
       "      <td>0</td>\n",
       "      <td>0</td>\n",
       "      <td>0</td>\n",
       "      <td>0</td>\n",
       "      <td>0</td>\n",
       "      <td>5</td>\n",
       "      <td>27</td>\n",
       "    </tr>\n",
       "    <tr>\n",
       "      <td>4</td>\n",
       "      <td>0</td>\n",
       "      <td>0</td>\n",
       "      <td>0</td>\n",
       "      <td>0</td>\n",
       "      <td>0</td>\n",
       "      <td>0</td>\n",
       "      <td>1</td>\n",
       "      <td>0</td>\n",
       "      <td>0</td>\n",
       "      <td>0</td>\n",
       "      <td>...</td>\n",
       "      <td>0</td>\n",
       "      <td>0</td>\n",
       "      <td>0</td>\n",
       "      <td>0</td>\n",
       "      <td>0</td>\n",
       "      <td>0</td>\n",
       "      <td>0</td>\n",
       "      <td>0</td>\n",
       "      <td>5</td>\n",
       "      <td>32</td>\n",
       "    </tr>\n",
       "  </tbody>\n",
       "</table>\n",
       "<p>5 rows × 1481 columns</p>\n",
       "</div>"
      ],
      "text/plain": [
       "   heart  vintage  set  pink  bag  box  glass  christmas  design  candle  ...  \\\n",
       "0      0        0    0     0    0    0      0          0       0       0  ...   \n",
       "1      0        0    0     0    0    0      0          0       0       0  ...   \n",
       "2      0        0    1     0    0    0      0          0       0       0  ...   \n",
       "3      0        0    0     0    0    0      0          0       0       0  ...   \n",
       "4      0        0    0     0    0    0      1          0       0       0  ...   \n",
       "\n",
       "   blue/green  scallop  mummy  blue/nat  z  draw  mark  peridot  total_words  \\\n",
       "0           0        0      0         0  0     0     0        0            5   \n",
       "1           0        0      0         0  0     0     0        0            4   \n",
       "2           0        0      0         0  0     0     0        0            6   \n",
       "3           0        0      0         0  0     0     0        0            5   \n",
       "4           0        0      0         0  0     0     0        0            5   \n",
       "\n",
       "   desc_len  \n",
       "0        32  \n",
       "1        21  \n",
       "2        33  \n",
       "3        27  \n",
       "4        32  \n",
       "\n",
       "[5 rows x 1481 columns]"
      ]
     },
     "execution_count": 190,
     "metadata": {},
     "output_type": "execute_result"
    }
   ],
   "source": [
    "# This is simple Bag of Words.\n",
    "X.head()"
   ]
  },
  {
   "cell_type": "code",
   "execution_count": 191,
   "metadata": {},
   "outputs": [
    {
     "name": "stdout",
     "output_type": "stream",
     "text": [
      "For n_clusters = 3 The average silhouette_score is : 0.27003643370953107\n",
      "For n_clusters = 4 The average silhouette_score is : 0.20378535777282994\n",
      "For n_clusters = 5 The average silhouette_score is : 0.15918082013323834\n",
      "For n_clusters = 6 The average silhouette_score is : 0.11981179213737869\n",
      "For n_clusters = 7 The average silhouette_score is : 0.10610308660378685\n",
      "For n_clusters = 8 The average silhouette_score is : 0.0852038236415052\n",
      "For n_clusters = 9 The average silhouette_score is : 0.07066265589048369\n",
      "For n_clusters = 10 The average silhouette_score is : 0.06010275041547098\n"
     ]
    }
   ],
   "source": [
    "# check k-mean silhouette score for diierent cluster size\n",
    "matrix = X.values\n",
    "for n_clusters in range(3,11):\n",
    "    kmeans = KMeans(init='k-means++', n_clusters = n_clusters, n_init=30)\n",
    "    kmeans.fit(matrix)\n",
    "    clusters = kmeans.predict(matrix)\n",
    "    silhouette_avg = silhouette_score(matrix, clusters)\n",
    "    print(\"For n_clusters =\", n_clusters, \"The average silhouette_score is :\", silhouette_avg)"
   ]
  },
  {
   "cell_type": "markdown",
   "metadata": {},
   "source": [
    "Here I use silhouette score for validating cluser efficiency and i will take cluser size = 5"
   ]
  },
  {
   "cell_type": "code",
   "execution_count": 192,
   "metadata": {},
   "outputs": [
    {
     "name": "stdout",
     "output_type": "stream",
     "text": [
      "For n_clusters = 5 The average silhouette_score is : 0.15918082013323834\n"
     ]
    }
   ],
   "source": [
    "# run the loop till silhouette score is less than 0.145\n",
    "n_clusters = 5\n",
    "silhouette_avg = -1\n",
    "while silhouette_avg < 0.145:\n",
    "    kmeans = KMeans(init='k-means++', n_clusters = n_clusters, n_init=30)\n",
    "    kmeans.fit(matrix)\n",
    "    clusters = kmeans.predict(matrix)\n",
    "    silhouette_avg = silhouette_score(matrix, clusters)\n",
    "    print(\"For n_clusters =\", n_clusters, \"The average silhouette_score is :\", silhouette_avg)"
   ]
  },
  {
   "cell_type": "code",
   "execution_count": 196,
   "metadata": {},
   "outputs": [
    {
     "data": {
      "text/plain": [
       "0    1134\n",
       "3     948\n",
       "2     853\n",
       "1     664\n",
       "4     279\n",
       "dtype: int64"
      ]
     },
     "execution_count": 196,
     "metadata": {},
     "output_type": "execute_result"
    }
   ],
   "source": [
    "# These are the clusters and number of elements in each clusters\n",
    "pd.Series(clusters).value_counts()"
   ]
  },
  {
   "cell_type": "code",
   "execution_count": 199,
   "metadata": {},
   "outputs": [],
   "source": [
    "# Now append this cluster column in original dataframe\n",
    "corresp = dict()\n",
    "for key, val in zip (lp, clusters):\n",
    "    corresp[key] = val \n",
    "\n",
    "df_cleaned['category_desc'] = df_cleaned.loc[:, 'description'].map(corresp)"
   ]
  },
  {
   "cell_type": "code",
   "execution_count": 203,
   "metadata": {},
   "outputs": [
    {
     "data": {
      "text/html": [
       "<div>\n",
       "<style scoped>\n",
       "    .dataframe tbody tr th:only-of-type {\n",
       "        vertical-align: middle;\n",
       "    }\n",
       "\n",
       "    .dataframe tbody tr th {\n",
       "        vertical-align: top;\n",
       "    }\n",
       "\n",
       "    .dataframe thead th {\n",
       "        text-align: right;\n",
       "    }\n",
       "</style>\n",
       "<table border=\"1\" class=\"dataframe\">\n",
       "  <thead>\n",
       "    <tr style=\"text-align: right;\">\n",
       "      <th></th>\n",
       "      <th>user_id</th>\n",
       "      <th>trans_id</th>\n",
       "      <th>year_month</th>\n",
       "      <th>year</th>\n",
       "      <th>month</th>\n",
       "      <th>day</th>\n",
       "      <th>hour</th>\n",
       "      <th>trans_time</th>\n",
       "      <th>item_code</th>\n",
       "      <th>description</th>\n",
       "      <th>quantity</th>\n",
       "      <th>unit_price</th>\n",
       "      <th>country</th>\n",
       "      <th>quantity_canceled</th>\n",
       "      <th>total_price</th>\n",
       "      <th>category_desc</th>\n",
       "    </tr>\n",
       "  </thead>\n",
       "  <tbody>\n",
       "    <tr>\n",
       "      <td>0</td>\n",
       "      <td>278166.0</td>\n",
       "      <td>6355745</td>\n",
       "      <td>201902</td>\n",
       "      <td>2019</td>\n",
       "      <td>2</td>\n",
       "      <td>6</td>\n",
       "      <td>18</td>\n",
       "      <td>2019-02-02 18:20:00</td>\n",
       "      <td>465549</td>\n",
       "      <td>FAMILY ALBUM WHITE PICTURE FRAME</td>\n",
       "      <td>6</td>\n",
       "      <td>11.73</td>\n",
       "      <td>United Kingdom</td>\n",
       "      <td>0</td>\n",
       "      <td>70.38</td>\n",
       "      <td>2</td>\n",
       "    </tr>\n",
       "    <tr>\n",
       "      <td>1</td>\n",
       "      <td>337701.0</td>\n",
       "      <td>6283376</td>\n",
       "      <td>201812</td>\n",
       "      <td>2018</td>\n",
       "      <td>12</td>\n",
       "      <td>3</td>\n",
       "      <td>14</td>\n",
       "      <td>2018-12-26 14:36:00</td>\n",
       "      <td>482370</td>\n",
       "      <td>LONDON BUS COFFEE MUG</td>\n",
       "      <td>3</td>\n",
       "      <td>3.52</td>\n",
       "      <td>United Kingdom</td>\n",
       "      <td>0</td>\n",
       "      <td>10.56</td>\n",
       "      <td>1</td>\n",
       "    </tr>\n",
       "    <tr>\n",
       "      <td>2</td>\n",
       "      <td>267099.0</td>\n",
       "      <td>6385599</td>\n",
       "      <td>201902</td>\n",
       "      <td>2019</td>\n",
       "      <td>2</td>\n",
       "      <td>5</td>\n",
       "      <td>15</td>\n",
       "      <td>2019-02-15 15:15:00</td>\n",
       "      <td>490728</td>\n",
       "      <td>SET 12 COLOUR PENCILS DOLLY GIRL</td>\n",
       "      <td>72</td>\n",
       "      <td>0.90</td>\n",
       "      <td>France</td>\n",
       "      <td>0</td>\n",
       "      <td>64.80</td>\n",
       "      <td>2</td>\n",
       "    </tr>\n",
       "    <tr>\n",
       "      <td>3</td>\n",
       "      <td>380478.0</td>\n",
       "      <td>6044973</td>\n",
       "      <td>201806</td>\n",
       "      <td>2018</td>\n",
       "      <td>6</td>\n",
       "      <td>5</td>\n",
       "      <td>12</td>\n",
       "      <td>2018-06-22 12:44:00</td>\n",
       "      <td>459186</td>\n",
       "      <td>UNION JACK FLAG LUGGAGE TAG</td>\n",
       "      <td>3</td>\n",
       "      <td>1.73</td>\n",
       "      <td>United Kingdom</td>\n",
       "      <td>0</td>\n",
       "      <td>5.19</td>\n",
       "      <td>3</td>\n",
       "    </tr>\n",
       "    <tr>\n",
       "      <td>5</td>\n",
       "      <td>285957.0</td>\n",
       "      <td>6307136</td>\n",
       "      <td>201901</td>\n",
       "      <td>2019</td>\n",
       "      <td>1</td>\n",
       "      <td>5</td>\n",
       "      <td>15</td>\n",
       "      <td>2019-01-11 15:20:00</td>\n",
       "      <td>1787247</td>\n",
       "      <td>CUT GLASS T-LIGHT HOLDER OCTAGON</td>\n",
       "      <td>12</td>\n",
       "      <td>3.52</td>\n",
       "      <td>United Kingdom</td>\n",
       "      <td>0</td>\n",
       "      <td>42.24</td>\n",
       "      <td>2</td>\n",
       "    </tr>\n",
       "  </tbody>\n",
       "</table>\n",
       "</div>"
      ],
      "text/plain": [
       "    user_id  trans_id  year_month  year  month  day  hour          trans_time  \\\n",
       "0  278166.0   6355745      201902  2019      2    6    18 2019-02-02 18:20:00   \n",
       "1  337701.0   6283376      201812  2018     12    3    14 2018-12-26 14:36:00   \n",
       "2  267099.0   6385599      201902  2019      2    5    15 2019-02-15 15:15:00   \n",
       "3  380478.0   6044973      201806  2018      6    5    12 2018-06-22 12:44:00   \n",
       "5  285957.0   6307136      201901  2019      1    5    15 2019-01-11 15:20:00   \n",
       "\n",
       "  item_code                        description  quantity  unit_price  \\\n",
       "0    465549   FAMILY ALBUM WHITE PICTURE FRAME         6       11.73   \n",
       "1    482370              LONDON BUS COFFEE MUG         3        3.52   \n",
       "2    490728  SET 12 COLOUR PENCILS DOLLY GIRL         72        0.90   \n",
       "3    459186        UNION JACK FLAG LUGGAGE TAG         3        1.73   \n",
       "5   1787247   CUT GLASS T-LIGHT HOLDER OCTAGON        12        3.52   \n",
       "\n",
       "          country  quantity_canceled  total_price  category_desc  \n",
       "0  United Kingdom                  0        70.38              2  \n",
       "1  United Kingdom                  0        10.56              1  \n",
       "2          France                  0        64.80              2  \n",
       "3  United Kingdom                  0         5.19              3  \n",
       "5  United Kingdom                  0        42.24              2  "
      ]
     },
     "execution_count": 203,
     "metadata": {},
     "output_type": "execute_result"
    }
   ],
   "source": [
    "df_cleaned.head()"
   ]
  },
  {
   "cell_type": "markdown",
   "metadata": {},
   "source": [
    "# Feature Creation from above clustering process"
   ]
  },
  {
   "cell_type": "markdown",
   "metadata": {},
   "source": [
    "Now, I will make new four category(variable) which contain how much amount spent in each clusers."
   ]
  },
  {
   "cell_type": "code",
   "execution_count": 204,
   "metadata": {},
   "outputs": [],
   "source": [
    "for i in range(5):\n",
    "    col = 'categ_{}'.format(i)        \n",
    "    df_temp = df_cleaned[df_cleaned['category_desc'] == i]\n",
    "    price_temp = df_temp['unit_price'] * (df_temp['quantity'] - df_temp['quantity_canceled'])\n",
    "    price_temp = price_temp.apply(lambda x:x if x > 0 else 0)\n",
    "    df_cleaned.loc[:, col] = price_temp\n",
    "    df_cleaned[col].fillna(0, inplace = True)"
   ]
  },
  {
   "cell_type": "markdown",
   "metadata": {},
   "source": [
    "This is nothing but put total price into category wise columns."
   ]
  },
  {
   "cell_type": "code",
   "execution_count": 205,
   "metadata": {},
   "outputs": [
    {
     "data": {
      "text/html": [
       "<div>\n",
       "<style scoped>\n",
       "    .dataframe tbody tr th:only-of-type {\n",
       "        vertical-align: middle;\n",
       "    }\n",
       "\n",
       "    .dataframe tbody tr th {\n",
       "        vertical-align: top;\n",
       "    }\n",
       "\n",
       "    .dataframe thead th {\n",
       "        text-align: right;\n",
       "    }\n",
       "</style>\n",
       "<table border=\"1\" class=\"dataframe\">\n",
       "  <thead>\n",
       "    <tr style=\"text-align: right;\">\n",
       "      <th></th>\n",
       "      <th>user_id</th>\n",
       "      <th>trans_id</th>\n",
       "      <th>year_month</th>\n",
       "      <th>year</th>\n",
       "      <th>month</th>\n",
       "      <th>day</th>\n",
       "      <th>hour</th>\n",
       "      <th>trans_time</th>\n",
       "      <th>item_code</th>\n",
       "      <th>description</th>\n",
       "      <th>...</th>\n",
       "      <th>unit_price</th>\n",
       "      <th>country</th>\n",
       "      <th>quantity_canceled</th>\n",
       "      <th>total_price</th>\n",
       "      <th>category_desc</th>\n",
       "      <th>categ_0</th>\n",
       "      <th>categ_1</th>\n",
       "      <th>categ_2</th>\n",
       "      <th>categ_3</th>\n",
       "      <th>categ_4</th>\n",
       "    </tr>\n",
       "  </thead>\n",
       "  <tbody>\n",
       "    <tr>\n",
       "      <td>0</td>\n",
       "      <td>278166.0</td>\n",
       "      <td>6355745</td>\n",
       "      <td>201902</td>\n",
       "      <td>2019</td>\n",
       "      <td>2</td>\n",
       "      <td>6</td>\n",
       "      <td>18</td>\n",
       "      <td>2019-02-02 18:20:00</td>\n",
       "      <td>465549</td>\n",
       "      <td>FAMILY ALBUM WHITE PICTURE FRAME</td>\n",
       "      <td>...</td>\n",
       "      <td>11.73</td>\n",
       "      <td>United Kingdom</td>\n",
       "      <td>0</td>\n",
       "      <td>70.38</td>\n",
       "      <td>2</td>\n",
       "      <td>0.0</td>\n",
       "      <td>0.00</td>\n",
       "      <td>70.38</td>\n",
       "      <td>0.00</td>\n",
       "      <td>0.0</td>\n",
       "    </tr>\n",
       "    <tr>\n",
       "      <td>1</td>\n",
       "      <td>337701.0</td>\n",
       "      <td>6283376</td>\n",
       "      <td>201812</td>\n",
       "      <td>2018</td>\n",
       "      <td>12</td>\n",
       "      <td>3</td>\n",
       "      <td>14</td>\n",
       "      <td>2018-12-26 14:36:00</td>\n",
       "      <td>482370</td>\n",
       "      <td>LONDON BUS COFFEE MUG</td>\n",
       "      <td>...</td>\n",
       "      <td>3.52</td>\n",
       "      <td>United Kingdom</td>\n",
       "      <td>0</td>\n",
       "      <td>10.56</td>\n",
       "      <td>1</td>\n",
       "      <td>0.0</td>\n",
       "      <td>10.56</td>\n",
       "      <td>0.00</td>\n",
       "      <td>0.00</td>\n",
       "      <td>0.0</td>\n",
       "    </tr>\n",
       "    <tr>\n",
       "      <td>2</td>\n",
       "      <td>267099.0</td>\n",
       "      <td>6385599</td>\n",
       "      <td>201902</td>\n",
       "      <td>2019</td>\n",
       "      <td>2</td>\n",
       "      <td>5</td>\n",
       "      <td>15</td>\n",
       "      <td>2019-02-15 15:15:00</td>\n",
       "      <td>490728</td>\n",
       "      <td>SET 12 COLOUR PENCILS DOLLY GIRL</td>\n",
       "      <td>...</td>\n",
       "      <td>0.90</td>\n",
       "      <td>France</td>\n",
       "      <td>0</td>\n",
       "      <td>64.80</td>\n",
       "      <td>2</td>\n",
       "      <td>0.0</td>\n",
       "      <td>0.00</td>\n",
       "      <td>64.80</td>\n",
       "      <td>0.00</td>\n",
       "      <td>0.0</td>\n",
       "    </tr>\n",
       "    <tr>\n",
       "      <td>3</td>\n",
       "      <td>380478.0</td>\n",
       "      <td>6044973</td>\n",
       "      <td>201806</td>\n",
       "      <td>2018</td>\n",
       "      <td>6</td>\n",
       "      <td>5</td>\n",
       "      <td>12</td>\n",
       "      <td>2018-06-22 12:44:00</td>\n",
       "      <td>459186</td>\n",
       "      <td>UNION JACK FLAG LUGGAGE TAG</td>\n",
       "      <td>...</td>\n",
       "      <td>1.73</td>\n",
       "      <td>United Kingdom</td>\n",
       "      <td>0</td>\n",
       "      <td>5.19</td>\n",
       "      <td>3</td>\n",
       "      <td>0.0</td>\n",
       "      <td>0.00</td>\n",
       "      <td>0.00</td>\n",
       "      <td>5.19</td>\n",
       "      <td>0.0</td>\n",
       "    </tr>\n",
       "    <tr>\n",
       "      <td>5</td>\n",
       "      <td>285957.0</td>\n",
       "      <td>6307136</td>\n",
       "      <td>201901</td>\n",
       "      <td>2019</td>\n",
       "      <td>1</td>\n",
       "      <td>5</td>\n",
       "      <td>15</td>\n",
       "      <td>2019-01-11 15:20:00</td>\n",
       "      <td>1787247</td>\n",
       "      <td>CUT GLASS T-LIGHT HOLDER OCTAGON</td>\n",
       "      <td>...</td>\n",
       "      <td>3.52</td>\n",
       "      <td>United Kingdom</td>\n",
       "      <td>0</td>\n",
       "      <td>42.24</td>\n",
       "      <td>2</td>\n",
       "      <td>0.0</td>\n",
       "      <td>0.00</td>\n",
       "      <td>42.24</td>\n",
       "      <td>0.00</td>\n",
       "      <td>0.0</td>\n",
       "    </tr>\n",
       "  </tbody>\n",
       "</table>\n",
       "<p>5 rows × 21 columns</p>\n",
       "</div>"
      ],
      "text/plain": [
       "    user_id  trans_id  year_month  year  month  day  hour          trans_time  \\\n",
       "0  278166.0   6355745      201902  2019      2    6    18 2019-02-02 18:20:00   \n",
       "1  337701.0   6283376      201812  2018     12    3    14 2018-12-26 14:36:00   \n",
       "2  267099.0   6385599      201902  2019      2    5    15 2019-02-15 15:15:00   \n",
       "3  380478.0   6044973      201806  2018      6    5    12 2018-06-22 12:44:00   \n",
       "5  285957.0   6307136      201901  2019      1    5    15 2019-01-11 15:20:00   \n",
       "\n",
       "  item_code                        description  ...  unit_price  \\\n",
       "0    465549   FAMILY ALBUM WHITE PICTURE FRAME  ...       11.73   \n",
       "1    482370              LONDON BUS COFFEE MUG  ...        3.52   \n",
       "2    490728  SET 12 COLOUR PENCILS DOLLY GIRL   ...        0.90   \n",
       "3    459186        UNION JACK FLAG LUGGAGE TAG  ...        1.73   \n",
       "5   1787247   CUT GLASS T-LIGHT HOLDER OCTAGON  ...        3.52   \n",
       "\n",
       "          country quantity_canceled  total_price  category_desc  categ_0  \\\n",
       "0  United Kingdom                 0        70.38              2      0.0   \n",
       "1  United Kingdom                 0        10.56              1      0.0   \n",
       "2          France                 0        64.80              2      0.0   \n",
       "3  United Kingdom                 0         5.19              3      0.0   \n",
       "5  United Kingdom                 0        42.24              2      0.0   \n",
       "\n",
       "   categ_1  categ_2  categ_3  categ_4  \n",
       "0     0.00    70.38     0.00      0.0  \n",
       "1    10.56     0.00     0.00      0.0  \n",
       "2     0.00    64.80     0.00      0.0  \n",
       "3     0.00     0.00     5.19      0.0  \n",
       "5     0.00    42.24     0.00      0.0  \n",
       "\n",
       "[5 rows x 21 columns]"
      ]
     },
     "execution_count": 205,
     "metadata": {},
     "output_type": "execute_result"
    }
   ],
   "source": [
    "df_cleaned.head()"
   ]
  },
  {
   "cell_type": "markdown",
   "metadata": {},
   "source": [
    "\n",
    "\n",
    "Up to now, the information related to a single order was split over several lines of the dataframe (one line per product).\n",
    "\n",
    "I decide to collect the information related to a particular order and put in in a single entry.\n",
    "\n",
    "Therefore I create a new dataframe. For each order, the amount of the basket, as well as the way it is distributed over the 5 categories of products:"
   ]
  },
  {
   "cell_type": "code",
   "execution_count": 206,
   "metadata": {},
   "outputs": [],
   "source": [
    "# Create new dataframe\n",
    "temp = df_cleaned.groupby(by=['user_id', 'trans_id'], as_index=False)['total_price'].sum()\n",
    "cart_price = temp.rename(columns = {'total_price':'cart_price'})"
   ]
  },
  {
   "cell_type": "code",
   "execution_count": 209,
   "metadata": {},
   "outputs": [],
   "source": [
    "cart_price['no_of_products'] = products_per_basket['Number of Products']"
   ]
  },
  {
   "cell_type": "code",
   "execution_count": 213,
   "metadata": {},
   "outputs": [
    {
     "name": "stdout",
     "output_type": "stream",
     "text": [
      "No. of transactions : 18632\n"
     ]
    },
    {
     "data": {
      "text/html": [
       "<div>\n",
       "<style scoped>\n",
       "    .dataframe tbody tr th:only-of-type {\n",
       "        vertical-align: middle;\n",
       "    }\n",
       "\n",
       "    .dataframe tbody tr th {\n",
       "        vertical-align: top;\n",
       "    }\n",
       "\n",
       "    .dataframe thead th {\n",
       "        text-align: right;\n",
       "    }\n",
       "</style>\n",
       "<table border=\"1\" class=\"dataframe\">\n",
       "  <thead>\n",
       "    <tr style=\"text-align: right;\">\n",
       "      <th></th>\n",
       "      <th>user_id</th>\n",
       "      <th>trans_id</th>\n",
       "      <th>cart_price</th>\n",
       "      <th>no_of_products</th>\n",
       "    </tr>\n",
       "  </thead>\n",
       "  <tbody>\n",
       "    <tr>\n",
       "      <td>0</td>\n",
       "      <td>259266.0</td>\n",
       "      <td>5955741</td>\n",
       "      <td>0.00</td>\n",
       "      <td>1</td>\n",
       "    </tr>\n",
       "    <tr>\n",
       "      <td>1</td>\n",
       "      <td>259287.0</td>\n",
       "      <td>5913886</td>\n",
       "      <td>2951.52</td>\n",
       "      <td>31</td>\n",
       "    </tr>\n",
       "    <tr>\n",
       "      <td>2</td>\n",
       "      <td>259287.0</td>\n",
       "      <td>5964607</td>\n",
       "      <td>1971.96</td>\n",
       "      <td>29</td>\n",
       "    </tr>\n",
       "    <tr>\n",
       "      <td>3</td>\n",
       "      <td>259287.0</td>\n",
       "      <td>6041442</td>\n",
       "      <td>2640.96</td>\n",
       "      <td>24</td>\n",
       "    </tr>\n",
       "    <tr>\n",
       "      <td>4</td>\n",
       "      <td>259287.0</td>\n",
       "      <td>6118211</td>\n",
       "      <td>1587.12</td>\n",
       "      <td>18</td>\n",
       "    </tr>\n",
       "  </tbody>\n",
       "</table>\n",
       "</div>"
      ],
      "text/plain": [
       "    user_id  trans_id  cart_price  no_of_products\n",
       "0  259266.0   5955741        0.00               1\n",
       "1  259287.0   5913886     2951.52              31\n",
       "2  259287.0   5964607     1971.96              29\n",
       "3  259287.0   6041442     2640.96              24\n",
       "4  259287.0   6118211     1587.12              18"
      ]
     },
     "execution_count": 213,
     "metadata": {},
     "output_type": "execute_result"
    }
   ],
   "source": [
    "print(\"No. of transactions :\" , len(cart_price))\n",
    "cart_price.head()"
   ]
  },
  {
   "cell_type": "code",
   "execution_count": 214,
   "metadata": {},
   "outputs": [],
   "source": [
    "# Add Category wise data of main dataframe to cart_price with same user id and transaction id\n",
    "for i in range(5):\n",
    "    col = 'categ_{}'.format(i) \n",
    "    temp = df_cleaned.groupby(by=['user_id', 'trans_id'], as_index=False)[col].sum()\n",
    "    cart_price.loc[:, col] = temp"
   ]
  },
  {
   "cell_type": "code",
   "execution_count": 217,
   "metadata": {},
   "outputs": [
    {
     "data": {
      "text/html": [
       "<div>\n",
       "<style scoped>\n",
       "    .dataframe tbody tr th:only-of-type {\n",
       "        vertical-align: middle;\n",
       "    }\n",
       "\n",
       "    .dataframe tbody tr th {\n",
       "        vertical-align: top;\n",
       "    }\n",
       "\n",
       "    .dataframe thead th {\n",
       "        text-align: right;\n",
       "    }\n",
       "</style>\n",
       "<table border=\"1\" class=\"dataframe\">\n",
       "  <thead>\n",
       "    <tr style=\"text-align: right;\">\n",
       "      <th></th>\n",
       "      <th>user_id</th>\n",
       "      <th>trans_id</th>\n",
       "      <th>cart_price</th>\n",
       "      <th>no_of_products</th>\n",
       "      <th>categ_0</th>\n",
       "      <th>categ_1</th>\n",
       "      <th>categ_2</th>\n",
       "      <th>categ_3</th>\n",
       "      <th>categ_4</th>\n",
       "    </tr>\n",
       "  </thead>\n",
       "  <tbody>\n",
       "    <tr>\n",
       "      <td>0</td>\n",
       "      <td>259266.0</td>\n",
       "      <td>5955741</td>\n",
       "      <td>0.00</td>\n",
       "      <td>1</td>\n",
       "      <td>0.00</td>\n",
       "      <td>0.00</td>\n",
       "      <td>0.00</td>\n",
       "      <td>0.00</td>\n",
       "      <td>0.00</td>\n",
       "    </tr>\n",
       "    <tr>\n",
       "      <td>1</td>\n",
       "      <td>259287.0</td>\n",
       "      <td>5913886</td>\n",
       "      <td>2951.52</td>\n",
       "      <td>31</td>\n",
       "      <td>1048.62</td>\n",
       "      <td>317.52</td>\n",
       "      <td>991.14</td>\n",
       "      <td>594.24</td>\n",
       "      <td>0.00</td>\n",
       "    </tr>\n",
       "    <tr>\n",
       "      <td>2</td>\n",
       "      <td>259287.0</td>\n",
       "      <td>5964607</td>\n",
       "      <td>1971.96</td>\n",
       "      <td>29</td>\n",
       "      <td>767.28</td>\n",
       "      <td>253.68</td>\n",
       "      <td>416.46</td>\n",
       "      <td>534.54</td>\n",
       "      <td>0.00</td>\n",
       "    </tr>\n",
       "    <tr>\n",
       "      <td>3</td>\n",
       "      <td>259287.0</td>\n",
       "      <td>6041442</td>\n",
       "      <td>2640.96</td>\n",
       "      <td>24</td>\n",
       "      <td>546.12</td>\n",
       "      <td>219.24</td>\n",
       "      <td>364.08</td>\n",
       "      <td>1387.20</td>\n",
       "      <td>124.32</td>\n",
       "    </tr>\n",
       "    <tr>\n",
       "      <td>4</td>\n",
       "      <td>259287.0</td>\n",
       "      <td>6118211</td>\n",
       "      <td>1587.12</td>\n",
       "      <td>18</td>\n",
       "      <td>562.92</td>\n",
       "      <td>492.84</td>\n",
       "      <td>70.44</td>\n",
       "      <td>357.24</td>\n",
       "      <td>103.68</td>\n",
       "    </tr>\n",
       "  </tbody>\n",
       "</table>\n",
       "</div>"
      ],
      "text/plain": [
       "    user_id  trans_id  cart_price  no_of_products  categ_0  categ_1  categ_2  \\\n",
       "0  259266.0   5955741        0.00               1     0.00     0.00     0.00   \n",
       "1  259287.0   5913886     2951.52              31  1048.62   317.52   991.14   \n",
       "2  259287.0   5964607     1971.96              29   767.28   253.68   416.46   \n",
       "3  259287.0   6041442     2640.96              24   546.12   219.24   364.08   \n",
       "4  259287.0   6118211     1587.12              18   562.92   492.84    70.44   \n",
       "\n",
       "   categ_3  categ_4  \n",
       "0     0.00     0.00  \n",
       "1   594.24     0.00  \n",
       "2   534.54     0.00  \n",
       "3  1387.20   124.32  \n",
       "4   357.24   103.68  "
      ]
     },
     "execution_count": 217,
     "metadata": {},
     "output_type": "execute_result"
    }
   ],
   "source": [
    "cart_price.head()"
   ]
  },
  {
   "cell_type": "markdown",
   "metadata": {},
   "source": [
    "Now I append mean time of each transaction into cart price"
   ]
  },
  {
   "cell_type": "code",
   "execution_count": 220,
   "metadata": {},
   "outputs": [],
   "source": [
    "# Convert time into Integer\n",
    "df_cleaned['trans_time'] = df_cleaned['trans_time'].astype('int64')\n",
    "\n",
    "# Take mean time of whole transaction\n",
    "temp = df_cleaned.groupby(by=['user_id', 'trans_id'], as_index=False)['trans_time'].mean()\n",
    "\n",
    "# Covert time into datetime format again\n",
    "cart_price.loc[:, 'trans_time'] = pd.to_datetime(temp['trans_time'])"
   ]
  },
  {
   "cell_type": "code",
   "execution_count": 225,
   "metadata": {},
   "outputs": [
    {
     "data": {
      "text/html": [
       "<div>\n",
       "<style scoped>\n",
       "    .dataframe tbody tr th:only-of-type {\n",
       "        vertical-align: middle;\n",
       "    }\n",
       "\n",
       "    .dataframe tbody tr th {\n",
       "        vertical-align: top;\n",
       "    }\n",
       "\n",
       "    .dataframe thead th {\n",
       "        text-align: right;\n",
       "    }\n",
       "</style>\n",
       "<table border=\"1\" class=\"dataframe\">\n",
       "  <thead>\n",
       "    <tr style=\"text-align: right;\">\n",
       "      <th></th>\n",
       "      <th>user_id</th>\n",
       "      <th>trans_id</th>\n",
       "      <th>cart_price</th>\n",
       "      <th>no_of_products</th>\n",
       "      <th>categ_0</th>\n",
       "      <th>categ_1</th>\n",
       "      <th>categ_2</th>\n",
       "      <th>categ_3</th>\n",
       "      <th>categ_4</th>\n",
       "      <th>trans_time</th>\n",
       "    </tr>\n",
       "  </thead>\n",
       "  <tbody>\n",
       "    <tr>\n",
       "      <td>0</td>\n",
       "      <td>259266.0</td>\n",
       "      <td>5955741</td>\n",
       "      <td>0.00</td>\n",
       "      <td>1</td>\n",
       "      <td>0.00</td>\n",
       "      <td>0.00</td>\n",
       "      <td>0.00</td>\n",
       "      <td>0.00</td>\n",
       "      <td>0.00</td>\n",
       "      <td>2018-04-01 11:31:00.000000000</td>\n",
       "    </tr>\n",
       "    <tr>\n",
       "      <td>1</td>\n",
       "      <td>259287.0</td>\n",
       "      <td>5913886</td>\n",
       "      <td>2951.52</td>\n",
       "      <td>31</td>\n",
       "      <td>1048.62</td>\n",
       "      <td>317.52</td>\n",
       "      <td>991.14</td>\n",
       "      <td>594.24</td>\n",
       "      <td>0.00</td>\n",
       "      <td>2018-02-18 16:26:59.999998720</td>\n",
       "    </tr>\n",
       "    <tr>\n",
       "      <td>2</td>\n",
       "      <td>259287.0</td>\n",
       "      <td>5964607</td>\n",
       "      <td>1971.96</td>\n",
       "      <td>29</td>\n",
       "      <td>767.28</td>\n",
       "      <td>253.68</td>\n",
       "      <td>416.46</td>\n",
       "      <td>534.54</td>\n",
       "      <td>0.00</td>\n",
       "      <td>2018-04-09 16:00:00.000000000</td>\n",
       "    </tr>\n",
       "    <tr>\n",
       "      <td>3</td>\n",
       "      <td>259287.0</td>\n",
       "      <td>6041442</td>\n",
       "      <td>2640.96</td>\n",
       "      <td>24</td>\n",
       "      <td>546.12</td>\n",
       "      <td>219.24</td>\n",
       "      <td>364.08</td>\n",
       "      <td>1387.20</td>\n",
       "      <td>124.32</td>\n",
       "      <td>2018-06-19 12:13:00.000001024</td>\n",
       "    </tr>\n",
       "    <tr>\n",
       "      <td>4</td>\n",
       "      <td>259287.0</td>\n",
       "      <td>6118211</td>\n",
       "      <td>1587.12</td>\n",
       "      <td>18</td>\n",
       "      <td>562.92</td>\n",
       "      <td>492.84</td>\n",
       "      <td>70.44</td>\n",
       "      <td>357.24</td>\n",
       "      <td>103.68</td>\n",
       "      <td>2018-08-21 14:30:59.999999232</td>\n",
       "    </tr>\n",
       "  </tbody>\n",
       "</table>\n",
       "</div>"
      ],
      "text/plain": [
       "    user_id  trans_id  cart_price  no_of_products  categ_0  categ_1  categ_2  \\\n",
       "0  259266.0   5955741        0.00               1     0.00     0.00     0.00   \n",
       "1  259287.0   5913886     2951.52              31  1048.62   317.52   991.14   \n",
       "2  259287.0   5964607     1971.96              29   767.28   253.68   416.46   \n",
       "3  259287.0   6041442     2640.96              24   546.12   219.24   364.08   \n",
       "4  259287.0   6118211     1587.12              18   562.92   492.84    70.44   \n",
       "\n",
       "   categ_3  categ_4                    trans_time  \n",
       "0     0.00     0.00 2018-04-01 11:31:00.000000000  \n",
       "1   594.24     0.00 2018-02-18 16:26:59.999998720  \n",
       "2   534.54     0.00 2018-04-09 16:00:00.000000000  \n",
       "3  1387.20   124.32 2018-06-19 12:13:00.000001024  \n",
       "4   357.24   103.68 2018-08-21 14:30:59.999999232  "
      ]
     },
     "execution_count": 225,
     "metadata": {},
     "output_type": "execute_result"
    }
   ],
   "source": [
    "cart_price.head()"
   ]
  },
  {
   "cell_type": "markdown",
   "metadata": {},
   "source": [
    "I group together the different entries that correspond to the same user. \n",
    "\n",
    "I thus determine the number of purchases made by the user, as well as the minimum, maximum, average amounts and the total amount spent during all the visits."
   ]
  },
  {
   "cell_type": "code",
   "execution_count": 240,
   "metadata": {},
   "outputs": [],
   "source": [
    "# Make new Dataframe for transcation per users\n",
    "transactions_per_user = cart_price.groupby(by=['user_id'])['cart_price'].agg(['count','min','max','mean','sum'])\n",
    "\n",
    "# Rename count to no_of_purchase\n",
    "transactions_per_user = transactions_per_user.rename(columns = {'count' : 'no_of_purchase'})"
   ]
  },
  {
   "cell_type": "code",
   "execution_count": 241,
   "metadata": {},
   "outputs": [
    {
     "name": "stdout",
     "output_type": "stream",
     "text": [
      "(4339, 6)\n"
     ]
    },
    {
     "data": {
      "text/html": [
       "<div>\n",
       "<style scoped>\n",
       "    .dataframe tbody tr th:only-of-type {\n",
       "        vertical-align: middle;\n",
       "    }\n",
       "\n",
       "    .dataframe tbody tr th {\n",
       "        vertical-align: top;\n",
       "    }\n",
       "\n",
       "    .dataframe thead th {\n",
       "        text-align: right;\n",
       "    }\n",
       "</style>\n",
       "<table border=\"1\" class=\"dataframe\">\n",
       "  <thead>\n",
       "    <tr style=\"text-align: right;\">\n",
       "      <th></th>\n",
       "      <th>no_of_purchase</th>\n",
       "      <th>min</th>\n",
       "      <th>max</th>\n",
       "      <th>mean</th>\n",
       "      <th>sum</th>\n",
       "      <th>no_of_products</th>\n",
       "    </tr>\n",
       "    <tr>\n",
       "      <th>user_id</th>\n",
       "      <th></th>\n",
       "      <th></th>\n",
       "      <th></th>\n",
       "      <th></th>\n",
       "      <th></th>\n",
       "      <th></th>\n",
       "    </tr>\n",
       "  </thead>\n",
       "  <tbody>\n",
       "    <tr>\n",
       "      <td>259266.0</td>\n",
       "      <td>1</td>\n",
       "      <td>0.00</td>\n",
       "      <td>0.00</td>\n",
       "      <td>0.000000</td>\n",
       "      <td>0.00</td>\n",
       "      <td>1</td>\n",
       "    </tr>\n",
       "    <tr>\n",
       "      <td>259287.0</td>\n",
       "      <td>7</td>\n",
       "      <td>933.84</td>\n",
       "      <td>5369.10</td>\n",
       "      <td>2554.242857</td>\n",
       "      <td>17879.70</td>\n",
       "      <td>182</td>\n",
       "    </tr>\n",
       "    <tr>\n",
       "      <td>259308.0</td>\n",
       "      <td>4</td>\n",
       "      <td>959.04</td>\n",
       "      <td>3712.32</td>\n",
       "      <td>1870.380000</td>\n",
       "      <td>7481.52</td>\n",
       "      <td>31</td>\n",
       "    </tr>\n",
       "    <tr>\n",
       "      <td>259329.0</td>\n",
       "      <td>1</td>\n",
       "      <td>7285.92</td>\n",
       "      <td>7285.92</td>\n",
       "      <td>7285.920000</td>\n",
       "      <td>7285.92</td>\n",
       "      <td>73</td>\n",
       "    </tr>\n",
       "    <tr>\n",
       "      <td>259350.0</td>\n",
       "      <td>1</td>\n",
       "      <td>1387.20</td>\n",
       "      <td>1387.20</td>\n",
       "      <td>1387.200000</td>\n",
       "      <td>1387.20</td>\n",
       "      <td>17</td>\n",
       "    </tr>\n",
       "  </tbody>\n",
       "</table>\n",
       "</div>"
      ],
      "text/plain": [
       "          no_of_purchase      min      max         mean       sum  \\\n",
       "user_id                                                             \n",
       "259266.0               1     0.00     0.00     0.000000      0.00   \n",
       "259287.0               7   933.84  5369.10  2554.242857  17879.70   \n",
       "259308.0               4   959.04  3712.32  1870.380000   7481.52   \n",
       "259329.0               1  7285.92  7285.92  7285.920000   7285.92   \n",
       "259350.0               1  1387.20  1387.20  1387.200000   1387.20   \n",
       "\n",
       "          no_of_products  \n",
       "user_id                   \n",
       "259266.0               1  \n",
       "259287.0             182  \n",
       "259308.0              31  \n",
       "259329.0              73  \n",
       "259350.0              17  "
      ]
     },
     "execution_count": 241,
     "metadata": {},
     "output_type": "execute_result"
    }
   ],
   "source": [
    "# Add number of products in all total visits.\n",
    "transactions_per_user['no_of_products'] = cart_price.groupby(by=['user_id'])['no_of_products'].sum()\n",
    "print(transactions_per_user.shape)\n",
    "transactions_per_user.head()"
   ]
  },
  {
   "cell_type": "markdown",
   "metadata": {},
   "source": [
    "Now I will sum all the category wise amount whose user id is same and then replace amount by it's percentage.\n",
    "\n",
    "That means each category show how much percentage of amount from it."
   ]
  },
  {
   "cell_type": "code",
   "execution_count": 242,
   "metadata": {},
   "outputs": [
    {
     "data": {
      "text/html": [
       "<div>\n",
       "<style scoped>\n",
       "    .dataframe tbody tr th:only-of-type {\n",
       "        vertical-align: middle;\n",
       "    }\n",
       "\n",
       "    .dataframe tbody tr th {\n",
       "        vertical-align: top;\n",
       "    }\n",
       "\n",
       "    .dataframe thead th {\n",
       "        text-align: right;\n",
       "    }\n",
       "</style>\n",
       "<table border=\"1\" class=\"dataframe\">\n",
       "  <thead>\n",
       "    <tr style=\"text-align: right;\">\n",
       "      <th></th>\n",
       "      <th>user_id</th>\n",
       "      <th>no_of_purchase</th>\n",
       "      <th>min</th>\n",
       "      <th>max</th>\n",
       "      <th>mean</th>\n",
       "      <th>sum</th>\n",
       "      <th>no_of_products</th>\n",
       "      <th>categ_0</th>\n",
       "      <th>categ_1</th>\n",
       "      <th>categ_2</th>\n",
       "      <th>categ_3</th>\n",
       "      <th>categ_4</th>\n",
       "    </tr>\n",
       "  </thead>\n",
       "  <tbody>\n",
       "    <tr>\n",
       "      <td>0</td>\n",
       "      <td>259266.0</td>\n",
       "      <td>1</td>\n",
       "      <td>0.00</td>\n",
       "      <td>0.00</td>\n",
       "      <td>0.000000</td>\n",
       "      <td>0.00</td>\n",
       "      <td>1</td>\n",
       "      <td>NaN</td>\n",
       "      <td>NaN</td>\n",
       "      <td>NaN</td>\n",
       "      <td>NaN</td>\n",
       "      <td>NaN</td>\n",
       "    </tr>\n",
       "    <tr>\n",
       "      <td>1</td>\n",
       "      <td>259287.0</td>\n",
       "      <td>7</td>\n",
       "      <td>933.84</td>\n",
       "      <td>5369.10</td>\n",
       "      <td>2554.242857</td>\n",
       "      <td>17879.70</td>\n",
       "      <td>182</td>\n",
       "      <td>36.157989</td>\n",
       "      <td>16.373429</td>\n",
       "      <td>18.233527</td>\n",
       "      <td>24.963842</td>\n",
       "      <td>4.271213</td>\n",
       "    </tr>\n",
       "    <tr>\n",
       "      <td>2</td>\n",
       "      <td>259308.0</td>\n",
       "      <td>4</td>\n",
       "      <td>959.04</td>\n",
       "      <td>3712.32</td>\n",
       "      <td>1870.380000</td>\n",
       "      <td>7481.52</td>\n",
       "      <td>31</td>\n",
       "      <td>17.027556</td>\n",
       "      <td>15.009784</td>\n",
       "      <td>14.493312</td>\n",
       "      <td>31.277067</td>\n",
       "      <td>22.192282</td>\n",
       "    </tr>\n",
       "    <tr>\n",
       "      <td>3</td>\n",
       "      <td>259329.0</td>\n",
       "      <td>1</td>\n",
       "      <td>7285.92</td>\n",
       "      <td>7285.92</td>\n",
       "      <td>7285.920000</td>\n",
       "      <td>7285.92</td>\n",
       "      <td>73</td>\n",
       "      <td>22.979939</td>\n",
       "      <td>13.440444</td>\n",
       "      <td>21.967027</td>\n",
       "      <td>21.155050</td>\n",
       "      <td>20.457540</td>\n",
       "    </tr>\n",
       "    <tr>\n",
       "      <td>4</td>\n",
       "      <td>259350.0</td>\n",
       "      <td>1</td>\n",
       "      <td>1387.20</td>\n",
       "      <td>1387.20</td>\n",
       "      <td>1387.200000</td>\n",
       "      <td>1387.20</td>\n",
       "      <td>17</td>\n",
       "      <td>30.103806</td>\n",
       "      <td>20.916955</td>\n",
       "      <td>5.916955</td>\n",
       "      <td>28.572664</td>\n",
       "      <td>14.489619</td>\n",
       "    </tr>\n",
       "  </tbody>\n",
       "</table>\n",
       "</div>"
      ],
      "text/plain": [
       "    user_id  no_of_purchase      min      max         mean       sum  \\\n",
       "0  259266.0               1     0.00     0.00     0.000000      0.00   \n",
       "1  259287.0               7   933.84  5369.10  2554.242857  17879.70   \n",
       "2  259308.0               4   959.04  3712.32  1870.380000   7481.52   \n",
       "3  259329.0               1  7285.92  7285.92  7285.920000   7285.92   \n",
       "4  259350.0               1  1387.20  1387.20  1387.200000   1387.20   \n",
       "\n",
       "   no_of_products    categ_0    categ_1    categ_2    categ_3    categ_4  \n",
       "0               1        NaN        NaN        NaN        NaN        NaN  \n",
       "1             182  36.157989  16.373429  18.233527  24.963842   4.271213  \n",
       "2              31  17.027556  15.009784  14.493312  31.277067  22.192282  \n",
       "3              73  22.979939  13.440444  21.967027  21.155050  20.457540  \n",
       "4              17  30.103806  20.916955   5.916955  28.572664  14.489619  "
      ]
     },
     "execution_count": 242,
     "metadata": {},
     "output_type": "execute_result"
    }
   ],
   "source": [
    "for i in range(5):\n",
    "    col = 'categ_{}'.format(i)\n",
    "    # Here I do precentage\n",
    "    transactions_per_user.loc[:,col] = cart_price.groupby(by=['user_id'])[col].sum() / transactions_per_user['sum'] * 100\n",
    "\n",
    "transactions_per_user.reset_index(drop = False, inplace = True)\n",
    "cart_price.groupby(by=['user_id'])['categ_0'].sum()\n",
    "transactions_per_user.sort_values('user_id', ascending = True)[:5]"
   ]
  },
  {
   "cell_type": "markdown",
   "metadata": {},
   "source": [
    "I define two additional variables that give the number of days, since the first purchaseand the number of days since the last purchase."
   ]
  },
  {
   "cell_type": "code",
   "execution_count": 243,
   "metadata": {},
   "outputs": [
    {
     "data": {
      "text/html": [
       "<div>\n",
       "<style scoped>\n",
       "    .dataframe tbody tr th:only-of-type {\n",
       "        vertical-align: middle;\n",
       "    }\n",
       "\n",
       "    .dataframe tbody tr th {\n",
       "        vertical-align: top;\n",
       "    }\n",
       "\n",
       "    .dataframe thead th {\n",
       "        text-align: right;\n",
       "    }\n",
       "</style>\n",
       "<table border=\"1\" class=\"dataframe\">\n",
       "  <thead>\n",
       "    <tr style=\"text-align: right;\">\n",
       "      <th></th>\n",
       "      <th>user_id</th>\n",
       "      <th>no_of_purchase</th>\n",
       "      <th>min</th>\n",
       "      <th>max</th>\n",
       "      <th>mean</th>\n",
       "      <th>sum</th>\n",
       "      <th>no_of_products</th>\n",
       "      <th>categ_0</th>\n",
       "      <th>categ_1</th>\n",
       "      <th>categ_2</th>\n",
       "      <th>categ_3</th>\n",
       "      <th>categ_4</th>\n",
       "      <th>LastPurchase</th>\n",
       "      <th>FirstPurchase</th>\n",
       "    </tr>\n",
       "  </thead>\n",
       "  <tbody>\n",
       "    <tr>\n",
       "      <td>0</td>\n",
       "      <td>259266.0</td>\n",
       "      <td>1</td>\n",
       "      <td>0.00</td>\n",
       "      <td>0.00</td>\n",
       "      <td>0.000000</td>\n",
       "      <td>0.00</td>\n",
       "      <td>1</td>\n",
       "      <td>NaN</td>\n",
       "      <td>NaN</td>\n",
       "      <td>NaN</td>\n",
       "      <td>NaN</td>\n",
       "      <td>NaN</td>\n",
       "      <td>325</td>\n",
       "      <td>325</td>\n",
       "    </tr>\n",
       "    <tr>\n",
       "      <td>1</td>\n",
       "      <td>259287.0</td>\n",
       "      <td>7</td>\n",
       "      <td>933.84</td>\n",
       "      <td>5369.10</td>\n",
       "      <td>2554.242857</td>\n",
       "      <td>17879.70</td>\n",
       "      <td>182</td>\n",
       "      <td>36.157989</td>\n",
       "      <td>16.373429</td>\n",
       "      <td>18.233527</td>\n",
       "      <td>24.963842</td>\n",
       "      <td>4.271213</td>\n",
       "      <td>2</td>\n",
       "      <td>367</td>\n",
       "    </tr>\n",
       "    <tr>\n",
       "      <td>2</td>\n",
       "      <td>259308.0</td>\n",
       "      <td>4</td>\n",
       "      <td>959.04</td>\n",
       "      <td>3712.32</td>\n",
       "      <td>1870.380000</td>\n",
       "      <td>7481.52</td>\n",
       "      <td>31</td>\n",
       "      <td>17.027556</td>\n",
       "      <td>15.009784</td>\n",
       "      <td>14.493312</td>\n",
       "      <td>31.277067</td>\n",
       "      <td>22.192282</td>\n",
       "      <td>75</td>\n",
       "      <td>358</td>\n",
       "    </tr>\n",
       "    <tr>\n",
       "      <td>3</td>\n",
       "      <td>259329.0</td>\n",
       "      <td>1</td>\n",
       "      <td>7285.92</td>\n",
       "      <td>7285.92</td>\n",
       "      <td>7285.920000</td>\n",
       "      <td>7285.92</td>\n",
       "      <td>73</td>\n",
       "      <td>22.979939</td>\n",
       "      <td>13.440444</td>\n",
       "      <td>21.967027</td>\n",
       "      <td>21.155050</td>\n",
       "      <td>20.457540</td>\n",
       "      <td>18</td>\n",
       "      <td>18</td>\n",
       "    </tr>\n",
       "    <tr>\n",
       "      <td>4</td>\n",
       "      <td>259350.0</td>\n",
       "      <td>1</td>\n",
       "      <td>1387.20</td>\n",
       "      <td>1387.20</td>\n",
       "      <td>1387.200000</td>\n",
       "      <td>1387.20</td>\n",
       "      <td>17</td>\n",
       "      <td>30.103806</td>\n",
       "      <td>20.916955</td>\n",
       "      <td>5.916955</td>\n",
       "      <td>28.572664</td>\n",
       "      <td>14.489619</td>\n",
       "      <td>310</td>\n",
       "      <td>310</td>\n",
       "    </tr>\n",
       "  </tbody>\n",
       "</table>\n",
       "</div>"
      ],
      "text/plain": [
       "    user_id  no_of_purchase      min      max         mean       sum  \\\n",
       "0  259266.0               1     0.00     0.00     0.000000      0.00   \n",
       "1  259287.0               7   933.84  5369.10  2554.242857  17879.70   \n",
       "2  259308.0               4   959.04  3712.32  1870.380000   7481.52   \n",
       "3  259329.0               1  7285.92  7285.92  7285.920000   7285.92   \n",
       "4  259350.0               1  1387.20  1387.20  1387.200000   1387.20   \n",
       "\n",
       "   no_of_products    categ_0    categ_1    categ_2    categ_3    categ_4  \\\n",
       "0               1        NaN        NaN        NaN        NaN        NaN   \n",
       "1             182  36.157989  16.373429  18.233527  24.963842   4.271213   \n",
       "2              31  17.027556  15.009784  14.493312  31.277067  22.192282   \n",
       "3              73  22.979939  13.440444  21.967027  21.155050  20.457540   \n",
       "4              17  30.103806  20.916955   5.916955  28.572664  14.489619   \n",
       "\n",
       "   LastPurchase  FirstPurchase  \n",
       "0           325            325  \n",
       "1             2            367  \n",
       "2            75            358  \n",
       "3            18             18  \n",
       "4           310            310  "
      ]
     },
     "execution_count": 243,
     "metadata": {},
     "output_type": "execute_result"
    }
   ],
   "source": [
    "# Find last date of transaction\n",
    "last_date = cart_price['trans_time'].max().date()\n",
    "\n",
    "# First Purchase date\n",
    "# Don't have registration date in our dataset. So I use first purchase date as registration date.\n",
    "first_registration = pd.DataFrame(cart_price.groupby(by=['user_id'])['trans_time'].min())\n",
    "last_purchase      = pd.DataFrame(cart_price.groupby(by=['user_id'])['trans_time'].max())\n",
    "\n",
    "# Make two functions\n",
    "test  = first_registration.applymap(lambda x:(last_date - x.date()).days)\n",
    "test2 = last_purchase.applymap(lambda x:(last_date - x.date()).days)\n",
    "\n",
    "transactions_per_user.loc[:, 'LastPurchase'] = test2.reset_index(drop = False)['trans_time']\n",
    "transactions_per_user.loc[:, 'FirstPurchase'] = test.reset_index(drop = False)['trans_time']\n",
    "\n",
    "transactions_per_user[:5]"
   ]
  },
  {
   "cell_type": "code",
   "execution_count": 263,
   "metadata": {},
   "outputs": [
    {
     "data": {
      "text/html": [
       "<div>\n",
       "<style scoped>\n",
       "    .dataframe tbody tr th:only-of-type {\n",
       "        vertical-align: middle;\n",
       "    }\n",
       "\n",
       "    .dataframe tbody tr th {\n",
       "        vertical-align: top;\n",
       "    }\n",
       "\n",
       "    .dataframe thead th {\n",
       "        text-align: right;\n",
       "    }\n",
       "</style>\n",
       "<table border=\"1\" class=\"dataframe\">\n",
       "  <thead>\n",
       "    <tr style=\"text-align: right;\">\n",
       "      <th></th>\n",
       "      <th>user_id</th>\n",
       "      <th>no_of_purchase</th>\n",
       "      <th>min</th>\n",
       "      <th>max</th>\n",
       "      <th>mean</th>\n",
       "      <th>sum</th>\n",
       "      <th>no_of_products</th>\n",
       "      <th>categ_0</th>\n",
       "      <th>categ_1</th>\n",
       "      <th>categ_2</th>\n",
       "      <th>categ_3</th>\n",
       "      <th>categ_4</th>\n",
       "      <th>LastPurchase</th>\n",
       "      <th>FirstPurchase</th>\n",
       "      <th>quantity_canceled</th>\n",
       "    </tr>\n",
       "  </thead>\n",
       "  <tbody>\n",
       "    <tr>\n",
       "      <td>0</td>\n",
       "      <td>259266.0</td>\n",
       "      <td>1</td>\n",
       "      <td>0.00</td>\n",
       "      <td>0.00</td>\n",
       "      <td>0.000000</td>\n",
       "      <td>0.00</td>\n",
       "      <td>1</td>\n",
       "      <td>NaN</td>\n",
       "      <td>NaN</td>\n",
       "      <td>NaN</td>\n",
       "      <td>NaN</td>\n",
       "      <td>NaN</td>\n",
       "      <td>325</td>\n",
       "      <td>325</td>\n",
       "      <td>222645</td>\n",
       "    </tr>\n",
       "    <tr>\n",
       "      <td>1</td>\n",
       "      <td>259287.0</td>\n",
       "      <td>7</td>\n",
       "      <td>933.84</td>\n",
       "      <td>5369.10</td>\n",
       "      <td>2554.242857</td>\n",
       "      <td>17879.70</td>\n",
       "      <td>182</td>\n",
       "      <td>36.157989</td>\n",
       "      <td>16.373429</td>\n",
       "      <td>18.233527</td>\n",
       "      <td>24.963842</td>\n",
       "      <td>4.271213</td>\n",
       "      <td>2</td>\n",
       "      <td>367</td>\n",
       "      <td>0</td>\n",
       "    </tr>\n",
       "    <tr>\n",
       "      <td>2</td>\n",
       "      <td>259308.0</td>\n",
       "      <td>4</td>\n",
       "      <td>959.04</td>\n",
       "      <td>3712.32</td>\n",
       "      <td>1870.380000</td>\n",
       "      <td>7481.52</td>\n",
       "      <td>31</td>\n",
       "      <td>17.027556</td>\n",
       "      <td>15.009784</td>\n",
       "      <td>14.493312</td>\n",
       "      <td>31.277067</td>\n",
       "      <td>22.192282</td>\n",
       "      <td>75</td>\n",
       "      <td>358</td>\n",
       "      <td>0</td>\n",
       "    </tr>\n",
       "    <tr>\n",
       "      <td>3</td>\n",
       "      <td>259329.0</td>\n",
       "      <td>1</td>\n",
       "      <td>7285.92</td>\n",
       "      <td>7285.92</td>\n",
       "      <td>7285.920000</td>\n",
       "      <td>7285.92</td>\n",
       "      <td>73</td>\n",
       "      <td>22.979939</td>\n",
       "      <td>13.440444</td>\n",
       "      <td>21.967027</td>\n",
       "      <td>21.155050</td>\n",
       "      <td>20.457540</td>\n",
       "      <td>18</td>\n",
       "      <td>18</td>\n",
       "      <td>0</td>\n",
       "    </tr>\n",
       "    <tr>\n",
       "      <td>4</td>\n",
       "      <td>259350.0</td>\n",
       "      <td>1</td>\n",
       "      <td>1387.20</td>\n",
       "      <td>1387.20</td>\n",
       "      <td>1387.200000</td>\n",
       "      <td>1387.20</td>\n",
       "      <td>17</td>\n",
       "      <td>30.103806</td>\n",
       "      <td>20.916955</td>\n",
       "      <td>5.916955</td>\n",
       "      <td>28.572664</td>\n",
       "      <td>14.489619</td>\n",
       "      <td>310</td>\n",
       "      <td>310</td>\n",
       "      <td>0</td>\n",
       "    </tr>\n",
       "  </tbody>\n",
       "</table>\n",
       "</div>"
      ],
      "text/plain": [
       "    user_id  no_of_purchase      min      max         mean       sum  \\\n",
       "0  259266.0               1     0.00     0.00     0.000000      0.00   \n",
       "1  259287.0               7   933.84  5369.10  2554.242857  17879.70   \n",
       "2  259308.0               4   959.04  3712.32  1870.380000   7481.52   \n",
       "3  259329.0               1  7285.92  7285.92  7285.920000   7285.92   \n",
       "4  259350.0               1  1387.20  1387.20  1387.200000   1387.20   \n",
       "\n",
       "   no_of_products    categ_0    categ_1    categ_2    categ_3    categ_4  \\\n",
       "0               1        NaN        NaN        NaN        NaN        NaN   \n",
       "1             182  36.157989  16.373429  18.233527  24.963842   4.271213   \n",
       "2              31  17.027556  15.009784  14.493312  31.277067  22.192282   \n",
       "3              73  22.979939  13.440444  21.967027  21.155050  20.457540   \n",
       "4              17  30.103806  20.916955   5.916955  28.572664  14.489619   \n",
       "\n",
       "   LastPurchase  FirstPurchase  quantity_canceled  \n",
       "0           325            325             222645  \n",
       "1             2            367                  0  \n",
       "2            75            358                  0  \n",
       "3            18             18                  0  \n",
       "4           310            310                  0  "
      ]
     },
     "execution_count": 263,
     "metadata": {},
     "output_type": "execute_result"
    }
   ],
   "source": [
    "# Now add new column quantity canceled into transactions\n",
    "qc = pd.DataFrame(df_cleaned.groupby(by=['user_id'])['quantity_canceled'].sum() , columns= ['quantity_canceled'])\n",
    "transactions_per_user = pd.merge(transactions_per_user, qc , on = 'user_id')\n",
    "transactions_per_user.head()"
   ]
  },
  {
   "cell_type": "markdown",
   "metadata": {},
   "source": [
    "Here I get insights of users:\n",
    "\n",
    "1. Number of user with only one purchase.\n",
    "2. Number of users with cancellation."
   ]
  },
  {
   "cell_type": "code",
   "execution_count": 280,
   "metadata": {},
   "outputs": [
    {
     "name": "stdout",
     "output_type": "stream",
     "text": [
      "No. of Customer with single Purchase: 1315 out of 4339 with 30.31 %\n"
     ]
    }
   ],
   "source": [
    "n1 = transactions_per_user[(transactions_per_user['no_of_purchase'] == 1) &  (transactions_per_user['quantity_canceled'] == 0)].shape[0]\n",
    "n2 = transactions_per_user.shape[0]\n",
    "print(\"No. of Customer with single Purchase: {} out of {} with {} %\".format(n1,n2,round(n1/n2*100 , 2)))"
   ]
  },
  {
   "cell_type": "code",
   "execution_count": 281,
   "metadata": {},
   "outputs": [
    {
     "name": "stdout",
     "output_type": "stream",
     "text": [
      "No. of Customer with discount : 1 out of 4339 with 0.02 %\n"
     ]
    }
   ],
   "source": [
    "n1 = transactions_per_user[(transactions_per_user['sum'] == 0) & (transactions_per_user['quantity_canceled'] == 0)].shape[0]\n",
    "n2 = transactions_per_user.shape[0]\n",
    "print(\"No. of Customer with discount : {} out of {} with {} %\".format(n1,n2,round(n1/n2*100 , 2)))"
   ]
  },
  {
   "cell_type": "code",
   "execution_count": 284,
   "metadata": {},
   "outputs": [
    {
     "name": "stdout",
     "output_type": "stream",
     "text": [
      "No. of Customer with cancellation : 9 out of 4339 with 0.21 %\n"
     ]
    }
   ],
   "source": [
    "n1 = transactions_per_user[(transactions_per_user['sum'] == 0) & (transactions_per_user['quantity_canceled'] != 0)].shape[0]\n",
    "n2 = transactions_per_user.shape[0]\n",
    "print(\"No. of Customer with cancellation : {} out of {} with {} %\".format(n1,n2,round(n1/n2*100 , 2)))"
   ]
  },
  {
   "cell_type": "code",
   "execution_count": 291,
   "metadata": {},
   "outputs": [],
   "source": [
    "#Replace NaN with 0\n",
    "transactions_per_user = transactions_per_user.fillna(0)"
   ]
  },
  {
   "cell_type": "code",
   "execution_count": 293,
   "metadata": {},
   "outputs": [
    {
     "name": "stdout",
     "output_type": "stream",
     "text": [
      "We have to make clusters for 4339 users\n"
     ]
    }
   ],
   "source": [
    "print(\"We have to make clusters for {} users\".format(len(transactions_per_user)))"
   ]
  },
  {
   "cell_type": "code",
   "execution_count": 294,
   "metadata": {},
   "outputs": [],
   "source": [
    "final_df = transactions_per_user.drop('user_id' , axis = 1)\n",
    "final_df = final_df.values"
   ]
  },
  {
   "cell_type": "markdown",
   "metadata": {},
   "source": [
    "# Standardization"
   ]
  },
  {
   "cell_type": "code",
   "execution_count": 295,
   "metadata": {},
   "outputs": [
    {
     "name": "stdout",
     "output_type": "stream",
     "text": [
      "variables mean values: \n",
      "------------------------------------------------------------------------------------------\n",
      " [4.29407698e+00 1.03444275e+04 1.18059155e+04 1.09167030e+04\n",
      " 1.74422203e+04 9.05333026e+01 2.67100934e+01 1.75877780e+01\n",
      " 2.15213262e+01 2.55446152e+01 8.69084056e+00 9.20034570e+01\n",
      " 2.22784052e+02 1.68116847e+02]\n"
     ]
    }
   ],
   "source": [
    "scaler = StandardScaler()\n",
    "scaler.fit(final_df)\n",
    "print('variables mean values: \\n' + 90*'-' + '\\n' , scaler.mean_)\n",
    "scaled_df = scaler.transform(final_df)"
   ]
  },
  {
   "cell_type": "markdown",
   "metadata": {},
   "source": [
    "# Amount of varience by each of principal components"
   ]
  },
  {
   "cell_type": "code",
   "execution_count": 298,
   "metadata": {},
   "outputs": [],
   "source": [
    "# Use Principal Component Analysis\n",
    "pca = PCA()\n",
    "pca.fit(scaled_df)\n",
    "pca_samples = pca.transform(scaled_df)"
   ]
  },
  {
   "cell_type": "code",
   "execution_count": 299,
   "metadata": {},
   "outputs": [
    {
     "data": {
      "image/png": "[encoded data removed]",
      "text/plain": [
       "<Figure size 1008x360 with 1 Axes>"
      ]
     },
     "metadata": {},
     "output_type": "display_data"
    }
   ],
   "source": [
    "fig, ax = plt.subplots(figsize=(14, 5))\n",
    "sns.set(font_scale=1)\n",
    "plt.step(range(final_df.shape[1]), pca.explained_variance_ratio_.cumsum(), where='mid',\n",
    "         label='Cumulative explained variance')\n",
    "sns.barplot(np.arange(1,final_df.shape[1]+1), pca.explained_variance_ratio_, alpha=0.5, color = 'g',\n",
    "            label='Individual explained variance')\n",
    "plt.xlim(0, 10)\n",
    "\n",
    "ax.set_xticklabels([s if int(s.get_text())%2 == 0 else '' for s in ax.get_xticklabels()])\n",
    "\n",
    "plt.ylabel('Explained variance', fontsize = 14)\n",
    "plt.xlabel('Principal components', fontsize = 14)\n",
    "plt.legend(loc='best', fontsize = 13);"
   ]
  },
  {
   "cell_type": "markdown",
   "metadata": {},
   "source": [
    "# K - means Clustering for Segmentation"
   ]
  },
  {
   "cell_type": "code",
   "execution_count": 303,
   "metadata": {},
   "outputs": [
    {
     "name": "stdout",
     "output_type": "stream",
     "text": [
      "For n_clusters = 5 The average silhouette_score is : 0.14967051293992828\n",
      "For n_clusters = 6 The average silhouette_score is : 0.18507595070230348\n",
      "For n_clusters = 7 The average silhouette_score is : 0.18902955101108085\n",
      "For n_clusters = 8 The average silhouette_score is : 0.20291122930818725\n",
      "For n_clusters = 9 The average silhouette_score is : 0.21124664800665297\n",
      "For n_clusters = 10 The average silhouette_score is : 0.2199533092275913\n",
      "For n_clusters = 11 The average silhouette_score is : 0.21844859681700718\n",
      "For n_clusters = 12 The average silhouette_score is : 0.21920999904789903\n",
      "For n_clusters = 13 The average silhouette_score is : 0.2277823889729226\n",
      "For n_clusters = 14 The average silhouette_score is : 0.22042705771775117\n",
      "For n_clusters = 15 The average silhouette_score is : 0.216128569116208\n"
     ]
    }
   ],
   "source": [
    "# check k-mean silhouette score for different cluster size\n",
    "matrix = scaled_df\n",
    "for n_clusters in range(5,16):\n",
    "    kmeans = KMeans(init='k-means++', n_clusters = n_clusters, n_init=30)\n",
    "    kmeans.fit(matrix)\n",
    "    clusters = kmeans.predict(matrix)\n",
    "    silhouette_avg = silhouette_score(matrix, clusters)\n",
    "    print(\"For n_clusters =\", n_clusters, \"The average silhouette_score is :\", silhouette_avg)"
   ]
  },
  {
   "cell_type": "markdown",
   "metadata": {},
   "source": [
    "Here I use silhouette score for validation and notice that after cluster 10 score don't change too much.\n",
    "\n",
    "So, I checked for two value of clusters 10 and 13 and it give more accurate with 10."
   ]
  },
  {
   "cell_type": "code",
   "execution_count": 308,
   "metadata": {},
   "outputs": [
    {
     "name": "stdout",
     "output_type": "stream",
     "text": [
      "Score of silhouette:  0.2199141842468101\n"
     ]
    }
   ],
   "source": [
    "# For cluster = 10 k means\n",
    "n_clusters = 10\n",
    "kmeans = KMeans(init='k-means++', n_clusters = n_clusters, n_init=100)\n",
    "kmeans.fit(scaled_df)\n",
    "clusters_clients = kmeans.predict(scaled_df)\n",
    "silhouette_avg = silhouette_score(scaled_df, clusters_clients)\n",
    "print('Score of silhouette: ' , silhouette_avg)"
   ]
  },
  {
   "cell_type": "code",
   "execution_count": 310,
   "metadata": {},
   "outputs": [
    {
     "data": {
      "text/html": [
       "<div>\n",
       "<style scoped>\n",
       "    .dataframe tbody tr th:only-of-type {\n",
       "        vertical-align: middle;\n",
       "    }\n",
       "\n",
       "    .dataframe tbody tr th {\n",
       "        vertical-align: top;\n",
       "    }\n",
       "\n",
       "    .dataframe thead th {\n",
       "        text-align: right;\n",
       "    }\n",
       "</style>\n",
       "<table border=\"1\" class=\"dataframe\">\n",
       "  <thead>\n",
       "    <tr style=\"text-align: right;\">\n",
       "      <th></th>\n",
       "      <th>1</th>\n",
       "      <th>3</th>\n",
       "      <th>6</th>\n",
       "      <th>0</th>\n",
       "      <th>9</th>\n",
       "      <th>7</th>\n",
       "      <th>8</th>\n",
       "      <th>5</th>\n",
       "      <th>4</th>\n",
       "      <th>2</th>\n",
       "    </tr>\n",
       "  </thead>\n",
       "  <tbody>\n",
       "    <tr>\n",
       "      <td>No. of Customers</td>\n",
       "      <td>1460</td>\n",
       "      <td>1250</td>\n",
       "      <td>739</td>\n",
       "      <td>310</td>\n",
       "      <td>272</td>\n",
       "      <td>235</td>\n",
       "      <td>62</td>\n",
       "      <td>8</td>\n",
       "      <td>2</td>\n",
       "      <td>1</td>\n",
       "    </tr>\n",
       "  </tbody>\n",
       "</table>\n",
       "</div>"
      ],
      "text/plain": [
       "                     1     3    6    0    9    7   8  5  4  2\n",
       "No. of Customers  1460  1250  739  310  272  235  62  8  2  1"
      ]
     },
     "execution_count": 310,
     "metadata": {},
     "output_type": "execute_result"
    }
   ],
   "source": [
    "# Number of Customers in each Cluster\n",
    "pd.DataFrame(pd.Series(clusters_clients).value_counts(), columns = ['No. of Customers']).T"
   ]
  },
  {
   "cell_type": "markdown",
   "metadata": {},
   "source": [
    "# Principal Component Analysis for Final Clusters"
   ]
  },
  {
   "cell_type": "code",
   "execution_count": 311,
   "metadata": {},
   "outputs": [],
   "source": [
    "pca = PCA(n_components=6)\n",
    "matrix_3D = pca.fit_transform(scaled_df)\n",
    "mat = pd.DataFrame(matrix_3D)\n",
    "mat['cluster'] = pd.Series(clusters_clients)"
   ]
  },
  {
   "cell_type": "code",
   "execution_count": 312,
   "metadata": {},
   "outputs": [
    {
     "name": "stderr",
     "output_type": "stream",
     "text": [
      "/root/anaconda3/lib/python3.7/site-packages/ipykernel_launcher.py:37: UserWarning: Tight layout not applied. tight_layout cannot make axes height small enough to accommodate all axes decorations\n"
     ]
    },
    {
     "data": {
      "image/png": "[encoded data removed]",
      "text/plain": [
       "<Figure size 864x720 with 12 Axes>"
      ]
     },
     "metadata": {},
     "output_type": "display_data"
    }
   ],
   "source": [
    "import matplotlib.patches as mpatches\n",
    "\n",
    "sns.set_style(\"white\")\n",
    "sns.set_context(\"notebook\", font_scale=1, rc={\"lines.linewidth\": 2.5})\n",
    "\n",
    "LABEL_COLOR_MAP = {0:'r', 1:'tan', 2:'b', 3:'k', 4:'c', 5:'g', 6:'deeppink', 7:'skyblue', 8:'darkcyan', 9:'orange',\n",
    "                   10:'yellow', 11:'tomato', 12:'seagreen'}\n",
    "label_color = [LABEL_COLOR_MAP[l] for l in mat['cluster']]\n",
    "\n",
    "fig = plt.figure(figsize = (12,10))\n",
    "increment = 0\n",
    "for ix in range(6):\n",
    "    for iy in range(ix+1, 6):   \n",
    "        increment += 1\n",
    "        ax = fig.add_subplot(4,3,increment)\n",
    "        ax.scatter(mat[ix], mat[iy], c= label_color, alpha=0.5) \n",
    "        plt.ylabel('PCA {}'.format(iy+1), fontsize = 12)\n",
    "        plt.xlabel('PCA {}'.format(ix+1), fontsize = 12)\n",
    "        ax.yaxis.grid(color='lightgray', linestyle=':')\n",
    "        ax.xaxis.grid(color='lightgray', linestyle=':')\n",
    "        ax.spines['right'].set_visible(False)\n",
    "        ax.spines['top'].set_visible(False)\n",
    "        \n",
    "        if increment == 12: break\n",
    "    if increment == 12: break\n",
    "        \n",
    "\n",
    "comp_handler = []\n",
    "for i in range(n_clusters):\n",
    "    comp_handler.append(mpatches.Patch(color = LABEL_COLOR_MAP[i], label = i))\n",
    "\n",
    "plt.legend(handles=comp_handler, bbox_to_anchor=(1.1, 0.9), \n",
    "           title='Cluster', facecolor = 'lightgrey',\n",
    "           shadow = True, frameon = True, framealpha = 1,\n",
    "           fontsize = 13, bbox_transform = plt.gcf().transFigure)\n",
    "\n",
    "plt.tight_layout()"
   ]
  },
  {
   "cell_type": "markdown",
   "metadata": {},
   "source": [
    "# Final Result and Submission"
   ]
  },
  {
   "cell_type": "code",
   "execution_count": 313,
   "metadata": {},
   "outputs": [],
   "source": [
    "transactions_per_user.loc[:,'final_cluster'] = clusters_clients"
   ]
  },
  {
   "cell_type": "code",
   "execution_count": 333,
   "metadata": {
    "scrolled": true
   },
   "outputs": [
    {
     "data": {
      "text/html": [
       "<div>\n",
       "<style scoped>\n",
       "    .dataframe tbody tr th:only-of-type {\n",
       "        vertical-align: middle;\n",
       "    }\n",
       "\n",
       "    .dataframe tbody tr th {\n",
       "        vertical-align: top;\n",
       "    }\n",
       "\n",
       "    .dataframe thead th {\n",
       "        text-align: right;\n",
       "    }\n",
       "</style>\n",
       "<table border=\"1\" class=\"dataframe\">\n",
       "  <thead>\n",
       "    <tr style=\"text-align: right;\">\n",
       "      <th></th>\n",
       "      <th>user_id</th>\n",
       "      <th>no_of_purchase</th>\n",
       "      <th>min</th>\n",
       "      <th>max</th>\n",
       "      <th>mean</th>\n",
       "      <th>sum</th>\n",
       "      <th>no_of_products</th>\n",
       "      <th>categ_0</th>\n",
       "      <th>categ_1</th>\n",
       "      <th>categ_2</th>\n",
       "      <th>categ_3</th>\n",
       "      <th>categ_4</th>\n",
       "      <th>LastPurchase</th>\n",
       "      <th>FirstPurchase</th>\n",
       "      <th>quantity_canceled</th>\n",
       "      <th>final_cluster</th>\n",
       "    </tr>\n",
       "  </thead>\n",
       "  <tbody>\n",
       "    <tr>\n",
       "      <td>0</td>\n",
       "      <td>259266.0</td>\n",
       "      <td>1</td>\n",
       "      <td>0.00</td>\n",
       "      <td>0.00</td>\n",
       "      <td>0.000000</td>\n",
       "      <td>0.00</td>\n",
       "      <td>1</td>\n",
       "      <td>0.000000</td>\n",
       "      <td>0.000000</td>\n",
       "      <td>0.000000</td>\n",
       "      <td>0.000000</td>\n",
       "      <td>0.000000</td>\n",
       "      <td>325</td>\n",
       "      <td>325</td>\n",
       "      <td>222645</td>\n",
       "      <td>4</td>\n",
       "    </tr>\n",
       "    <tr>\n",
       "      <td>1</td>\n",
       "      <td>259287.0</td>\n",
       "      <td>7</td>\n",
       "      <td>933.84</td>\n",
       "      <td>5369.10</td>\n",
       "      <td>2554.242857</td>\n",
       "      <td>17879.70</td>\n",
       "      <td>182</td>\n",
       "      <td>36.157989</td>\n",
       "      <td>16.373429</td>\n",
       "      <td>18.233527</td>\n",
       "      <td>24.963842</td>\n",
       "      <td>4.271213</td>\n",
       "      <td>2</td>\n",
       "      <td>367</td>\n",
       "      <td>0</td>\n",
       "      <td>1</td>\n",
       "    </tr>\n",
       "    <tr>\n",
       "      <td>2</td>\n",
       "      <td>259308.0</td>\n",
       "      <td>4</td>\n",
       "      <td>959.04</td>\n",
       "      <td>3712.32</td>\n",
       "      <td>1870.380000</td>\n",
       "      <td>7481.52</td>\n",
       "      <td>31</td>\n",
       "      <td>17.027556</td>\n",
       "      <td>15.009784</td>\n",
       "      <td>14.493312</td>\n",
       "      <td>31.277067</td>\n",
       "      <td>22.192282</td>\n",
       "      <td>75</td>\n",
       "      <td>358</td>\n",
       "      <td>0</td>\n",
       "      <td>1</td>\n",
       "    </tr>\n",
       "    <tr>\n",
       "      <td>3</td>\n",
       "      <td>259329.0</td>\n",
       "      <td>1</td>\n",
       "      <td>7285.92</td>\n",
       "      <td>7285.92</td>\n",
       "      <td>7285.920000</td>\n",
       "      <td>7285.92</td>\n",
       "      <td>73</td>\n",
       "      <td>22.979939</td>\n",
       "      <td>13.440444</td>\n",
       "      <td>21.967027</td>\n",
       "      <td>21.155050</td>\n",
       "      <td>20.457540</td>\n",
       "      <td>18</td>\n",
       "      <td>18</td>\n",
       "      <td>0</td>\n",
       "      <td>3</td>\n",
       "    </tr>\n",
       "    <tr>\n",
       "      <td>4</td>\n",
       "      <td>259350.0</td>\n",
       "      <td>1</td>\n",
       "      <td>1387.20</td>\n",
       "      <td>1387.20</td>\n",
       "      <td>1387.200000</td>\n",
       "      <td>1387.20</td>\n",
       "      <td>17</td>\n",
       "      <td>30.103806</td>\n",
       "      <td>20.916955</td>\n",
       "      <td>5.916955</td>\n",
       "      <td>28.572664</td>\n",
       "      <td>14.489619</td>\n",
       "      <td>310</td>\n",
       "      <td>310</td>\n",
       "      <td>0</td>\n",
       "      <td>6</td>\n",
       "    </tr>\n",
       "  </tbody>\n",
       "</table>\n",
       "</div>"
      ],
      "text/plain": [
       "    user_id  no_of_purchase      min      max         mean       sum  \\\n",
       "0  259266.0               1     0.00     0.00     0.000000      0.00   \n",
       "1  259287.0               7   933.84  5369.10  2554.242857  17879.70   \n",
       "2  259308.0               4   959.04  3712.32  1870.380000   7481.52   \n",
       "3  259329.0               1  7285.92  7285.92  7285.920000   7285.92   \n",
       "4  259350.0               1  1387.20  1387.20  1387.200000   1387.20   \n",
       "\n",
       "   no_of_products    categ_0    categ_1    categ_2    categ_3    categ_4  \\\n",
       "0               1   0.000000   0.000000   0.000000   0.000000   0.000000   \n",
       "1             182  36.157989  16.373429  18.233527  24.963842   4.271213   \n",
       "2              31  17.027556  15.009784  14.493312  31.277067  22.192282   \n",
       "3              73  22.979939  13.440444  21.967027  21.155050  20.457540   \n",
       "4              17  30.103806  20.916955   5.916955  28.572664  14.489619   \n",
       "\n",
       "   LastPurchase  FirstPurchase  quantity_canceled  final_cluster  \n",
       "0           325            325             222645              4  \n",
       "1             2            367                  0              1  \n",
       "2            75            358                  0              1  \n",
       "3            18             18                  0              3  \n",
       "4           310            310                  0              6  "
      ]
     },
     "execution_count": 333,
     "metadata": {},
     "output_type": "execute_result"
    }
   ],
   "source": [
    "transactions_per_user.head()"
   ]
  },
  {
   "cell_type": "markdown",
   "metadata": {},
   "source": [
    "Now for resulting Dataframe, I append two new results\n",
    "\n",
    "1. Average of all variables grouped by clusters.\n",
    "2. Total number of users in each clusters."
   ]
  },
  {
   "cell_type": "code",
   "execution_count": 319,
   "metadata": {},
   "outputs": [
    {
     "name": "stdout",
     "output_type": "stream",
     "text": [
      "Number of customers: 4339\n"
     ]
    }
   ],
   "source": [
    "result_df = pd.DataFrame()\n",
    "for i in range(n_clusters):\n",
    "    test = pd.DataFrame(transactions_per_user[transactions_per_user['final_cluster'] == i].mean())\n",
    "    test = test.T.set_index('final_cluster', drop = True)\n",
    "    test['size'] = transactions_per_user[transactions_per_user['final_cluster'] == i].shape[0]\n",
    "    result_df = pd.concat([result_df, test])\n",
    "\n",
    "result_df.drop('user_id', axis = 1, inplace = True)\n",
    "print('Number of customers:', result_df['size'].sum())\n",
    "\n",
    "result_df = result_df.sort_values('sum')"
   ]
  },
  {
   "cell_type": "markdown",
   "metadata": {},
   "source": [
    "This is Result of all clusters with average value of variables respect to specific clusters"
   ]
  },
  {
   "cell_type": "code",
   "execution_count": 322,
   "metadata": {},
   "outputs": [
    {
     "data": {
      "text/html": [
       "<div>\n",
       "<style scoped>\n",
       "    .dataframe tbody tr th:only-of-type {\n",
       "        vertical-align: middle;\n",
       "    }\n",
       "\n",
       "    .dataframe tbody tr th {\n",
       "        vertical-align: top;\n",
       "    }\n",
       "\n",
       "    .dataframe thead th {\n",
       "        text-align: right;\n",
       "    }\n",
       "</style>\n",
       "<table border=\"1\" class=\"dataframe\">\n",
       "  <thead>\n",
       "    <tr style=\"text-align: right;\">\n",
       "      <th></th>\n",
       "      <th>no_of_purchase</th>\n",
       "      <th>min</th>\n",
       "      <th>max</th>\n",
       "      <th>mean</th>\n",
       "      <th>sum</th>\n",
       "      <th>no_of_products</th>\n",
       "      <th>categ_0</th>\n",
       "      <th>categ_1</th>\n",
       "      <th>categ_2</th>\n",
       "      <th>categ_3</th>\n",
       "      <th>categ_4</th>\n",
       "      <th>LastPurchase</th>\n",
       "      <th>FirstPurchase</th>\n",
       "      <th>quantity_canceled</th>\n",
       "      <th>size</th>\n",
       "    </tr>\n",
       "    <tr>\n",
       "      <th>final_cluster</th>\n",
       "      <th></th>\n",
       "      <th></th>\n",
       "      <th></th>\n",
       "      <th></th>\n",
       "      <th></th>\n",
       "      <th></th>\n",
       "      <th></th>\n",
       "      <th></th>\n",
       "      <th></th>\n",
       "      <th></th>\n",
       "      <th></th>\n",
       "      <th></th>\n",
       "      <th></th>\n",
       "      <th></th>\n",
       "      <th></th>\n",
       "    </tr>\n",
       "  </thead>\n",
       "  <tbody>\n",
       "    <tr>\n",
       "      <td>4.0</td>\n",
       "      <td>1.500000</td>\n",
       "      <td>0.000000e+00</td>\n",
       "      <td>6.015000e+00</td>\n",
       "      <td>3.007500e+00</td>\n",
       "      <td>6.015000e+00</td>\n",
       "      <td>2.000000</td>\n",
       "      <td>0.000000</td>\n",
       "      <td>50.000000</td>\n",
       "      <td>0.000000</td>\n",
       "      <td>0.000000</td>\n",
       "      <td>0.000000</td>\n",
       "      <td>162.500000</td>\n",
       "      <td>265.000000</td>\n",
       "      <td>232815.000000</td>\n",
       "      <td>2</td>\n",
       "    </tr>\n",
       "    <tr>\n",
       "      <td>6.0</td>\n",
       "      <td>1.702300</td>\n",
       "      <td>1.143345e+03</td>\n",
       "      <td>1.708971e+03</td>\n",
       "      <td>1.398533e+03</td>\n",
       "      <td>2.353117e+03</td>\n",
       "      <td>32.495264</td>\n",
       "      <td>24.255651</td>\n",
       "      <td>15.906116</td>\n",
       "      <td>18.444924</td>\n",
       "      <td>33.243838</td>\n",
       "      <td>7.899094</td>\n",
       "      <td>255.004060</td>\n",
       "      <td>290.052774</td>\n",
       "      <td>44.261164</td>\n",
       "      <td>739</td>\n",
       "    </tr>\n",
       "    <tr>\n",
       "      <td>7.0</td>\n",
       "      <td>2.319149</td>\n",
       "      <td>7.163574e+02</td>\n",
       "      <td>1.284232e+03</td>\n",
       "      <td>9.949611e+02</td>\n",
       "      <td>2.441740e+03</td>\n",
       "      <td>21.565957</td>\n",
       "      <td>15.957173</td>\n",
       "      <td>7.439922</td>\n",
       "      <td>63.514962</td>\n",
       "      <td>13.721385</td>\n",
       "      <td>3.580023</td>\n",
       "      <td>113.970213</td>\n",
       "      <td>192.272340</td>\n",
       "      <td>36.331915</td>\n",
       "      <td>235</td>\n",
       "    </tr>\n",
       "    <tr>\n",
       "      <td>9.0</td>\n",
       "      <td>2.143382</td>\n",
       "      <td>9.419303e+02</td>\n",
       "      <td>2.012521e+03</td>\n",
       "      <td>1.354720e+03</td>\n",
       "      <td>2.965798e+03</td>\n",
       "      <td>19.169118</td>\n",
       "      <td>64.974235</td>\n",
       "      <td>5.713356</td>\n",
       "      <td>14.385244</td>\n",
       "      <td>11.151604</td>\n",
       "      <td>3.775561</td>\n",
       "      <td>116.860294</td>\n",
       "      <td>191.970588</td>\n",
       "      <td>13.345588</td>\n",
       "      <td>272</td>\n",
       "    </tr>\n",
       "    <tr>\n",
       "      <td>3.0</td>\n",
       "      <td>2.062400</td>\n",
       "      <td>1.261548e+03</td>\n",
       "      <td>1.977446e+03</td>\n",
       "      <td>1.590001e+03</td>\n",
       "      <td>3.156332e+03</td>\n",
       "      <td>53.436000</td>\n",
       "      <td>27.482961</td>\n",
       "      <td>15.489497</td>\n",
       "      <td>21.166367</td>\n",
       "      <td>27.748380</td>\n",
       "      <td>7.573845</td>\n",
       "      <td>45.864800</td>\n",
       "      <td>88.561600</td>\n",
       "      <td>13.872000</td>\n",
       "      <td>1250</td>\n",
       "    </tr>\n",
       "    <tr>\n",
       "      <td>0.0</td>\n",
       "      <td>2.412903</td>\n",
       "      <td>1.114924e+03</td>\n",
       "      <td>1.844587e+03</td>\n",
       "      <td>1.459526e+03</td>\n",
       "      <td>3.737015e+03</td>\n",
       "      <td>28.448387</td>\n",
       "      <td>13.811276</td>\n",
       "      <td>48.759000</td>\n",
       "      <td>10.267732</td>\n",
       "      <td>18.109359</td>\n",
       "      <td>9.119277</td>\n",
       "      <td>119.609677</td>\n",
       "      <td>207.874194</td>\n",
       "      <td>31.151613</td>\n",
       "      <td>310</td>\n",
       "    </tr>\n",
       "    <tr>\n",
       "      <td>8.0</td>\n",
       "      <td>2.935484</td>\n",
       "      <td>9.543218e+02</td>\n",
       "      <td>2.639240e+03</td>\n",
       "      <td>1.717707e+03</td>\n",
       "      <td>5.842792e+03</td>\n",
       "      <td>23.161290</td>\n",
       "      <td>8.760586</td>\n",
       "      <td>5.727256</td>\n",
       "      <td>6.467132</td>\n",
       "      <td>8.492945</td>\n",
       "      <td>72.200164</td>\n",
       "      <td>134.564516</td>\n",
       "      <td>217.580645</td>\n",
       "      <td>24.919355</td>\n",
       "      <td>62</td>\n",
       "    </tr>\n",
       "    <tr>\n",
       "      <td>1.0</td>\n",
       "      <td>8.097945</td>\n",
       "      <td>6.340557e+02</td>\n",
       "      <td>3.436218e+03</td>\n",
       "      <td>1.666175e+03</td>\n",
       "      <td>1.613403e+04</td>\n",
       "      <td>171.001370</td>\n",
       "      <td>25.457722</td>\n",
       "      <td>17.932039</td>\n",
       "      <td>21.023903</td>\n",
       "      <td>26.713733</td>\n",
       "      <td>8.928540</td>\n",
       "      <td>33.373288</td>\n",
       "      <td>316.908219</td>\n",
       "      <td>118.950000</td>\n",
       "      <td>1460</td>\n",
       "    </tr>\n",
       "    <tr>\n",
       "      <td>5.0</td>\n",
       "      <td>113.875000</td>\n",
       "      <td>-4.138462e+02</td>\n",
       "      <td>2.234196e+04</td>\n",
       "      <td>5.229214e+03</td>\n",
       "      <td>3.537058e+05</td>\n",
       "      <td>3976.375000</td>\n",
       "      <td>25.076741</td>\n",
       "      <td>17.913302</td>\n",
       "      <td>21.827250</td>\n",
       "      <td>23.142104</td>\n",
       "      <td>12.188619</td>\n",
       "      <td>1.250000</td>\n",
       "      <td>336.125000</td>\n",
       "      <td>2092.875000</td>\n",
       "      <td>8</td>\n",
       "    </tr>\n",
       "    <tr>\n",
       "      <td>2.0</td>\n",
       "      <td>1.000000</td>\n",
       "      <td>4.071085e+07</td>\n",
       "      <td>4.071085e+07</td>\n",
       "      <td>4.071085e+07</td>\n",
       "      <td>4.071085e+07</td>\n",
       "      <td>1.000000</td>\n",
       "      <td>0.000000</td>\n",
       "      <td>0.000000</td>\n",
       "      <td>0.000000</td>\n",
       "      <td>0.000000</td>\n",
       "      <td>100.000000</td>\n",
       "      <td>373.000000</td>\n",
       "      <td>373.000000</td>\n",
       "      <td>0.000000</td>\n",
       "      <td>1</td>\n",
       "    </tr>\n",
       "  </tbody>\n",
       "</table>\n",
       "</div>"
      ],
      "text/plain": [
       "               no_of_purchase           min           max          mean  \\\n",
       "final_cluster                                                             \n",
       "4.0                  1.500000  0.000000e+00  6.015000e+00  3.007500e+00   \n",
       "6.0                  1.702300  1.143345e+03  1.708971e+03  1.398533e+03   \n",
       "7.0                  2.319149  7.163574e+02  1.284232e+03  9.949611e+02   \n",
       "9.0                  2.143382  9.419303e+02  2.012521e+03  1.354720e+03   \n",
       "3.0                  2.062400  1.261548e+03  1.977446e+03  1.590001e+03   \n",
       "0.0                  2.412903  1.114924e+03  1.844587e+03  1.459526e+03   \n",
       "8.0                  2.935484  9.543218e+02  2.639240e+03  1.717707e+03   \n",
       "1.0                  8.097945  6.340557e+02  3.436218e+03  1.666175e+03   \n",
       "5.0                113.875000 -4.138462e+02  2.234196e+04  5.229214e+03   \n",
       "2.0                  1.000000  4.071085e+07  4.071085e+07  4.071085e+07   \n",
       "\n",
       "                        sum  no_of_products    categ_0    categ_1    categ_2  \\\n",
       "final_cluster                                                                  \n",
       "4.0            6.015000e+00        2.000000   0.000000  50.000000   0.000000   \n",
       "6.0            2.353117e+03       32.495264  24.255651  15.906116  18.444924   \n",
       "7.0            2.441740e+03       21.565957  15.957173   7.439922  63.514962   \n",
       "9.0            2.965798e+03       19.169118  64.974235   5.713356  14.385244   \n",
       "3.0            3.156332e+03       53.436000  27.482961  15.489497  21.166367   \n",
       "0.0            3.737015e+03       28.448387  13.811276  48.759000  10.267732   \n",
       "8.0            5.842792e+03       23.161290   8.760586   5.727256   6.467132   \n",
       "1.0            1.613403e+04      171.001370  25.457722  17.932039  21.023903   \n",
       "5.0            3.537058e+05     3976.375000  25.076741  17.913302  21.827250   \n",
       "2.0            4.071085e+07        1.000000   0.000000   0.000000   0.000000   \n",
       "\n",
       "                 categ_3     categ_4  LastPurchase  FirstPurchase  \\\n",
       "final_cluster                                                       \n",
       "4.0             0.000000    0.000000    162.500000     265.000000   \n",
       "6.0            33.243838    7.899094    255.004060     290.052774   \n",
       "7.0            13.721385    3.580023    113.970213     192.272340   \n",
       "9.0            11.151604    3.775561    116.860294     191.970588   \n",
       "3.0            27.748380    7.573845     45.864800      88.561600   \n",
       "0.0            18.109359    9.119277    119.609677     207.874194   \n",
       "8.0             8.492945   72.200164    134.564516     217.580645   \n",
       "1.0            26.713733    8.928540     33.373288     316.908219   \n",
       "5.0            23.142104   12.188619      1.250000     336.125000   \n",
       "2.0             0.000000  100.000000    373.000000     373.000000   \n",
       "\n",
       "               quantity_canceled  size  \n",
       "final_cluster                           \n",
       "4.0                232815.000000     2  \n",
       "6.0                    44.261164   739  \n",
       "7.0                    36.331915   235  \n",
       "9.0                    13.345588   272  \n",
       "3.0                    13.872000  1250  \n",
       "0.0                    31.151613   310  \n",
       "8.0                    24.919355    62  \n",
       "1.0                   118.950000  1460  \n",
       "5.0                  2092.875000     8  \n",
       "2.0                     0.000000     1  "
      ]
     },
     "execution_count": 322,
     "metadata": {},
     "output_type": "execute_result"
    }
   ],
   "source": [
    "result_df"
   ]
  },
  {
   "cell_type": "code",
   "execution_count": 334,
   "metadata": {},
   "outputs": [],
   "source": [
    "# Submission File\n",
    "subm = pd.DataFrame({\n",
    "        \"User_ID\": transactions_per_user[\"user_id\"],\n",
    "        \"Cluster\": transactions_per_user[\"final_cluster\"]\n",
    "    })\n",
    "\n",
    "subm.to_csv('submission.csv', index=False)"
   ]
  },
  {
   "cell_type": "code",
   "execution_count": null,
   "metadata": {},
   "outputs": [],
   "source": []
  }
 ],
 "metadata": {
  "kernelspec": {
   "display_name": "Python 3",
   "language": "python",
   "name": "python3"
  },
  "language_info": {
   "codemirror_mode": {
    "name": "ipython",
    "version": 3
   },
   "file_extension": ".py",
   "mimetype": "text/x-python",
   "name": "python",
   "nbconvert_exporter": "python",
   "pygments_lexer": "ipython3",
   "version": "3.7.4"
  }
 },
 "nbformat": 4,
 "nbformat_minor": 2
}
